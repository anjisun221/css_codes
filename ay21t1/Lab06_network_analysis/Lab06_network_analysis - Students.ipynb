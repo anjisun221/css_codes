{
 "cells": [
  {
   "cell_type": "markdown",
   "metadata": {},
   "source": [
    "Below button will open this notebook in Google CoLab! \n",
    "\n",
    "<a href=\"https://colab.research.google.com/github/anjisun221/css_codes/blob/main/ay21t1/Lab05_text_classification/Lab05_network_analysis%20-%20Students.ipynb\" target=\"_parent\"><img src=\"https://colab.research.google.com/assets/colab-badge.svg\" alt=\"Open In Colab\"/></a>\n"
   ]
  },
  {
   "cell_type": "markdown",
   "metadata": {
    "id": "x0fQ4D7MEs9P"
   },
   "source": [
    "# Lab 6 - Network Analysis\n",
    "\n",
    "In this lab, you will learn:\n",
    "* How to create a network using Python\n",
    "* How to find the important node in the network\n",
    "* Which MRT station is the most important in SG by using network analysis\n",
    "\n",
    "This lab is written by Jisun AN (jisunan@smu.edu.sg) and Michelle KAN (michellekan@smu.edu.sg).\n"
   ]
  },
  {
   "cell_type": "markdown",
   "metadata": {
    "id": "kt7m8QHPEs9U"
   },
   "source": [
    "Networks are all around us — such as road networks, internet networks, and online social networks like Facebook. Learning these techniques will give you valuable tools in your toolbelt to provide insight on a variety of data sources.\n",
    "\n",
    "A network graph contains both points and lines connecting those dots. The points are called as `Nodes` and the lines are called as `Edges.`\n",
    "\n",
    "Nodes can represent a variety of ‘actors’. In internet networks, nodes can represent web pages. In social networks, nodes can represent people.  In supply chain networks, nodes can represent organizations. In foreign relations networks, nodes can represent countries. While nodes can represent a variety of things, they are all the thing that has a relationship with another thing.\n",
    "\n",
    "Edges can represent a variety of ‘relationships’. In internet networks, edges can represent hyperlinks. In social networks, edges can represent connections. In supply chain networks, edges can represent the transfer of goods. In foreign relations networks, edges can represent policies. Like nodes, edges can represent a variety of things.\n",
    "\n",
    "Read more about basic concepts of network analysis [here](https://towardsdatascience.com/how-to-get-started-with-social-network-analysis-6d527685d374). \n"
   ]
  },
  {
   "cell_type": "markdown",
   "metadata": {
    "id": "E-MSc1FfEs9V"
   },
   "source": [
    "To do the network analysis, we use a python library callled `NetworX`.\n",
    "\n",
    "`NetworkX` is a Python package for the creation, manipulation, and study of the structure, dynamics, and functions of complex networks. See more about `NetworkX` [here](https://networkx.org/documentation/stable/tutorial.html).\n",
    "\n",
    "Let's install `NetowkrX` first."
   ]
  },
  {
   "cell_type": "code",
   "execution_count": null,
   "metadata": {
    "colab": {
     "base_uri": "https://localhost:8080/"
    },
    "executionInfo": {
     "elapsed": 3860,
     "status": "ok",
     "timestamp": 1634481892999,
     "user": {
      "displayName": "Michelle Kan",
      "photoUrl": "https://lh3.googleusercontent.com/a/default-user=s64",
      "userId": "02256448236685590888"
     },
     "user_tz": -480
    },
    "id": "194iPU_qEs9V",
    "outputId": "0a1e0baa-20c9-4c42-c13d-17560d02a7bd"
   },
   "outputs": [],
   "source": [
    "!pip install networkx"
   ]
  },
  {
   "cell_type": "markdown",
   "metadata": {
    "id": "BU0M2X7AEs9W"
   },
   "source": [
    "# Loading Graphs in NetworkX\n"
   ]
  },
  {
   "cell_type": "code",
   "execution_count": null,
   "metadata": {
    "executionInfo": {
     "elapsed": 5,
     "status": "ok",
     "timestamp": 1634481893000,
     "user": {
      "displayName": "Michelle Kan",
      "photoUrl": "https://lh3.googleusercontent.com/a/default-user=s64",
      "userId": "02256448236685590888"
     },
     "user_tz": -480
    },
    "id": "OEdJSE9jEs9X"
   },
   "outputs": [],
   "source": [
    "import networkx as nx\n",
    "import numpy as np\n",
    "import pandas as pd\n",
    "import operator\n",
    "\n",
    "import matplotlib.pyplot as plt\n",
    "%matplotlib inline"
   ]
  },
  {
   "cell_type": "markdown",
   "metadata": {
    "id": "Ip0WaaLjEs9Y"
   },
   "source": [
    "There are various ways to create a network. In this lab, we will create one by giving a list of edges by using `add_edges_from` function. See more details [here](https://networkx.org/documentation/stable/reference/classes/generated/networkx.Graph.add_edges_from.html). \n",
    "\n",
    "The input is a list of edges and each edge is defined as `(node1, node2).`\n",
    "\n",
    "Below is a toy example of network."
   ]
  },
  {
   "cell_type": "code",
   "execution_count": null,
   "metadata": {
    "executionInfo": {
     "elapsed": 374,
     "status": "ok",
     "timestamp": 1634481909049,
     "user": {
      "displayName": "Michelle Kan",
      "photoUrl": "https://lh3.googleusercontent.com/a/default-user=s64",
      "userId": "02256448236685590888"
     },
     "user_tz": -480
    },
    "id": "ds6gYhEEEs9Y",
    "scrolled": false
   },
   "outputs": [],
   "source": [
    "# Instantiate the graph\n",
    "G = nx.Graph()\n",
    "\n",
    "# add node/edge pairs\n",
    "G.add_edges_from([ (0, 1),\n",
    "                   (0, 2),\n",
    "                   (0, 3),\n",
    "                   (0, 5),\n",
    "                   (1, 3),\n",
    "                   (1, 6),\n",
    "                   (3, 4),\n",
    "                   (4, 5),\n",
    "                   (4, 7),\n",
    "                   (5, 8),\n",
    "                   (8, 9)])\n"
   ]
  },
  {
   "cell_type": "code",
   "execution_count": null,
   "metadata": {
    "colab": {
     "base_uri": "https://localhost:8080/",
     "height": 520
    },
    "executionInfo": {
     "elapsed": 553,
     "status": "ok",
     "timestamp": 1634482601082,
     "user": {
      "displayName": "Michelle Kan",
      "photoUrl": "https://lh3.googleusercontent.com/a/default-user=s64",
      "userId": "02256448236685590888"
     },
     "user_tz": -480
    },
    "id": "x3rnb8amEs9Z",
    "outputId": "b77885c6-159d-4de2-9dd6-34c7ce96ed56"
   },
   "outputs": [],
   "source": [
    "# draw the network G\n",
    "plt.figure(figsize=(10,9))\n",
    "nx.draw_networkx(G)"
   ]
  },
  {
   "cell_type": "markdown",
   "metadata": {
    "id": "fCum02KHEs9b"
   },
   "source": [
    "#### Node\n",
    "\n",
    "How many nodes does the network have? "
   ]
  },
  {
   "cell_type": "code",
   "execution_count": null,
   "metadata": {
    "colab": {
     "base_uri": "https://localhost:8080/"
    },
    "executionInfo": {
     "elapsed": 363,
     "status": "ok",
     "timestamp": 1634482021408,
     "user": {
      "displayName": "Michelle Kan",
      "photoUrl": "https://lh3.googleusercontent.com/a/default-user=s64",
      "userId": "02256448236685590888"
     },
     "user_tz": -480
    },
    "id": "DHUzL3bNEs9c",
    "outputId": "945ffb45-dd9f-401b-a58f-3089e10076d9"
   },
   "outputs": [],
   "source": [
    "num_nodes = nx.number_of_nodes(G)\n",
    "num_nodes"
   ]
  },
  {
   "cell_type": "markdown",
   "metadata": {
    "id": "JzCdvqVwEs9c"
   },
   "source": [
    "#### Edge\n",
    "\n",
    "How many edges does the network have?"
   ]
  },
  {
   "cell_type": "code",
   "execution_count": null,
   "metadata": {
    "colab": {
     "base_uri": "https://localhost:8080/"
    },
    "executionInfo": {
     "elapsed": 360,
     "status": "ok",
     "timestamp": 1634482040161,
     "user": {
      "displayName": "Michelle Kan",
      "photoUrl": "https://lh3.googleusercontent.com/a/default-user=s64",
      "userId": "02256448236685590888"
     },
     "user_tz": -480
    },
    "id": "3lZ7Vgo3Es9d",
    "outputId": "4a37187a-9354-4429-a669-5c72045fe252"
   },
   "outputs": [],
   "source": [
    "num_edges = nx.number_of_edges(G)\n",
    "num_edges"
   ]
  },
  {
   "cell_type": "markdown",
   "metadata": {
    "id": "Pt1vn1SwEs9d"
   },
   "source": [
    "This network has 10 nodes and their 11 edges. "
   ]
  },
  {
   "cell_type": "markdown",
   "metadata": {
    "id": "4GF8T7FXEs9d"
   },
   "source": [
    "#### [Optional] Advanced visualization\n",
    "\n",
    "You can change the node color and size as well.\n",
    "\n",
    "In this example, the color and size is depending on the node degree.\n",
    "The node degree is the number of edges the node has. \n"
   ]
  },
  {
   "cell_type": "code",
   "execution_count": null,
   "metadata": {
    "colab": {
     "base_uri": "https://localhost:8080/",
     "height": 513
    },
    "executionInfo": {
     "elapsed": 1120,
     "status": "ok",
     "timestamp": 1634482062772,
     "user": {
      "displayName": "Michelle Kan",
      "photoUrl": "https://lh3.googleusercontent.com/a/default-user=s64",
      "userId": "02256448236685590888"
     },
     "user_tz": -480
    },
    "id": "KDFzPcWUEs9d",
    "outputId": "f6042d4d-2541-4dc0-9e4d-c37dd3e50e1c"
   },
   "outputs": [],
   "source": [
    "# Draw graph with varying node color, node size, and edge width\n",
    "plt.figure(figsize=(10,7))\n",
    "\n",
    "node_color = [G.degree(v) for v in G]\n",
    "node_size = [1000*G.degree(v) for v in G]\n",
    "\n",
    "nx.draw_networkx(G, node_size=node_size, \n",
    "                 node_color=node_color, alpha=0.8,\n",
    "                 cmap=plt.cm.Blues)\n",
    "\n",
    "plt.axis('off')\n",
    "plt.tight_layout();\n"
   ]
  },
  {
   "cell_type": "markdown",
   "metadata": {
    "id": "hugla7xBEs9e"
   },
   "source": [
    "#### Distance\n",
    "Distance is the number of edges or hops between the starting and ending nodes following the shortest path. The distance between two nodes uses only the shortest path — the path that requires the least hops."
   ]
  },
  {
   "cell_type": "code",
   "execution_count": null,
   "metadata": {
    "colab": {
     "base_uri": "https://localhost:8080/"
    },
    "executionInfo": {
     "elapsed": 341,
     "status": "ok",
     "timestamp": 1634482082709,
     "user": {
      "displayName": "Michelle Kan",
      "photoUrl": "https://lh3.googleusercontent.com/a/default-user=s64",
      "userId": "02256448236685590888"
     },
     "user_tz": -480
    },
    "id": "agQaLDaMEs9e",
    "outputId": "ace47113-deff-422a-f396-29cf87fe48c8"
   },
   "outputs": [],
   "source": [
    "avg_shortest_path_length = nx.average_shortest_path_length(G)\n",
    "avg_shortest_path_length\n"
   ]
  },
  {
   "cell_type": "markdown",
   "metadata": {
    "id": "JY3soNv6Es9e"
   },
   "source": [
    "#### Connected Components and Bridges\n",
    "Not all nodes in a network will necessarily be connected to each other. A connected component is a group of nodes that are connected to each other, but not connected to another group of nodes. Another way of thinking of this is a group of connected nodes that have no path to a node from another group. Depending on the network, there can be many connected components, or even only one. The below diagram shows a network with two connected components.\n",
    "<img src=\"https://docs.google.com/uc?id=1a3xRut6NuxRY2PSE7HCZy-u0lYVI3eWR\" width=\"450\" align=\"center\"/>"
   ]
  },
  {
   "cell_type": "code",
   "execution_count": null,
   "metadata": {
    "colab": {
     "base_uri": "https://localhost:8080/"
    },
    "executionInfo": {
     "elapsed": 354,
     "status": "ok",
     "timestamp": 1634482629642,
     "user": {
      "displayName": "Michelle Kan",
      "photoUrl": "https://lh3.googleusercontent.com/a/default-user=s64",
      "userId": "02256448236685590888"
     },
     "user_tz": -480
    },
    "id": "_GwKIvLWEs9f",
    "outputId": "acf6fb5a-90c8-4fb9-cb49-ee02ab2e0972"
   },
   "outputs": [],
   "source": [
    "n_conn_comp = len(list(nx.connected_components(G)))\n",
    "n_conn_comp\n"
   ]
  },
  {
   "cell_type": "code",
   "execution_count": null,
   "metadata": {
    "id": "HTWS72hpEs9f"
   },
   "outputs": [],
   "source": []
  },
  {
   "cell_type": "markdown",
   "metadata": {
    "id": "o7Madz6BEs9f"
   },
   "source": [
    "# Node Importance / Centrality\n",
    "\n",
    "In this lab, we will we focus on node importance/centrality. In other words, we will try to find the most important node in a network. \n",
    "\n",
    "Centrality is a collection of metrics used to quantify how important and influential a specific node is to the network as a whole. It is important to remember that centrality measures are used on specific nodes within the network, and do not provide information on a network level. There are several centrality measures, but this guide will cover degree, closeness, and betweenness.\n",
    "\n",
    "* **Degree**: A node’s degree is the **number of edges the node has**. In an undirected network, there is only one measure for degree. For example, if node A has edges connecting it to Node B and Node D, then node A’s degree is 2.\n",
    "* **Closeness**: Closeness measures how well connected a node is to every other node in the network. A node’s closeness is the **average number of hops required to reach every other node** in the network. A hop is the path of an edge from one node to another. For example, as seen in the diagram below, Node A is connected to Node B, and Node B is connected to Node C. For Node A to reach Node C it would take two hops.\n",
    "* **Betweenness**: Betweenness measures the importance of a node’s connections in allowing nodes to reach other nodes (in a hop). A node’s betweenness is the **number of shortest paths the node is included in divided by the total number of shortest paths**. This will provide the percentage of shortest paths in the network that the node is in.\n",
    "\n",
    "\n"
   ]
  },
  {
   "cell_type": "code",
   "execution_count": null,
   "metadata": {
    "executionInfo": {
     "elapsed": 380,
     "status": "ok",
     "timestamp": 1634482655616,
     "user": {
      "displayName": "Michelle Kan",
      "photoUrl": "https://lh3.googleusercontent.com/a/default-user=s64",
      "userId": "02256448236685590888"
     },
     "user_tz": -480
    },
    "id": "G_Ju1lNmEs9f"
   },
   "outputs": [],
   "source": [
    "# Compute degree centrality\n",
    "dc = nx.degree_centrality(G)\n",
    "\n",
    "# Compute closeness centrality\n",
    "cc = nx.closeness_centrality(G)\n",
    "\n",
    "# Compute Betweenness centrality\n",
    "bc = nx.betweenness_centrality(G)\n"
   ]
  },
  {
   "cell_type": "code",
   "execution_count": null,
   "metadata": {
    "colab": {
     "base_uri": "https://localhost:8080/"
    },
    "executionInfo": {
     "elapsed": 370,
     "status": "ok",
     "timestamp": 1634482667901,
     "user": {
      "displayName": "Michelle Kan",
      "photoUrl": "https://lh3.googleusercontent.com/a/default-user=s64",
      "userId": "02256448236685590888"
     },
     "user_tz": -480
    },
    "id": "nJ-D7buVEs9f",
    "outputId": "f3e29b5b-0c6b-4842-f49e-bfaa033ad442"
   },
   "outputs": [],
   "source": [
    "dc"
   ]
  },
  {
   "cell_type": "code",
   "execution_count": null,
   "metadata": {
    "colab": {
     "base_uri": "https://localhost:8080/"
    },
    "executionInfo": {
     "elapsed": 343,
     "status": "ok",
     "timestamp": 1634482695899,
     "user": {
      "displayName": "Michelle Kan",
      "photoUrl": "https://lh3.googleusercontent.com/a/default-user=s64",
      "userId": "02256448236685590888"
     },
     "user_tz": -480
    },
    "id": "-duby3nTEs9g",
    "outputId": "98faf3a0-cc57-4fab-e583-b3f6a11a7d95"
   },
   "outputs": [],
   "source": [
    "cc"
   ]
  },
  {
   "cell_type": "code",
   "execution_count": null,
   "metadata": {
    "colab": {
     "base_uri": "https://localhost:8080/"
    },
    "executionInfo": {
     "elapsed": 4,
     "status": "ok",
     "timestamp": 1634482731657,
     "user": {
      "displayName": "Michelle Kan",
      "photoUrl": "https://lh3.googleusercontent.com/a/default-user=s64",
      "userId": "02256448236685590888"
     },
     "user_tz": -480
    },
    "id": "3T8jxuFXEs9g",
    "outputId": "03467645-c25e-45fb-8555-9a4ac8d79a17"
   },
   "outputs": [],
   "source": [
    "bc"
   ]
  },
  {
   "cell_type": "markdown",
   "metadata": {
    "id": "7QYAn1p6Es9g"
   },
   "source": [
    "#### Q1. Which node has the highest degree centrality?\n",
    "\n",
    "[Hint] the result (`dc`) is a `dictionary` and your can use `operator` to sort the items based on their values.  "
   ]
  },
  {
   "cell_type": "code",
   "execution_count": null,
   "metadata": {
    "id": "JnVkKiAZEs9g"
   },
   "outputs": [],
   "source": [
    "# Your Code Here "
   ]
  },
  {
   "cell_type": "markdown",
   "metadata": {
    "id": "mK-kT63VEs9g"
   },
   "source": [
    "Your answer: ?? "
   ]
  },
  {
   "cell_type": "markdown",
   "metadata": {
    "id": "mshJTYoCEs9h"
   },
   "source": [
    "#### Q2. Which node has the highest closeness centrality?"
   ]
  },
  {
   "cell_type": "code",
   "execution_count": null,
   "metadata": {
    "id": "jACGkPT4Es9h"
   },
   "outputs": [],
   "source": [
    "# Your Code Here "
   ]
  },
  {
   "cell_type": "markdown",
   "metadata": {
    "id": "xvm7QbxxEs9h"
   },
   "source": [
    "Your answer: ?? "
   ]
  },
  {
   "cell_type": "markdown",
   "metadata": {
    "id": "8bSAfMu1Es9i"
   },
   "source": [
    "#### Q3. Which node has the highest betweenness centrality?"
   ]
  },
  {
   "cell_type": "code",
   "execution_count": null,
   "metadata": {
    "id": "EugGN3VEEs9i"
   },
   "outputs": [],
   "source": [
    "# Your Code Here "
   ]
  },
  {
   "cell_type": "markdown",
   "metadata": {
    "id": "l0ziSgCTEs9i"
   },
   "source": [
    "Your answer: ?? "
   ]
  },
  {
   "cell_type": "code",
   "execution_count": null,
   "metadata": {
    "id": "6EDGRmDSEs9j"
   },
   "outputs": [],
   "source": []
  },
  {
   "cell_type": "code",
   "execution_count": null,
   "metadata": {
    "id": "r54X3ZSSEs9j"
   },
   "outputs": [],
   "source": []
  },
  {
   "cell_type": "markdown",
   "metadata": {
    "id": "xa0UQKu_Es9j"
   },
   "source": [
    "# Which MRT station is most important? \n",
    "\n",
    "\n",
    "![A snapshot of MRT network](https://raw.githubusercontent.com/anjisun221/css_codes/main/ay21t1/Lab06_network_analysis/lab06_mrt_stations.png)\n",
    "\n",
    "\n",
    "Your task is to build an MRT network by using the `networkx` library. Due to the time constraint, we provide an image of a partial MRT network (check the above image). \n",
    "\n",
    "The outline of the basic tasks is as follows:\n",
    "1. Make an edge list whose edge represents two MRT stations that are connected by any MRT line.\n",
    "2. Create an MRT network based on the edge list by using `nx.Graph()` and `add_edges_from()` function.\n",
    "3. Visualize an MRT network by using `draw_networkx()`.\n",
    "\n",
    "You then get a basic MRT network. Then, you can enhance the visualization of the network by degree of nodes (e.g., size or color).\n",
    "\n"
   ]
  },
  {
   "cell_type": "markdown",
   "metadata": {
    "id": "1wVy67uMEs9j"
   },
   "source": [
    "#### Task 1. Complete the below edge list whose edge represents two MRT stations that are connected by any MRT line. "
   ]
  },
  {
   "cell_type": "code",
   "execution_count": null,
   "metadata": {
    "id": "ib_2jj0jEs9j"
   },
   "outputs": [],
   "source": [
    "mrt_stations =  [#NE\n",
    "                  ('Little India', 'Dhoby Ghaut'),\n",
    "                  # YOUR CODE HERE\n",
    "                  #NS\n",
    "                  ('Newton', 'Orchard'),    \n",
    "                  # YOUR CODE HERE\n",
    "                  #DT\n",
    "                  ('Newton', 'Little India'),                      \n",
    "                  # YOUR CODE HERE     \n",
    "                  #EW\n",
    "                  ('Paya Lebar', 'Aljunied'),    \n",
    "                  # YOUR CODE HERE\n",
    "                  #CC\n",
    "                  ('MacPherson', 'Paya Lebar'),            \n",
    "                  # YOUR CODE HERE\n",
    "                ]"
   ]
  },
  {
   "cell_type": "markdown",
   "metadata": {
    "id": "qPicBlqXEs9k"
   },
   "source": [
    "#### Task 2. Create an MRT network based on the edge list by using `nx.Graph()` and `add_edges_from()` function."
   ]
  },
  {
   "cell_type": "code",
   "execution_count": null,
   "metadata": {
    "id": "o4QCxylPEs9k",
    "outputId": "e8b54aaf-4f7d-426f-c400-62d156b8cd5e"
   },
   "outputs": [],
   "source": [
    "# Instantiate the graph\n",
    "G = # YOUR CODE HERE\n",
    "# add node/edge pairs\n",
    "# YOUR CODE HERE"
   ]
  },
  {
   "cell_type": "markdown",
   "metadata": {
    "id": "qld36Wf9Es9k"
   },
   "source": [
    "#### Task 3. Visualize the MRT network by using `draw_networkx()`."
   ]
  },
  {
   "cell_type": "code",
   "execution_count": null,
   "metadata": {
    "id": "o7CtRaEYEs9k",
    "outputId": "300676d5-3a67-4953-b917-32374940b9e3"
   },
   "outputs": [],
   "source": [
    "# draw the network G\n",
    "plt.figure(figsize=(10,9))\n",
    "# YOUR CODE HERE"
   ]
  },
  {
   "cell_type": "markdown",
   "metadata": {
    "id": "bqUj75RoEs9l"
   },
   "source": [
    "#### [Optional] Visualize the MRT network which node color and size are proportionate to the node degree. "
   ]
  },
  {
   "cell_type": "code",
   "execution_count": null,
   "metadata": {
    "id": "RjEgXxBOEs9l"
   },
   "outputs": [],
   "source": [
    "# Draw graph with varying node color and node size\n",
    "plt.figure(figsize=(10,7))\n",
    "\n",
    "# YOUR CODE HERE\n",
    "\n",
    "plt.axis('off')\n",
    "plt.tight_layout();"
   ]
  },
  {
   "cell_type": "code",
   "execution_count": null,
   "metadata": {
    "id": "gIchpDrNEs9l"
   },
   "outputs": [],
   "source": []
  },
  {
   "cell_type": "markdown",
   "metadata": {
    "id": "ANhbrdzTEs9l"
   },
   "source": [
    "## Basic characteristics of an MRT network\n",
    "\n",
    "We are interested in how many nodes and edges the MRT network have."
   ]
  },
  {
   "cell_type": "markdown",
   "metadata": {
    "id": "AxjfzOMIEs9l"
   },
   "source": [
    "#### Q4. How many nodes does the MRT network have?"
   ]
  },
  {
   "cell_type": "code",
   "execution_count": null,
   "metadata": {
    "id": "yRgUDJADEs9l"
   },
   "outputs": [],
   "source": [
    "# YOUR CODE HERE"
   ]
  },
  {
   "cell_type": "markdown",
   "metadata": {
    "id": "x0ACDChMEs9m"
   },
   "source": [
    "Your answer of Q4: ???"
   ]
  },
  {
   "cell_type": "markdown",
   "metadata": {
    "id": "zuV8JkRHEs9m"
   },
   "source": [
    "#### Q5. How many edges does the MRT network have?"
   ]
  },
  {
   "cell_type": "code",
   "execution_count": null,
   "metadata": {
    "id": "ac4O63biEs9m"
   },
   "outputs": [],
   "source": [
    "# YOUR CODE HERE"
   ]
  },
  {
   "cell_type": "markdown",
   "metadata": {
    "id": "bpmiOIKWEs9m"
   },
   "source": [
    "Your answer of Q5: ???"
   ]
  },
  {
   "cell_type": "markdown",
   "metadata": {
    "id": "3xiJmF-FEs9n"
   },
   "source": [
    "## Node importance\n",
    "\n",
    "As we discussed earlier, node importance can be defined in various ways.<br/>\n",
    "\n",
    "Here we compute three types of centrality, which are degree centrality, closeness centrality, and betweenness centrality.<br/>\n",
    "\n",
    "Your task it to get the **most** important MRT station in terms of each of three centrality measures."
   ]
  },
  {
   "cell_type": "markdown",
   "metadata": {
    "id": "KdUEZ2JREs9n"
   },
   "source": [
    "#### Q6. What is the first and second most important MRT station according to the degree centrality?"
   ]
  },
  {
   "cell_type": "code",
   "execution_count": null,
   "metadata": {
    "id": "g1lH19eSEs9n"
   },
   "outputs": [],
   "source": [
    "# YOUR CODE HERE"
   ]
  },
  {
   "cell_type": "markdown",
   "metadata": {
    "id": "0ZlgExP0Es9n"
   },
   "source": [
    "Your answer of Q6: ???"
   ]
  },
  {
   "cell_type": "markdown",
   "metadata": {
    "id": "Z5DKpxTkEs9n"
   },
   "source": [
    "#### Q7. What is the first and second most important MRT station according to the closeness centrality?"
   ]
  },
  {
   "cell_type": "code",
   "execution_count": null,
   "metadata": {
    "id": "9SFtCWroEs9o"
   },
   "outputs": [],
   "source": [
    "# YOUR CODE HERE"
   ]
  },
  {
   "cell_type": "markdown",
   "metadata": {
    "id": "tTE_GTXjEs9o"
   },
   "source": [
    "Your answer of Q7: ???"
   ]
  },
  {
   "cell_type": "markdown",
   "metadata": {
    "id": "dPKI26VpEs9o"
   },
   "source": [
    "#### Q8. What is the first and second most important MRT station according to the betweenness centrality?"
   ]
  },
  {
   "cell_type": "code",
   "execution_count": null,
   "metadata": {
    "id": "rcUUHuNZEs9o"
   },
   "outputs": [],
   "source": [
    "# YOUR CODE HERE"
   ]
  },
  {
   "cell_type": "markdown",
   "metadata": {
    "id": "HSxeKWMrEs9o"
   },
   "source": [
    "Your answer of Q8: ???"
   ]
  },
  {
   "cell_type": "code",
   "execution_count": null,
   "metadata": {
    "id": "bXjyvso6Es9p"
   },
   "outputs": [],
   "source": []
  },
  {
   "cell_type": "markdown",
   "metadata": {
    "id": "eu9YgCBuEs9p"
   },
   "source": [
    "## Network reslience\n",
    "\n",
    "Here we examine how the entire MRT network function performs when a certain MRT station does not work (Imagine an MRT station got flooded. Then, the train cannot go through that station) . There are two measures we can use in this scenario.\n",
    "\n",
    "One is the number of connected components when one node is removed from the network. <br/>\n",
    "If the number of connected component increases, it means that some set of MRT stations are **disconnected** from the rest of the network, indicating that people in those stations cannot reach other stations in the rest of the network.\n",
    "\n",
    "The other is the average shortest path length when one node is removed from the network. <br/> \n",
    "If the average shortest path length increases, it means that traveling from one station to the another station becomes longer. \n",
    "\n",
    "Your task is to measure the impact of each station's removal from the network by using `connected_components()` and `average_shortest_path_length()` functions."
   ]
  },
  {
   "cell_type": "markdown",
   "metadata": {
    "id": "XnEhNoVjEs9p"
   },
   "source": [
    "#### Task 4. For each station, remove that station from the MRT network, and compute the number of connected components (CC) of that network. \n",
    "\n",
    "Hints:\n",
    "* To loop through nodes in the network, you can use `nodes()` function. See more details [here](https://networkx.org/documentation/networkx-1.10/reference/generated/networkx.Graph.nodes.html). \n",
    "* To remove a node from the network, you can use `remove_node()` function. see more details [here](https://networkx.org/documentation/stable/reference/classes/generated/networkx.Graph.remove_node.html)\n"
   ]
  },
  {
   "cell_type": "code",
   "execution_count": null,
   "metadata": {
    "id": "Bp7UJqN0Es9p"
   },
   "outputs": [],
   "source": [
    "for each_node in # YOUR CODE HERE\n",
    "    \n",
    "    # YOUR CODE HERE\n",
    "    \n",
    "    print(f'When [{each_node}] station does not work, the number of CC becomes {n_conn_comp}.')\n",
    "    "
   ]
  },
  {
   "cell_type": "markdown",
   "metadata": {
    "id": "6YZX1LJIEs9q"
   },
   "source": [
    "#### Q9. How many stations have more than one connected component? "
   ]
  },
  {
   "cell_type": "markdown",
   "metadata": {
    "id": "gmaJYJUnEs9q"
   },
   "source": [
    "Your answer of Q9: ???"
   ]
  },
  {
   "cell_type": "markdown",
   "metadata": {
    "id": "vNd_Sl2DEs9q"
   },
   "source": [
    "#### Q10. Based on the result of the Task 4, is the given MRT station network resilient? "
   ]
  },
  {
   "cell_type": "markdown",
   "metadata": {
    "id": "tcnFEOI5Es9q"
   },
   "source": [
    "Your answer of Q10: ???"
   ]
  },
  {
   "cell_type": "markdown",
   "metadata": {
    "id": "kTrgVkkqEs9r"
   },
   "source": [
    "#### Task 5. For each station, remove that station from the MRT network, and compute the average shortest path legnth of that network. \n",
    "\n",
    "The break down of one station can have an impact on the travel time between any two given stations. \n",
    "Let's try to find the station that have the largest impact, in other words, the station that exntends the travel time the longest if it got broken time. \n",
    "\n",
    "Hints:\n",
    "* To loop through nodes in the network, you can use `nodes()` function. See more details [here](https://networkx.org/documentation/networkx-1.10/reference/generated/networkx.Graph.nodes.html). \n",
    "* To remove a node from the network, you can use `remove_node()` function. see more details [here](https://networkx.org/documentation/stable/reference/classes/generated/networkx.Graph.remove_node.html)\n"
   ]
  },
  {
   "cell_type": "code",
   "execution_count": null,
   "metadata": {
    "id": "Ygij6lz8Es9r"
   },
   "outputs": [],
   "source": [
    "# YOUR CODE HERE"
   ]
  },
  {
   "cell_type": "markdown",
   "metadata": {
    "id": "N-8-MLrbEs9r"
   },
   "source": [
    "#### Q11. Which station have the largest average shortest path length if removed from the network?"
   ]
  },
  {
   "cell_type": "markdown",
   "metadata": {
    "id": "zdavUp8xEs9r"
   },
   "source": [
    "Your answer to Q11: ???"
   ]
  },
  {
   "cell_type": "code",
   "execution_count": null,
   "metadata": {
    "id": "DzXRRG_qEs9s"
   },
   "outputs": [],
   "source": []
  },
  {
   "cell_type": "code",
   "execution_count": null,
   "metadata": {
    "id": "-7EejYvIEs9s"
   },
   "outputs": [],
   "source": []
  },
  {
   "cell_type": "code",
   "execution_count": null,
   "metadata": {
    "id": "cDCKU6a1Es9s"
   },
   "outputs": [],
   "source": []
  }
 ],
 "metadata": {
  "colab": {
   "collapsed_sections": [],
   "name": "Lab06_network_analysis.ipynb",
   "provenance": [],
   "toc_visible": true
  },
  "kernelspec": {
   "display_name": "Python 3",
   "language": "python",
   "name": "python3"
  },
  "language_info": {
   "codemirror_mode": {
    "name": "ipython",
    "version": 3
   },
   "file_extension": ".py",
   "mimetype": "text/x-python",
   "name": "python",
   "nbconvert_exporter": "python",
   "pygments_lexer": "ipython3",
   "version": "3.8.5"
  }
 },
 "nbformat": 4,
 "nbformat_minor": 1
}
