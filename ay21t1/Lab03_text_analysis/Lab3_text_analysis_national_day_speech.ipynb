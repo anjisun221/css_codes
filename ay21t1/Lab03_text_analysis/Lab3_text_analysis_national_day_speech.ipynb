{
 "cells": [
  {
   "cell_type": "markdown",
   "metadata": {},
   "source": [
    "<a href=\"https://colab.research.google.com/github/anjisun221/css_codes/blob/main/ay21t1/Lab03_text_analysis/Lab3_text_analysis_national_day_speech.ipynb\" target=\"_parent\"><img src=\"https://colab.research.google.com/assets/colab-badge.svg\" alt=\"Open In Colab\"/></a>\n"
   ]
  },
  {
   "cell_type": "markdown",
   "metadata": {
    "id": "pnxbJzbv_Jsr"
   },
   "source": [
    "# Lab 3 - Text-as-Data, National Day Speech analysis\n",
    "\n",
    "In this lab, you will learn:\n",
    "* How to clean texts\n",
    "* How to count words from texts and draw wordcloud from word frequencies\n",
    "* How to do comparative text analysis by extracting representative words from a corpus using lod-odds analysis\n",
    "\n",
    "This lab is written by Jisun AN (jisunan@smu.edu.sg) and Michelle KAN (michellekan@smu.edu.sg).\n"
   ]
  },
  {
   "cell_type": "code",
   "execution_count": null,
   "metadata": {},
   "outputs": [],
   "source": [
    "# Add Google Drive as an accessible path (Optional if you are running from Jupyter Notebook)\n",
    "from google.colab import drive\n",
    "drive.mount('/content/drive')\n",
    "\n",
    "# change path to the designated google drive folder\n",
    "# otherwise, data will be saved in /content folder which you may have issue locating\n",
    "%cd /content/drive/My Drive/Colab Notebooks/"
   ]
  },
  {
   "cell_type": "code",
   "execution_count": null,
   "metadata": {},
   "outputs": [],
   "source": [
    "mypath = \".\""
   ]
  },
  {
   "cell_type": "markdown",
   "metadata": {},
   "source": [
    "# 0. import utility functions\n",
    "\n",
    "#### We've created a few utility functions. \n",
    "\n",
    "```read_word_count_file()``` : the input is csv file and the output is dictionary of word counts where the key is word and the value is the frequency of the words. e.g., {'singapore': 6472873} The input file must be a CSV file where each line is a pair of word and its counrt (e.g., singapore, 6472873).  \n",
    "\n",
    "\n",
    "```read_word_count_file_online()``` : this helps to import the data from online file. The input is url of the csv file and the output is dictionary of word counts where the key is word and the value is the frequency of the words. e.g., {'singapore': 6472873} The input file must be a CSV file where each line is a pair of word and its counrt (e.g., singapore, 6472873).  "
   ]
  },
  {
   "cell_type": "code",
   "execution_count": null,
   "metadata": {},
   "outputs": [],
   "source": [
    "### Let's download ```smt203util.py``` Below code should download the file in the same folder where your jupyter notebook is. \n",
    "!wget https://raw.githubusercontent.com/anjisun221/css_codes/main/ay21t1/Lab03_text_analysis/smt203util.py\n"
   ]
  },
  {
   "cell_type": "code",
   "execution_count": null,
   "metadata": {},
   "outputs": [],
   "source": [
    "### Let's import all function from smt203util! \n",
    "from smt203util import *\n"
   ]
  },
  {
   "cell_type": "markdown",
   "metadata": {
    "id": "VBe-9KkA_Jsw"
   },
   "source": [
    "# 1. Getting the data\n",
    "\n",
    "In this lab, we will use national day speech data. \n",
    "\n",
    "This data is manually annotated by humans according to their aspect and sentiment. \n",
    "\n",
    "One review may have two or more aspects and thus two ore more sentiment. \n",
    "\n",
    "We note that we excluded those conflicting reviews.\n",
    "\n",
    "\"restaurant_reviews.tsv\" is tab-separated file which fields are: \n",
    "\n",
    "- `sid` is review id\n",
    "- `text` is a review\n",
    "- `aspect` refers to the review area of interest. It consists of any of these five labels: <i>food, service, ambience, price</i> \n",
    "- `sentiment` consists of one of these labels: <i>positive, negative, neutral</i>"
   ]
  },
  {
   "cell_type": "code",
   "execution_count": 2,
   "metadata": {
    "executionInfo": {
     "elapsed": 2136,
     "status": "ok",
     "timestamp": 1612159073697,
     "user": {
      "displayName": "Jisun An",
      "photoUrl": "",
      "userId": "09226046566822916181"
     },
     "user_tz": -480
    },
    "id": "7Yig1Syu_Jsx"
   },
   "outputs": [],
   "source": [
    "### Import Pandas to analyze the data\n",
    "import pandas as pd\n"
   ]
  },
  {
   "cell_type": "code",
   "execution_count": 59,
   "metadata": {},
   "outputs": [
    {
     "name": "stdout",
     "output_type": "stream",
     "text": [
      "(1723, 3)\n"
     ]
    },
    {
     "data": {
      "text/html": [
       "<div>\n",
       "<style scoped>\n",
       "    .dataframe tbody tr th:only-of-type {\n",
       "        vertical-align: middle;\n",
       "    }\n",
       "\n",
       "    .dataframe tbody tr th {\n",
       "        vertical-align: top;\n",
       "    }\n",
       "\n",
       "    .dataframe thead th {\n",
       "        text-align: right;\n",
       "    }\n",
       "</style>\n",
       "<table border=\"1\" class=\"dataframe\">\n",
       "  <thead>\n",
       "    <tr style=\"text-align: right;\">\n",
       "      <th></th>\n",
       "      <th>speech</th>\n",
       "      <th>line_num</th>\n",
       "      <th>text</th>\n",
       "    </tr>\n",
       "  </thead>\n",
       "  <tbody>\n",
       "    <tr>\n",
       "      <th>0</th>\n",
       "      <td>1966_lee_kuan_yew</td>\n",
       "      <td>1</td>\n",
       "      <td>It is useful this evening not so much to go ba...</td>\n",
       "    </tr>\n",
       "    <tr>\n",
       "      <th>1</th>\n",
       "      <td>1966_lee_kuan_yew</td>\n",
       "      <td>2</td>\n",
       "      <td>And I say that we have no regrets.</td>\n",
       "    </tr>\n",
       "    <tr>\n",
       "      <th>2</th>\n",
       "      <td>1966_lee_kuan_yew</td>\n",
       "      <td>3</td>\n",
       "      <td>We are completely unrepentant that we set out ...</td>\n",
       "    </tr>\n",
       "    <tr>\n",
       "      <th>3</th>\n",
       "      <td>1966_lee_kuan_yew</td>\n",
       "      <td>4</td>\n",
       "      <td>And we, in the end, on balance decided to carr...</td>\n",
       "    </tr>\n",
       "    <tr>\n",
       "      <th>4</th>\n",
       "      <td>1966_lee_kuan_yew</td>\n",
       "      <td>5</td>\n",
       "      <td>Nothing has altered, not the basic data nor ou...</td>\n",
       "    </tr>\n",
       "  </tbody>\n",
       "</table>\n",
       "</div>"
      ],
      "text/plain": [
       "              speech  line_num  \\\n",
       "0  1966_lee_kuan_yew         1   \n",
       "1  1966_lee_kuan_yew         2   \n",
       "2  1966_lee_kuan_yew         3   \n",
       "3  1966_lee_kuan_yew         4   \n",
       "4  1966_lee_kuan_yew         5   \n",
       "\n",
       "                                                text  \n",
       "0  It is useful this evening not so much to go ba...  \n",
       "1                 And I say that we have no regrets.  \n",
       "2  We are completely unrepentant that we set out ...  \n",
       "3  And we, in the end, on balance decided to carr...  \n",
       "4  Nothing has altered, not the basic data nor ou...  "
      ]
     },
     "execution_count": 59,
     "metadata": {},
     "output_type": "execute_result"
    }
   ],
   "source": [
    "### Read the file using Pandas 'read_table' function (either read_table, read_csv is fine)\n",
    "df = pd.read_table(\"https://raw.githubusercontent.com/anjisun221/css_codes/main/ay21t1/Lab03_text_analysis/national_day_speech_1996_1991_2004_2020.tsv\", sep=\"\\t\")\n",
    "# df = pd.read_table(\"./national_day_speech_1996_1991_2004_2020_extended.tsv\", sep=\"\\t\")\n",
    "\n",
    "### print the size of data frame (data frame == table)\n",
    "print(df.shape)\n",
    "df.head()\n"
   ]
  },
  {
   "cell_type": "code",
   "execution_count": 47,
   "metadata": {},
   "outputs": [
    {
     "data": {
      "text/html": [
       "<div>\n",
       "<style scoped>\n",
       "    .dataframe tbody tr th:only-of-type {\n",
       "        vertical-align: middle;\n",
       "    }\n",
       "\n",
       "    .dataframe tbody tr th {\n",
       "        vertical-align: top;\n",
       "    }\n",
       "\n",
       "    .dataframe thead th {\n",
       "        text-align: right;\n",
       "    }\n",
       "</style>\n",
       "<table border=\"1\" class=\"dataframe\">\n",
       "  <thead>\n",
       "    <tr style=\"text-align: right;\">\n",
       "      <th></th>\n",
       "      <th>speech</th>\n",
       "      <th>line_num</th>\n",
       "      <th>text</th>\n",
       "    </tr>\n",
       "  </thead>\n",
       "  <tbody>\n",
       "    <tr>\n",
       "      <th>0</th>\n",
       "      <td>1966_lee_kuan_yew</td>\n",
       "      <td>1</td>\n",
       "      <td>It is useful this evening not so much to go back to the past – the whys and the wherefores – to apportion blame but more to search deep into our h...</td>\n",
       "    </tr>\n",
       "    <tr>\n",
       "      <th>1</th>\n",
       "      <td>1966_lee_kuan_yew</td>\n",
       "      <td>2</td>\n",
       "      <td>And I say that we have no regrets.</td>\n",
       "    </tr>\n",
       "    <tr>\n",
       "      <th>2</th>\n",
       "      <td>1966_lee_kuan_yew</td>\n",
       "      <td>3</td>\n",
       "      <td>We are completely unrepentant that we set out to build a multiracial and, for some time, a multilingual, multicultural community, to give a satisf...</td>\n",
       "    </tr>\n",
       "    <tr>\n",
       "      <th>3</th>\n",
       "      <td>1966_lee_kuan_yew</td>\n",
       "      <td>4</td>\n",
       "      <td>And we, in the end, on balance decided to carry on with our multiracial experiment – if you like to call it – just in Singapore alone rather than ...</td>\n",
       "    </tr>\n",
       "    <tr>\n",
       "      <th>4</th>\n",
       "      <td>1966_lee_kuan_yew</td>\n",
       "      <td>5</td>\n",
       "      <td>Nothing has altered, not the basic data nor our basic thinking.</td>\n",
       "    </tr>\n",
       "  </tbody>\n",
       "</table>\n",
       "</div>"
      ],
      "text/plain": [
       "              speech  line_num  \\\n",
       "0  1966_lee_kuan_yew         1   \n",
       "1  1966_lee_kuan_yew         2   \n",
       "2  1966_lee_kuan_yew         3   \n",
       "3  1966_lee_kuan_yew         4   \n",
       "4  1966_lee_kuan_yew         5   \n",
       "\n",
       "                                                                                                                                                    text  \n",
       "0  It is useful this evening not so much to go back to the past – the whys and the wherefores – to apportion blame but more to search deep into our h...  \n",
       "1                                                                                                                     And I say that we have no regrets.  \n",
       "2  We are completely unrepentant that we set out to build a multiracial and, for some time, a multilingual, multicultural community, to give a satisf...  \n",
       "3  And we, in the end, on balance decided to carry on with our multiracial experiment – if you like to call it – just in Singapore alone rather than ...  \n",
       "4                                                                                        Nothing has altered, not the basic data nor our basic thinking.  "
      ]
     },
     "execution_count": 47,
     "metadata": {},
     "output_type": "execute_result"
    }
   ],
   "source": [
    "### to see the entire text \n",
    "pd.set_option('display.max_colwidth', 150)\n",
    "df.head()"
   ]
  },
  {
   "cell_type": "code",
   "execution_count": 48,
   "metadata": {},
   "outputs": [
    {
     "data": {
      "text/plain": [
       "array(['1966_lee_kuan_yew', '1991_goh_chok_tong', '2004_lee_hsien_loong',\n",
       "       '2020_lee_hsien_loong'], dtype=object)"
      ]
     },
     "execution_count": 48,
     "metadata": {},
     "output_type": "execute_result"
    }
   ],
   "source": [
    "df.speech.unique()"
   ]
  },
  {
   "cell_type": "code",
   "execution_count": 50,
   "metadata": {},
   "outputs": [
    {
     "data": {
      "text/plain": [
       "2004_lee_hsien_loong    1186\n",
       "1991_goh_chok_tong       435\n",
       "2020_lee_hsien_loong      75\n",
       "1966_lee_kuan_yew         27\n",
       "Name: speech, dtype: int64"
      ]
     },
     "execution_count": 50,
     "metadata": {},
     "output_type": "execute_result"
    }
   ],
   "source": [
    "df['speech'].value_counts()"
   ]
  },
  {
   "cell_type": "code",
   "execution_count": null,
   "metadata": {},
   "outputs": [],
   "source": []
  },
  {
   "cell_type": "markdown",
   "metadata": {
    "id": "79d-nz2a_Js0"
   },
   "source": [
    "# 2. Cleaning the data"
   ]
  },
  {
   "cell_type": "markdown",
   "metadata": {
    "id": "orQH1Z1P_Js0"
   },
   "source": [
    "When dealing with numerical data, data cleaning often involves removing null values and duplicate data, dealing with outliers, etc. With text data, there are some common data cleaning techniques, which are also known as text pre-processing techniques.\n",
    "\n",
    "With text data, this cleaning process can go on forever. There's always an exception to every cleaning step. So, we're going to follow the MVP (minimum viable product) approach - start simple and iterate. Here are a bunch of things you can do to clean your data. We're going to execute just the common cleaning steps here and the rest can be done at a later point to improve our results.\n",
    "\n",
    "**Common data cleaning steps on all text:**\n",
    "* Make text all lower case\n",
    "* Remove punctuation\n",
    "* Remove numerical values\n",
    "* Remove common non-sensical text (/n)\n",
    "* Tokenize text\n",
    "* Remove stop words\n",
    "\n",
    "**More data cleaning steps after tokenization:**\n",
    "* Stemming / lemmatization\n",
    "* Parts of speech tagging\n",
    "* Create bi-grams or tri-grams\n",
    "* Deal with typos\n",
    "* And more..."
   ]
  },
  {
   "cell_type": "markdown",
   "metadata": {
    "id": "egoiXlSq_Js0"
   },
   "source": [
    "## Round 1. Let's convert text to lowercase, remove punctuations, remove words containing numbers.\n",
    "\n",
    "Python has a built-in package called `re`, which can be used to work with Regular Expressions. Regular Expression, is a sequence of characters that forms a search pattern.<br>\n",
    "\n",
    "The `re.sub()` function can be used to replace substrings. The syntax `re.sub(pattern,repl,text)` replaces the pattern matches in text with repl. In the following code, it is used to remove punctuations and remove words containing number. You can read up about `re.sub()` [here](https://www.w3schools.com/python/python_regex.asp) and [here](https://www.pythonforbeginners.com/regex/regular-expressions-in-python)."
   ]
  },
  {
   "cell_type": "code",
   "execution_count": 51,
   "metadata": {
    "executionInfo": {
     "elapsed": 803,
     "status": "ok",
     "timestamp": 1612159370922,
     "user": {
      "displayName": "Jisun An",
      "photoUrl": "",
      "userId": "09226046566822916181"
     },
     "user_tz": -480
    },
    "id": "JSKxJUWu_Js1"
   },
   "outputs": [],
   "source": [
    "# Apply a first round of text cleaning techniques\n",
    "import re \n",
    "import string\n",
    "\n",
    "def clean_text_round1(text):\n",
    "    '''Make text lowercase, remove punctuation and remove words containing numbers.'''\n",
    "    text = text.lower()\n",
    "    text = re.sub('[%s]' % re.escape(string.punctuation), '', text)\n",
    "    text = re.sub('\\w*\\d\\w*', '', text)\n",
    "    return text\n",
    "\n"
   ]
  },
  {
   "cell_type": "code",
   "execution_count": 52,
   "metadata": {
    "colab": {
     "base_uri": "https://localhost:8080/",
     "height": 204
    },
    "executionInfo": {
     "elapsed": 896,
     "status": "ok",
     "timestamp": 1612159378206,
     "user": {
      "displayName": "Jisun An",
      "photoUrl": "",
      "userId": "09226046566822916181"
     },
     "user_tz": -480
    },
    "id": "SF4n0-7Z_Js1",
    "outputId": "0a72538c-4ed8-4a85-8462-404b424c29e6"
   },
   "outputs": [
    {
     "data": {
      "text/html": [
       "<div>\n",
       "<style scoped>\n",
       "    .dataframe tbody tr th:only-of-type {\n",
       "        vertical-align: middle;\n",
       "    }\n",
       "\n",
       "    .dataframe tbody tr th {\n",
       "        vertical-align: top;\n",
       "    }\n",
       "\n",
       "    .dataframe thead th {\n",
       "        text-align: right;\n",
       "    }\n",
       "</style>\n",
       "<table border=\"1\" class=\"dataframe\">\n",
       "  <thead>\n",
       "    <tr style=\"text-align: right;\">\n",
       "      <th></th>\n",
       "      <th>speech</th>\n",
       "      <th>line_num</th>\n",
       "      <th>text</th>\n",
       "      <th>clean_text_1</th>\n",
       "    </tr>\n",
       "  </thead>\n",
       "  <tbody>\n",
       "    <tr>\n",
       "      <th>0</th>\n",
       "      <td>1966_lee_kuan_yew</td>\n",
       "      <td>1</td>\n",
       "      <td>It is useful this evening not so much to go ba...</td>\n",
       "      <td>it is useful this evening not so much to go ba...</td>\n",
       "    </tr>\n",
       "    <tr>\n",
       "      <th>1</th>\n",
       "      <td>1966_lee_kuan_yew</td>\n",
       "      <td>2</td>\n",
       "      <td>And I say that we have no regrets.</td>\n",
       "      <td>and i say that we have no regrets</td>\n",
       "    </tr>\n",
       "    <tr>\n",
       "      <th>2</th>\n",
       "      <td>1966_lee_kuan_yew</td>\n",
       "      <td>3</td>\n",
       "      <td>We are completely unrepentant that we set out ...</td>\n",
       "      <td>we are completely unrepentant that we set out ...</td>\n",
       "    </tr>\n",
       "    <tr>\n",
       "      <th>3</th>\n",
       "      <td>1966_lee_kuan_yew</td>\n",
       "      <td>4</td>\n",
       "      <td>And we, in the end, on balance decided to carr...</td>\n",
       "      <td>and we in the end on balance decided to carry ...</td>\n",
       "    </tr>\n",
       "    <tr>\n",
       "      <th>4</th>\n",
       "      <td>1966_lee_kuan_yew</td>\n",
       "      <td>5</td>\n",
       "      <td>Nothing has altered, not the basic data nor ou...</td>\n",
       "      <td>nothing has altered not the basic data nor our...</td>\n",
       "    </tr>\n",
       "  </tbody>\n",
       "</table>\n",
       "</div>"
      ],
      "text/plain": [
       "              speech  line_num  \\\n",
       "0  1966_lee_kuan_yew         1   \n",
       "1  1966_lee_kuan_yew         2   \n",
       "2  1966_lee_kuan_yew         3   \n",
       "3  1966_lee_kuan_yew         4   \n",
       "4  1966_lee_kuan_yew         5   \n",
       "\n",
       "                                                text  \\\n",
       "0  It is useful this evening not so much to go ba...   \n",
       "1                 And I say that we have no regrets.   \n",
       "2  We are completely unrepentant that we set out ...   \n",
       "3  And we, in the end, on balance decided to carr...   \n",
       "4  Nothing has altered, not the basic data nor ou...   \n",
       "\n",
       "                                        clean_text_1  \n",
       "0  it is useful this evening not so much to go ba...  \n",
       "1                  and i say that we have no regrets  \n",
       "2  we are completely unrepentant that we set out ...  \n",
       "3  and we in the end on balance decided to carry ...  \n",
       "4  nothing has altered not the basic data nor our...  "
      ]
     },
     "execution_count": 52,
     "metadata": {},
     "output_type": "execute_result"
    }
   ],
   "source": [
    "# Let's take a look at the updated text\n",
    "df['clean_text_1'] = df['text'].apply(clean_text_round1)\n",
    "df.head()\n"
   ]
  },
  {
   "cell_type": "markdown",
   "metadata": {
    "id": "Dn6CSU54JzSG"
   },
   "source": [
    "## Additional exercise 1 (optional)\n",
    "\n",
    "1. Get more familar with regular expression below. \n",
    "\n",
    "2. Can you remove url from a tweet using regular expression? \n"
   ]
  },
  {
   "cell_type": "code",
   "execution_count": 52,
   "metadata": {
    "id": "OqzpLSMhJzSG"
   },
   "outputs": [
    {
     "name": "stdout",
     "output_type": "stream",
     "text": [
      "['123']\n",
      "[]\n",
      "['00123', '456', '0']\n",
      "abc*xyz*_*\n"
     ]
    }
   ],
   "source": [
    "# Examples of Regular expression \n",
    "import re # Need module 're' for regular expression\n",
    "\n",
    "# Try find: re.findall(regexStr, inStr) -> matchedSubstringsList\n",
    "# r'...' denotes raw strings which ignore escape code, i.e., r'\\n' is '\\'+'n'\n",
    "# [0-9] matches any digit; [A-Za-z] matches any uppercase or lowercase letters.\n",
    "# + means one or more\n",
    "print(re.findall(r'[0-9]+', 'abc123xyz')) # Return a list of matched substrings.  \n",
    "print(re.findall(r'[0-9]+', 'abcxyz')) # Return []\n",
    "print(re.findall(r'[0-9]+', 'abc00123xyz456_0')) # Return ['00123', '456', '0']\n",
    "\n",
    "\n",
    "# Try substitute: re.sub(regexStr, replacementStr, inStr) -> outStr\n",
    "# Below code will replace all number block to *\n",
    "print(re.sub(r'[0-9]+', r'*', 'abc00123xyz456_0')) # Return 'abc*xyz*_*'"
   ]
  },
  {
   "cell_type": "code",
   "execution_count": 53,
   "metadata": {
    "id": "OZLVtTHcJzSG"
   },
   "outputs": [
    {
     "data": {
      "text/plain": [
       "'New pre-print that @GruppiMauricio, @sibel_adali and I have been holding on to for a while: https://arxiv.org/abs/2101.10973. The goal was to leverage content sharing practices by news outlets in news veracity detection. Thread.'"
      ]
     },
     "execution_count": 53,
     "metadata": {},
     "output_type": "execute_result"
    }
   ],
   "source": [
    "# Here's an example tweet\n",
    "mytweet = \"New pre-print that @GruppiMauricio, @sibel_adali and I have been holding on to for a while: https://arxiv.org/abs/2101.10973. The goal was to leverage content sharing practices by news outlets in news veracity detection. Thread.\"\n",
    "mytweet\n"
   ]
  },
  {
   "cell_type": "markdown",
   "metadata": {
    "id": "3vVAY8PqJzSH"
   },
   "source": [
    "Write the code to remove URL from the above tweet.\n",
    "\n",
    "As a result, you should see \n",
    "\n",
    "'New pre-print that @GruppiMauricio, @sibel_adali and I have been holding on to for a while:  The goal was to leverage content sharing practices by news outlets in news veracity detection. Thread.'"
   ]
  },
  {
   "cell_type": "code",
   "execution_count": null,
   "metadata": {},
   "outputs": [],
   "source": [
    "text = # Write your code \n",
    "text\n"
   ]
  },
  {
   "cell_type": "code",
   "execution_count": null,
   "metadata": {},
   "outputs": [],
   "source": [
    "## Solution\n",
    "text = re.sub(r'https?://\\S+', '', mytweet)\n",
    "text"
   ]
  },
  {
   "cell_type": "markdown",
   "metadata": {
    "id": "BPvxSGDd_Js1"
   },
   "source": [
    "## Round 2. Let's remove stopwords. \n",
    "\n",
    "A stop word is a commonly used word (such as \"the\", \"a\", \"an\", \"in\"). For some analysis, like looking into top words, those stop words are often meaningless, and thus we remove them.\n",
    "\n",
    "The [Natural Language Toolkit (nltk)](https://www.nltk.org/api/nltk.html) is a Python package for natural language processing. We will import the library for the removal of stop words."
   ]
  },
  {
   "cell_type": "code",
   "execution_count": 53,
   "metadata": {
    "colab": {
     "base_uri": "https://localhost:8080/"
    },
    "executionInfo": {
     "elapsed": 2852,
     "status": "ok",
     "timestamp": 1612159387226,
     "user": {
      "displayName": "Jisun An",
      "photoUrl": "",
      "userId": "09226046566822916181"
     },
     "user_tz": -480
    },
    "id": "0IG3CWjb_Js2",
    "outputId": "05480210-ef61-4d7c-c55c-00f62e3b2095"
   },
   "outputs": [
    {
     "name": "stderr",
     "output_type": "stream",
     "text": [
      "[nltk_data] Downloading package stopwords to\n",
      "[nltk_data]     /Users/jisunan/nltk_data...\n",
      "[nltk_data]   Package stopwords is already up-to-date!\n"
     ]
    },
    {
     "data": {
      "text/plain": [
       "True"
      ]
     },
     "execution_count": 53,
     "metadata": {},
     "output_type": "execute_result"
    }
   ],
   "source": [
    "import nltk\n",
    "nltk.download('stopwords')"
   ]
  },
  {
   "cell_type": "markdown",
   "metadata": {
    "id": "UmiMDOChJzSI"
   },
   "source": [
    "The `nltk` library has a list of stopwords stored in 16 different languages. We will retrieve the list of English stop words using `stopwords.words('english')`"
   ]
  },
  {
   "cell_type": "code",
   "execution_count": 54,
   "metadata": {
    "executionInfo": {
     "elapsed": 969,
     "status": "ok",
     "timestamp": 1612159389877,
     "user": {
      "displayName": "Jisun An",
      "photoUrl": "",
      "userId": "09226046566822916181"
     },
     "user_tz": -480
    },
    "id": "UhKTgIXoJzSI"
   },
   "outputs": [],
   "source": [
    "from nltk.corpus import stopwords\n",
    "stop = stopwords.words('english')\n",
    "\n",
    "# Exclude stopwords with Python's list comprehension and pandas.DataFrame.apply.\n",
    "def clean_text_round2(text):\n",
    "    return ' '.join([word for word in text.split() if word not in (stop)])\n"
   ]
  },
  {
   "cell_type": "markdown",
   "metadata": {
    "id": "JWNTnZ2rJzSI"
   },
   "source": [
    "The expression `[word for word in x.split() if word not in (stop)]` is a list comprehension.<br>\n",
    "List comprehension offers a shorter syntax when you want to create a new list based on the values of an existing list.<br> Syntax: `new_list = [expression for item in iterable list if condition == True]`<br> \n",
    "You can read up about list comprehension [here](https://www.w3schools.com/python/python_lists_comprehension.asp)"
   ]
  },
  {
   "cell_type": "code",
   "execution_count": 55,
   "metadata": {
    "colab": {
     "base_uri": "https://localhost:8080/",
     "height": 204
    },
    "executionInfo": {
     "elapsed": 830,
     "status": "ok",
     "timestamp": 1612159393241,
     "user": {
      "displayName": "Jisun An",
      "photoUrl": "",
      "userId": "09226046566822916181"
     },
     "user_tz": -480
    },
    "id": "gPXZ2o6k_Js2",
    "outputId": "80caadaf-a88b-441b-bccb-8da9882dc458"
   },
   "outputs": [
    {
     "data": {
      "text/html": [
       "<div>\n",
       "<style scoped>\n",
       "    .dataframe tbody tr th:only-of-type {\n",
       "        vertical-align: middle;\n",
       "    }\n",
       "\n",
       "    .dataframe tbody tr th {\n",
       "        vertical-align: top;\n",
       "    }\n",
       "\n",
       "    .dataframe thead th {\n",
       "        text-align: right;\n",
       "    }\n",
       "</style>\n",
       "<table border=\"1\" class=\"dataframe\">\n",
       "  <thead>\n",
       "    <tr style=\"text-align: right;\">\n",
       "      <th></th>\n",
       "      <th>speech</th>\n",
       "      <th>line_num</th>\n",
       "      <th>text</th>\n",
       "      <th>clean_text_1</th>\n",
       "      <th>clean_text_2</th>\n",
       "    </tr>\n",
       "  </thead>\n",
       "  <tbody>\n",
       "    <tr>\n",
       "      <th>0</th>\n",
       "      <td>1966_lee_kuan_yew</td>\n",
       "      <td>1</td>\n",
       "      <td>It is useful this evening not so much to go ba...</td>\n",
       "      <td>it is useful this evening not so much to go ba...</td>\n",
       "      <td>useful evening much go back past – whys wheref...</td>\n",
       "    </tr>\n",
       "    <tr>\n",
       "      <th>1</th>\n",
       "      <td>1966_lee_kuan_yew</td>\n",
       "      <td>2</td>\n",
       "      <td>And I say that we have no regrets.</td>\n",
       "      <td>and i say that we have no regrets</td>\n",
       "      <td>say regrets</td>\n",
       "    </tr>\n",
       "    <tr>\n",
       "      <th>2</th>\n",
       "      <td>1966_lee_kuan_yew</td>\n",
       "      <td>3</td>\n",
       "      <td>We are completely unrepentant that we set out ...</td>\n",
       "      <td>we are completely unrepentant that we set out ...</td>\n",
       "      <td>completely unrepentant set build multiracial t...</td>\n",
       "    </tr>\n",
       "    <tr>\n",
       "      <th>3</th>\n",
       "      <td>1966_lee_kuan_yew</td>\n",
       "      <td>4</td>\n",
       "      <td>And we, in the end, on balance decided to carr...</td>\n",
       "      <td>and we in the end on balance decided to carry ...</td>\n",
       "      <td>end balance decided carry multiracial experime...</td>\n",
       "    </tr>\n",
       "    <tr>\n",
       "      <th>4</th>\n",
       "      <td>1966_lee_kuan_yew</td>\n",
       "      <td>5</td>\n",
       "      <td>Nothing has altered, not the basic data nor ou...</td>\n",
       "      <td>nothing has altered not the basic data nor our...</td>\n",
       "      <td>nothing altered basic data basic thinking</td>\n",
       "    </tr>\n",
       "  </tbody>\n",
       "</table>\n",
       "</div>"
      ],
      "text/plain": [
       "              speech  line_num  \\\n",
       "0  1966_lee_kuan_yew         1   \n",
       "1  1966_lee_kuan_yew         2   \n",
       "2  1966_lee_kuan_yew         3   \n",
       "3  1966_lee_kuan_yew         4   \n",
       "4  1966_lee_kuan_yew         5   \n",
       "\n",
       "                                                text  \\\n",
       "0  It is useful this evening not so much to go ba...   \n",
       "1                 And I say that we have no regrets.   \n",
       "2  We are completely unrepentant that we set out ...   \n",
       "3  And we, in the end, on balance decided to carr...   \n",
       "4  Nothing has altered, not the basic data nor ou...   \n",
       "\n",
       "                                        clean_text_1  \\\n",
       "0  it is useful this evening not so much to go ba...   \n",
       "1                  and i say that we have no regrets   \n",
       "2  we are completely unrepentant that we set out ...   \n",
       "3  and we in the end on balance decided to carry ...   \n",
       "4  nothing has altered not the basic data nor our...   \n",
       "\n",
       "                                        clean_text_2  \n",
       "0  useful evening much go back past – whys wheref...  \n",
       "1                                        say regrets  \n",
       "2  completely unrepentant set build multiracial t...  \n",
       "3  end balance decided carry multiracial experime...  \n",
       "4          nothing altered basic data basic thinking  "
      ]
     },
     "execution_count": 55,
     "metadata": {},
     "output_type": "execute_result"
    }
   ],
   "source": [
    "df['clean_text_2'] = df['clean_text_1'].apply(clean_text_round2)\n",
    "df.head()"
   ]
  },
  {
   "cell_type": "markdown",
   "metadata": {
    "id": "p4HjENg8_Js2"
   },
   "source": [
    "**NOTE:** This data cleaning aka text pre-processing step could go on for a while, but we are going to stop for now. After going through some analysis techniques, if you see that the results don't make sense or could be improved, you can come back and make more edits such as:\n",
    "* Mark 'outstanding' and 'outstand' as the same word (stemming / lemmatization)\n",
    "* Combine 'thank you' into one term (bi-grams)\n",
    "* And a lot more..."
   ]
  },
  {
   "cell_type": "markdown",
   "metadata": {},
   "source": [
    "# 3. Unigram analysis - Counting words (and save it to a file) \n",
    "\n"
   ]
  },
  {
   "cell_type": "code",
   "execution_count": 57,
   "metadata": {},
   "outputs": [],
   "source": [
    "## Create ```word_counts``` folder \n",
    "import os\n",
    "os.makedirs('word_counts', exist_ok=True)"
   ]
  },
  {
   "cell_type": "code",
   "execution_count": 58,
   "metadata": {},
   "outputs": [],
   "source": [
    "# this function create a dictionary with word counts from dataframe \n",
    "def count_words_from_dataframe(df):\n",
    "    result_dict = {}\n",
    "    # iterate rows of dataframe \n",
    "    for index, row in df.iterrows():\n",
    "        text = row['clean_text_2']\n",
    "        \n",
    "        # this will split a sentence into words \n",
    "        tokens = text.split()\n",
    "        \n",
    "        # iterate each word \n",
    "        for i in range(0, len(tokens)):\n",
    "            token = tokens[i]\n",
    "            try:\n",
    "                result_dict[token] += 1\n",
    "            except KeyError:\n",
    "                result_dict[token] = 1\n",
    "                    \n",
    "    return result_dict\n"
   ]
  },
  {
   "cell_type": "code",
   "execution_count": 59,
   "metadata": {},
   "outputs": [
    {
     "data": {
      "text/plain": [
       "['1966_lee_kuan_yew',\n",
       " '1991_goh_chok_tong',\n",
       " '2004_lee_hsien_loong',\n",
       " '2020_lee_hsien_loong']"
      ]
     },
     "execution_count": 59,
     "metadata": {},
     "output_type": "execute_result"
    }
   ],
   "source": [
    "list_of_speeches = list(df.speech.unique())\n",
    "list_of_speeches"
   ]
  },
  {
   "cell_type": "code",
   "execution_count": 60,
   "metadata": {},
   "outputs": [
    {
     "name": "stdout",
     "output_type": "stream",
     "text": [
      "1966_lee_kuan_yew\n",
      "(27, 5)\n",
      "1991_goh_chok_tong\n",
      "(435, 5)\n",
      "2004_lee_hsien_loong\n",
      "(1186, 5)\n",
      "2020_lee_hsien_loong\n",
      "(75, 5)\n"
     ]
    }
   ],
   "source": [
    "import csv\n",
    "\n",
    "count_type = 'unigram'\n",
    "\n",
    "for each_speech in list_of_speeches:\n",
    "    print(each_speech)\n",
    "    \n",
    "    ## query helps to filter rows of dataframe given a condition \n",
    "    df_speech = df.query('speech == @each_speech')\n",
    "    print(df_speech.shape)\n",
    "    \n",
    "    result = count_words_from_dataframe(df_speech)\n",
    "    \n",
    "    final_result = {}\n",
    "    sorted_dic = ((k, result[k]) for k in sorted(result, key=result.get, reverse=True))\n",
    "    for key, value in sorted_dic:\n",
    "        try:\n",
    "            final_result[key] += int(value)\n",
    "        except KeyError:\n",
    "            final_result[key] = int(value)\n",
    "\n",
    "    sorted_dic = ((k, result[k]) for k in sorted(result, key=result.get, reverse=True))\n",
    "    \n",
    "    with open(f\"./word_counts/{each_speech}_{count_type}_counts.csv\", 'w') as fp:\n",
    "        writer = csv.writer(fp, delimiter=',')\n",
    "        writer.writerows(sorted_dic)\n"
   ]
  },
  {
   "cell_type": "markdown",
   "metadata": {},
   "source": [
    "## Let's draw WordCloud using unigrams!"
   ]
  },
  {
   "cell_type": "code",
   "execution_count": null,
   "metadata": {},
   "outputs": [],
   "source": [
    "## This it OPTIONAL if you are running the current notebook using Google Colab\n",
    "!conda install --yes -c conda-forge wordcloud"
   ]
  },
  {
   "cell_type": "code",
   "execution_count": 105,
   "metadata": {},
   "outputs": [],
   "source": [
    "### Import relevant libraries\n",
    "from wordcloud import WordCloud, STOPWORDS\n",
    "import matplotlib.pyplot as plt\n",
    "import numpy as np\n",
    "import re\n",
    "from PIL import Image\n",
    "from os import path\n",
    "import csv\n",
    "\n",
    "### this function will creat wordcloud based on word frequencies and save them into files under plot. \n",
    "def makeImage(termDict, outputfile):\n",
    "    \n",
    "    wc = WordCloud(max_font_size=60, width=1280, height=720, background_color=\"white\")    \n",
    "\n",
    "    ### generate word cloud using frequencies!\n",
    "    wc.generate_from_frequencies(termDict)\n",
    "    wc.to_file(outputfile+\".png\")\n",
    "    wc.to_file(outputfile+\".pdf\")\n",
    "    \n",
    "    ### show the figure\n",
    "    plt.imshow(wc, interpolation=\"bilinear\")\n",
    "    plt.axis(\"off\")\n",
    "    plt.show() \n",
    "    "
   ]
  },
  {
   "cell_type": "code",
   "execution_count": 106,
   "metadata": {},
   "outputs": [
    {
     "data": {
      "image/png": "[encoded data removed]",
      "text/plain": [
       "<Figure size 432x288 with 1 Axes>"
      ]
     },
     "metadata": {
      "needs_background": "light"
     },
     "output_type": "display_data"
    }
   ],
   "source": [
    "speech_name = \"2004_lee_hsien_loong\"\n",
    "### We're using one of the utility function! \"read_word_count_file\"\n",
    "fullTermsDict = read_word_count_file(f'{mypath}/word_counts/{speech_name}_unigram_counts.csv')\n",
    "outputfile = f\"./plot/wordcloud_count_unigram_{speech_name}\"\n",
    "makeImage(fullTermsDict, outputfile)\n"
   ]
  },
  {
   "cell_type": "code",
   "execution_count": 107,
   "metadata": {
    "scrolled": true
   },
   "outputs": [
    {
     "data": {
      "image/png": "[encoded data removed]",
      "text/plain": [
       "<Figure size 432x288 with 1 Axes>"
      ]
     },
     "metadata": {
      "needs_background": "light"
     },
     "output_type": "display_data"
    }
   ],
   "source": [
    "speech_name = \"2020_lee_hsien_loong\"\n",
    "### We're using one of the utility function! \"read_word_count_file\"\n",
    "fullTermsDict = read_word_count_file(f'{mypath}/word_counts/{speech_name}_unigram_counts.csv')\n",
    "outputfile = f\"./plot/wordcloud_count_unigram_{speech_name}\"\n",
    "makeImage(fullTermsDict, outputfile)\n"
   ]
  },
  {
   "cell_type": "code",
   "execution_count": null,
   "metadata": {},
   "outputs": [],
   "source": []
  },
  {
   "cell_type": "markdown",
   "metadata": {},
   "source": [
    "### Exercise 1. Count bigram \n",
    "\n",
    "You task is to write a function named ```count_bigrams_from_dataframe``` whose input is dataframe, ```df``` and output is the dictionary of bigrams with their counts. \n",
    "\n",
    "Then, can you also save them into file after sorting the bigrams based on their counts? \n",
    "\n",
    "(Optional) You may draw word clouds with bigrams as well! \n"
   ]
  },
  {
   "cell_type": "code",
   "execution_count": 61,
   "metadata": {},
   "outputs": [],
   "source": [
    "def count_bigrams_from_dataframe(df):\n",
    "    \n",
    "    result_dict = {}                    \n",
    "    for index, row in df_speech.iterrows():\n",
    "        text = row['clean_text_2']\n",
    "        tokens = text.split()\n",
    "        \n",
    "        ## write your code \n",
    "        \n",
    "    return result_dict\n",
    "\n"
   ]
  },
  {
   "cell_type": "code",
   "execution_count": 62,
   "metadata": {},
   "outputs": [
    {
     "name": "stdout",
     "output_type": "stream",
     "text": [
      "1966_lee_kuan_yew\n",
      "(27, 5)\n",
      "1991_goh_chok_tong\n",
      "(435, 5)\n",
      "2004_lee_hsien_loong\n",
      "(1186, 5)\n",
      "2020_lee_hsien_loong\n",
      "(75, 5)\n"
     ]
    }
   ],
   "source": [
    "count_type = 'bigram'\n",
    "\n",
    "for each_speech in list_of_speeches:\n",
    "    print(each_speech)\n",
    "    df_speech = df.query('speech == @each_speech')\n",
    "    print(df_speech.shape)\n",
    "    \n",
    "    ## write your code \n",
    "    "
   ]
  },
  {
   "cell_type": "code",
   "execution_count": 63,
   "metadata": {},
   "outputs": [
    {
     "name": "stdout",
     "output_type": "stream",
     "text": [
      "1966_lee_kuan_yew\n",
      "(27, 5)\n",
      "1991_goh_chok_tong\n",
      "(435, 5)\n",
      "2004_lee_hsien_loong\n",
      "(1186, 5)\n",
      "2020_lee_hsien_loong\n",
      "(75, 5)\n"
     ]
    }
   ],
   "source": [
    "## solution \n",
    "def count_bigrams_from_dataframe(df):\n",
    "    \n",
    "    result_dict = {}                    \n",
    "    for index, row in df_speech.iterrows():\n",
    "        text = row['clean_text_2']\n",
    "        tokens = text.split()\n",
    "        for itr in range(0, len(tokens) - 1):\n",
    "            token1 = tokens[itr]\n",
    "            token2 = tokens[itr + 1]\n",
    "            token = token1 + \" \" + token2\n",
    "            try:\n",
    "                result_dict[token] += 1\n",
    "            except KeyError:\n",
    "                result_dict[token] = 1    \n",
    "    return result_dict\n",
    "\n",
    "\n",
    "import csv\n",
    "count_type = 'bigram'\n",
    "\n",
    "for each_speech in list_of_speeches:\n",
    "    print(each_speech)\n",
    "    df_speech = df.query('speech == @each_speech')\n",
    "    print(df_speech.shape)\n",
    "    \n",
    "    result = count_bigrams_from_dataframe(df_speech)\n",
    "    \n",
    "    final_result = {}\n",
    "    sorted_dic = ((k, result[k]) for k in sorted(result, key=result.get, reverse=True))\n",
    "    for key, value in sorted_dic:\n",
    "        try:\n",
    "            final_result[key] += int(value)\n",
    "        except KeyError:\n",
    "            final_result[key] = int(value)\n",
    "\n",
    "    sorted_dic = ((k, result[k]) for k in sorted(result, key=result.get, reverse=True))\n",
    "    \n",
    "    with open(f\"./word_counts/{each_speech}_{count_type}_counts.csv\", 'w') as fp:\n",
    "        writer = csv.writer(fp, delimiter=',')\n",
    "        writer.writerows(sorted_dic)\n"
   ]
  },
  {
   "cell_type": "code",
   "execution_count": null,
   "metadata": {},
   "outputs": [],
   "source": []
  },
  {
   "cell_type": "code",
   "execution_count": null,
   "metadata": {},
   "outputs": [],
   "source": []
  },
  {
   "cell_type": "code",
   "execution_count": null,
   "metadata": {},
   "outputs": [],
   "source": []
  },
  {
   "cell_type": "markdown",
   "metadata": {},
   "source": [
    "# 4. Find representative words by using log odds \n",
    "\n",
    "### In this example, we will compare 2004 and 2020 National Day speeches by PM Lee Hsien Loong. \n",
    "\n",
    "We will detect unigrams that are over-represented in either 2004 or 2020 speech. \n",
    "\n",
    "To do so, we use log-odds ratios with informative Dirichlet priors (Monroe, Colaresi, and Quinn 2008). This method estimates the log-odds ratio of each word between two corpora i and j given the prior frequencies obtained from a back ground corpus. \n",
    "\n",
    "This method identifies representative words of a corpus i in comparison with another corpus j and the common corpus (global/background corpus). \n",
    "\n",
    "#### We've created a few functions for computing log odds values and finding the representativ words.\n",
    "\n",
    "```calculate_log_odds_idp(global_counts, counts_i_name, counts_i_dict, counts_j_name, counts_j_dict)``` : it returns the log odds value (```log_odds_z_score```) for each word, which indicates the significance of the word in the corresponding corpus. You should provide background corpus (we call ```global_counts```), two names of the corpora: ```counts_i_name``` and ```counts_j_name``` (for naming the file), and two dictionaries of word counts from each corpus: ```counts_i_dict``` and ```counts_j_dict```. \n",
    "\n",
    "```find_discriminative_words(top_words_df, threshold_i, threshold_j, num_i, num_j, mypath)```: This function will filter out those words that appear less than k times in each corpus (`threshold_i` and ```threshold_j```), rank the words based on lod-odds z-scores and select top-N representative words (```num_i```, ```num_j```), and generate a csv file where each row contains (word, log_odds_z_score) for each of the two corpora .  \n",
    "\n",
    "For details about how to compute log odds z-score, see: \"Monroe, B. L.; Colaresi, M. P.; and Quinn, K. M. 2008. Fightin’words: Lexical feature selection and evaluation for identifying the content of political conflict. Political Analysis 16(4):372–403.\""
   ]
  },
  {
   "cell_type": "code",
   "execution_count": null,
   "metadata": {},
   "outputs": [],
   "source": [
    "### Let's download ```smt203util.py``` Below code should download the file in the same folder where your jupyter notebook is. \n",
    "!wget https://raw.githubusercontent.com/anjisun221/css_codes/main/ay21t1/Lab03_text_analysis/smt203util.py\n",
    "    "
   ]
  },
  {
   "cell_type": "code",
   "execution_count": 63,
   "metadata": {},
   "outputs": [
    {
     "data": {
      "text/plain": [
       "0.1"
      ]
     },
     "execution_count": 63,
     "metadata": {},
     "output_type": "execute_result"
    }
   ],
   "source": [
    "### Let's import all function from smt203util! \n",
    "from smt203util import *\n"
   ]
  },
  {
   "cell_type": "code",
   "execution_count": 46,
   "metadata": {},
   "outputs": [
    {
     "name": "stdout",
     "output_type": "stream",
     "text": [
      "2280738\n"
     ]
    }
   ],
   "source": [
    "### Getting global word counts (frequency of unigram in Google News datasets)\n",
    "target_url = \"https://raw.githubusercontent.com/anjisun221/css_codes/main/ay21t1/Lab03_text_analysis/1gram_englishall_count.csv\"\n",
    "global_counts = read_word_count_file_online(target_url)\n",
    "print(\"The number of unigrams=\", len(global_counts))\n"
   ]
  },
  {
   "cell_type": "code",
   "execution_count": 4,
   "metadata": {},
   "outputs": [
    {
     "name": "stdout",
     "output_type": "stream",
     "text": [
      "2278905\n",
      "Global Corpus Size : 554756723157\n"
     ]
    }
   ],
   "source": [
    "### Removing stopwords from the word list and \n",
    "stopwords_list = get_stopwords()\n",
    "global_counts = {k: v for k, v in global_counts.items() if (k not in stopwords_list) and (len(k) > 2)}\n",
    "print(\"After excluding stop words: \", len(global_counts))\n"
   ]
  },
  {
   "cell_type": "markdown",
   "metadata": {},
   "source": [
    "#### Let's load word frequency file and create dictionary of word counts for the two speeches!"
   ]
  },
  {
   "cell_type": "code",
   "execution_count": 85,
   "metadata": {},
   "outputs": [],
   "source": [
    "# counts_i_name = \"1966_lee_kuan_yew\"\n",
    "# counts_i_name = \"1991_goh_chok_tong\"\n",
    "counts_i_name = \"2004_lee_hsien_loong\"\n",
    "# counts_j_name = \"2020_lee_hsien_loong\"\n",
    "counts_i = read_word_count_file(f\"{mypath}/word_counts/{counts_i_name}_unigram_counts.csv\")\n",
    "\n",
    "### we filter out words that exist in our background corpus\n",
    "counts_i_dict = {k: v for k, v in counts_i.items() if k in global_counts}\n"
   ]
  },
  {
   "cell_type": "code",
   "execution_count": 86,
   "metadata": {},
   "outputs": [],
   "source": [
    "# counts_j_name = \"1966_lee_kuan_yew\"\n",
    "# counts_j_name = \"1991_goh_chok_tong\"\n",
    "# counts_j_name = \"2004_lee_hsien_loong\"\n",
    "counts_j_name = \"2020_lee_hsien_loong\"\n",
    "counts_j = read_word_count_file(f\"{mypath}/word_counts/{counts_j_name}_unigram_counts.csv\")\n",
    "\n",
    "### we filter out words that exist in our background corpus\n",
    "counts_j_dict = {k: v for k, v in counts_j.items() if k in global_counts}\n"
   ]
  },
  {
   "cell_type": "code",
   "execution_count": 87,
   "metadata": {},
   "outputs": [],
   "source": [
    "### this function will return log-odds values. \n",
    "top_words_df = calculate_log_odds_idp(global_counts, counts_i_name, counts_i_dict, counts_j_name, counts_j_dict)\n"
   ]
  },
  {
   "cell_type": "markdown",
   "metadata": {},
   "source": [
    "### interpretation lad z-score (log_odds_z_score) \n",
    "\n",
    "Consider it as a value that indicate the significance of the word in a corpus. Given that we have two corpora, i and j, the order matters when interpreting this z-score. For corpus i, the lower the z-score, more significant the word is while for corpus j, the higher the z-score, more significant the word is.\n",
    "\n",
    "The word frequency is also important, if the word frequency is low, those words may not be meaningful. So, we filter words based on the two condition: word frequency and z-score. \n",
    "\n",
    "In the below example, \n",
    "for corpus i, we will consider words that have lower z-scores and that appear at least twice in the corpus. \n",
    "\n",
    "For corpus j, we will consider words that have higher z-scores and that appear at least twice in the corpus. \n",
    "\n",
    "Note that, we choose 2 as a threshold for word frequency, but usually it should be much higher if we have larger corpus. Our speech data is small, so we have to choose 2. Normally, we would use 50 or 100 as a minimum number of word frequency. "
   ]
  },
  {
   "cell_type": "code",
   "execution_count": 121,
   "metadata": {},
   "outputs": [
    {
     "data": {
      "text/html": [
       "<div>\n",
       "<style scoped>\n",
       "    .dataframe tbody tr th:only-of-type {\n",
       "        vertical-align: middle;\n",
       "    }\n",
       "\n",
       "    .dataframe tbody tr th {\n",
       "        vertical-align: top;\n",
       "    }\n",
       "\n",
       "    .dataframe thead th {\n",
       "        text-align: right;\n",
       "    }\n",
       "</style>\n",
       "<table border=\"1\" class=\"dataframe\">\n",
       "  <thead>\n",
       "    <tr style=\"text-align: right;\">\n",
       "      <th></th>\n",
       "      <th>word</th>\n",
       "      <th>global_count</th>\n",
       "      <th>2004_lee_hsien_loong</th>\n",
       "      <th>2020_lee_hsien_loong</th>\n",
       "      <th>log_odds_z_score</th>\n",
       "    </tr>\n",
       "  </thead>\n",
       "  <tbody>\n",
       "    <tr>\n",
       "      <th>1518841</th>\n",
       "      <td>national</td>\n",
       "      <td>178377868</td>\n",
       "      <td>11.0</td>\n",
       "      <td>16.0</td>\n",
       "      <td>-0.000364</td>\n",
       "    </tr>\n",
       "    <tr>\n",
       "      <th>1115886</th>\n",
       "      <td>hold</td>\n",
       "      <td>59482502</td>\n",
       "      <td>2.0</td>\n",
       "      <td>5.0</td>\n",
       "      <td>-0.000332</td>\n",
       "    </tr>\n",
       "    <tr>\n",
       "      <th>754399</th>\n",
       "      <td>crisis</td>\n",
       "      <td>27522377</td>\n",
       "      <td>3.0</td>\n",
       "      <td>5.0</td>\n",
       "      <td>-0.000309</td>\n",
       "    </tr>\n",
       "    <tr>\n",
       "      <th>869562</th>\n",
       "      <td>economic</td>\n",
       "      <td>155956183</td>\n",
       "      <td>2.0</td>\n",
       "      <td>4.0</td>\n",
       "      <td>-0.000206</td>\n",
       "    </tr>\n",
       "    <tr>\n",
       "      <th>1993224</th>\n",
       "      <td>stood</td>\n",
       "      <td>43873178</td>\n",
       "      <td>2.0</td>\n",
       "      <td>3.0</td>\n",
       "      <td>-0.000156</td>\n",
       "    </tr>\n",
       "    <tr>\n",
       "      <th>1966070</th>\n",
       "      <td>space</td>\n",
       "      <td>77355449</td>\n",
       "      <td>2.0</td>\n",
       "      <td>3.0</td>\n",
       "      <td>-0.000146</td>\n",
       "    </tr>\n",
       "    <tr>\n",
       "      <th>662608</th>\n",
       "      <td>central</td>\n",
       "      <td>99494834</td>\n",
       "      <td>2.0</td>\n",
       "      <td>3.0</td>\n",
       "      <td>-0.000145</td>\n",
       "    </tr>\n",
       "    <tr>\n",
       "      <th>1810883</th>\n",
       "      <td>response</td>\n",
       "      <td>66631194</td>\n",
       "      <td>2.0</td>\n",
       "      <td>2.0</td>\n",
       "      <td>-0.000061</td>\n",
       "    </tr>\n",
       "    <tr>\n",
       "      <th>1125288</th>\n",
       "      <td>however</td>\n",
       "      <td>329597894</td>\n",
       "      <td>2.0</td>\n",
       "      <td>0.0</td>\n",
       "      <td>-0.000057</td>\n",
       "    </tr>\n",
       "    <tr>\n",
       "      <th>1518759</th>\n",
       "      <td>nation</td>\n",
       "      <td>55917882</td>\n",
       "      <td>4.0</td>\n",
       "      <td>4.0</td>\n",
       "      <td>-0.000056</td>\n",
       "    </tr>\n",
       "    <tr>\n",
       "      <th>1608228</th>\n",
       "      <td>others</td>\n",
       "      <td>167472370</td>\n",
       "      <td>3.0</td>\n",
       "      <td>2.0</td>\n",
       "      <td>-0.000041</td>\n",
       "    </tr>\n",
       "    <tr>\n",
       "      <th>1878993</th>\n",
       "      <td>scheme</td>\n",
       "      <td>28351163</td>\n",
       "      <td>2.0</td>\n",
       "      <td>2.0</td>\n",
       "      <td>-0.000040</td>\n",
       "    </tr>\n",
       "    <tr>\n",
       "      <th>725369</th>\n",
       "      <td>conditions</td>\n",
       "      <td>131825903</td>\n",
       "      <td>2.0</td>\n",
       "      <td>1.0</td>\n",
       "      <td>-0.000024</td>\n",
       "    </tr>\n",
       "    <tr>\n",
       "      <th>2155492</th>\n",
       "      <td>used</td>\n",
       "      <td>343500989</td>\n",
       "      <td>4.0</td>\n",
       "      <td>1.0</td>\n",
       "      <td>-0.000023</td>\n",
       "    </tr>\n",
       "    <tr>\n",
       "      <th>1453350</th>\n",
       "      <td>might</td>\n",
       "      <td>237391725</td>\n",
       "      <td>2.0</td>\n",
       "      <td>0.0</td>\n",
       "      <td>-0.000023</td>\n",
       "    </tr>\n",
       "    <tr>\n",
       "      <th>1315422</th>\n",
       "      <td>large</td>\n",
       "      <td>224058105</td>\n",
       "      <td>2.0</td>\n",
       "      <td>0.0</td>\n",
       "      <td>-0.000017</td>\n",
       "    </tr>\n",
       "    <tr>\n",
       "      <th>745016</th>\n",
       "      <td>could</td>\n",
       "      <td>527355835</td>\n",
       "      <td>5.0</td>\n",
       "      <td>0.0</td>\n",
       "      <td>-0.000017</td>\n",
       "    </tr>\n",
       "    <tr>\n",
       "      <th>1558893</th>\n",
       "      <td>north</td>\n",
       "      <td>115084528</td>\n",
       "      <td>2.0</td>\n",
       "      <td>1.0</td>\n",
       "      <td>-0.000014</td>\n",
       "    </tr>\n",
       "    <tr>\n",
       "      <th>2233403</th>\n",
       "      <td>within</td>\n",
       "      <td>217269644</td>\n",
       "      <td>2.0</td>\n",
       "      <td>0.0</td>\n",
       "      <td>-0.000014</td>\n",
       "    </tr>\n",
       "    <tr>\n",
       "      <th>921855</th>\n",
       "      <td>ever</td>\n",
       "      <td>114254404</td>\n",
       "      <td>3.0</td>\n",
       "      <td>2.0</td>\n",
       "      <td>-0.000013</td>\n",
       "    </tr>\n",
       "  </tbody>\n",
       "</table>\n",
       "</div>"
      ],
      "text/plain": [
       "               word  global_count  2004_lee_hsien_loong  2020_lee_hsien_loong  \\\n",
       "1518841    national     178377868                  11.0                  16.0   \n",
       "1115886        hold      59482502                   2.0                   5.0   \n",
       "754399       crisis      27522377                   3.0                   5.0   \n",
       "869562     economic     155956183                   2.0                   4.0   \n",
       "1993224       stood      43873178                   2.0                   3.0   \n",
       "1966070       space      77355449                   2.0                   3.0   \n",
       "662608      central      99494834                   2.0                   3.0   \n",
       "1810883    response      66631194                   2.0                   2.0   \n",
       "1125288     however     329597894                   2.0                   0.0   \n",
       "1518759      nation      55917882                   4.0                   4.0   \n",
       "1608228      others     167472370                   3.0                   2.0   \n",
       "1878993      scheme      28351163                   2.0                   2.0   \n",
       "725369   conditions     131825903                   2.0                   1.0   \n",
       "2155492        used     343500989                   4.0                   1.0   \n",
       "1453350       might     237391725                   2.0                   0.0   \n",
       "1315422       large     224058105                   2.0                   0.0   \n",
       "745016        could     527355835                   5.0                   0.0   \n",
       "1558893       north     115084528                   2.0                   1.0   \n",
       "2233403      within     217269644                   2.0                   0.0   \n",
       "921855         ever     114254404                   3.0                   2.0   \n",
       "\n",
       "         log_odds_z_score  \n",
       "1518841         -0.000364  \n",
       "1115886         -0.000332  \n",
       "754399          -0.000309  \n",
       "869562          -0.000206  \n",
       "1993224         -0.000156  \n",
       "1966070         -0.000146  \n",
       "662608          -0.000145  \n",
       "1810883         -0.000061  \n",
       "1125288         -0.000057  \n",
       "1518759         -0.000056  \n",
       "1608228         -0.000041  \n",
       "1878993         -0.000040  \n",
       "725369          -0.000024  \n",
       "2155492         -0.000023  \n",
       "1453350         -0.000023  \n",
       "1315422         -0.000017  \n",
       "745016          -0.000017  \n",
       "1558893         -0.000014  \n",
       "2233403         -0.000014  \n",
       "921855          -0.000013  "
      ]
     },
     "execution_count": 121,
     "metadata": {},
     "output_type": "execute_result"
    }
   ],
   "source": [
    "### Below shows the representative words of 2004 National Day speech by PM Lee. \n",
    "top_words_df[top_words_df[counts_i_name] >= 2].iloc[::-1].head(20)"
   ]
  },
  {
   "cell_type": "code",
   "execution_count": 122,
   "metadata": {},
   "outputs": [
    {
     "data": {
      "text/html": [
       "<div>\n",
       "<style scoped>\n",
       "    .dataframe tbody tr th:only-of-type {\n",
       "        vertical-align: middle;\n",
       "    }\n",
       "\n",
       "    .dataframe tbody tr th {\n",
       "        vertical-align: top;\n",
       "    }\n",
       "\n",
       "    .dataframe thead th {\n",
       "        text-align: right;\n",
       "    }\n",
       "</style>\n",
       "<table border=\"1\" class=\"dataframe\">\n",
       "  <thead>\n",
       "    <tr style=\"text-align: right;\">\n",
       "      <th></th>\n",
       "      <th>word</th>\n",
       "      <th>global_count</th>\n",
       "      <th>2004_lee_hsien_loong</th>\n",
       "      <th>2020_lee_hsien_loong</th>\n",
       "      <th>log_odds_z_score</th>\n",
       "    </tr>\n",
       "  </thead>\n",
       "  <tbody>\n",
       "    <tr>\n",
       "      <th>1936977</th>\n",
       "      <td>singaporeans</td>\n",
       "      <td>59735</td>\n",
       "      <td>36.0</td>\n",
       "      <td>8.0</td>\n",
       "      <td>0.080991</td>\n",
       "    </tr>\n",
       "    <tr>\n",
       "      <th>1936971</th>\n",
       "      <td>singapore</td>\n",
       "      <td>6472873</td>\n",
       "      <td>66.0</td>\n",
       "      <td>8.0</td>\n",
       "      <td>0.016101</td>\n",
       "    </tr>\n",
       "    <tr>\n",
       "      <th>1218251</th>\n",
       "      <td>jobs</td>\n",
       "      <td>23240011</td>\n",
       "      <td>25.0</td>\n",
       "      <td>3.0</td>\n",
       "      <td>0.003191</td>\n",
       "    </tr>\n",
       "    <tr>\n",
       "      <th>1657023</th>\n",
       "      <td>people</td>\n",
       "      <td>394910756</td>\n",
       "      <td>96.0</td>\n",
       "      <td>3.0</td>\n",
       "      <td>0.003163</td>\n",
       "    </tr>\n",
       "    <tr>\n",
       "      <th>1094121</th>\n",
       "      <td>help</td>\n",
       "      <td>118062585</td>\n",
       "      <td>41.0</td>\n",
       "      <td>3.0</td>\n",
       "      <td>0.002393</td>\n",
       "    </tr>\n",
       "    <tr>\n",
       "      <th>2000272</th>\n",
       "      <td>students</td>\n",
       "      <td>93581046</td>\n",
       "      <td>28.0</td>\n",
       "      <td>2.0</td>\n",
       "      <td>0.001829</td>\n",
       "    </tr>\n",
       "    <tr>\n",
       "      <th>716689</th>\n",
       "      <td>come</td>\n",
       "      <td>200277592</td>\n",
       "      <td>39.0</td>\n",
       "      <td>3.0</td>\n",
       "      <td>0.001694</td>\n",
       "    </tr>\n",
       "    <tr>\n",
       "      <th>1525334</th>\n",
       "      <td>need</td>\n",
       "      <td>160186128</td>\n",
       "      <td>34.0</td>\n",
       "      <td>3.0</td>\n",
       "      <td>0.001638</td>\n",
       "    </tr>\n",
       "    <tr>\n",
       "      <th>1165322</th>\n",
       "      <td>independence</td>\n",
       "      <td>30325925</td>\n",
       "      <td>15.0</td>\n",
       "      <td>2.0</td>\n",
       "      <td>0.001628</td>\n",
       "    </tr>\n",
       "    <tr>\n",
       "      <th>1332720</th>\n",
       "      <td>let</td>\n",
       "      <td>128330275</td>\n",
       "      <td>29.0</td>\n",
       "      <td>2.0</td>\n",
       "      <td>0.001601</td>\n",
       "    </tr>\n",
       "    <tr>\n",
       "      <th>1400732</th>\n",
       "      <td>many</td>\n",
       "      <td>452630440</td>\n",
       "      <td>50.0</td>\n",
       "      <td>3.0</td>\n",
       "      <td>0.001405</td>\n",
       "    </tr>\n",
       "    <tr>\n",
       "      <th>1591520</th>\n",
       "      <td>one</td>\n",
       "      <td>1338393252</td>\n",
       "      <td>91.0</td>\n",
       "      <td>5.0</td>\n",
       "      <td>0.001393</td>\n",
       "    </tr>\n",
       "    <tr>\n",
       "      <th>1359338</th>\n",
       "      <td>look</td>\n",
       "      <td>108500971</td>\n",
       "      <td>26.0</td>\n",
       "      <td>5.0</td>\n",
       "      <td>0.001348</td>\n",
       "    </tr>\n",
       "    <tr>\n",
       "      <th>562156</th>\n",
       "      <td>better</td>\n",
       "      <td>133577894</td>\n",
       "      <td>23.0</td>\n",
       "      <td>2.0</td>\n",
       "      <td>0.001199</td>\n",
       "    </tr>\n",
       "    <tr>\n",
       "      <th>520696</th>\n",
       "      <td>back</td>\n",
       "      <td>233507652</td>\n",
       "      <td>29.0</td>\n",
       "      <td>2.0</td>\n",
       "      <td>0.001136</td>\n",
       "    </tr>\n",
       "    <tr>\n",
       "      <th>2037094</th>\n",
       "      <td>take</td>\n",
       "      <td>221775446</td>\n",
       "      <td>29.0</td>\n",
       "      <td>3.0</td>\n",
       "      <td>0.001124</td>\n",
       "    </tr>\n",
       "    <tr>\n",
       "      <th>2255664</th>\n",
       "      <td>years</td>\n",
       "      <td>362033803</td>\n",
       "      <td>39.0</td>\n",
       "      <td>6.0</td>\n",
       "      <td>0.001086</td>\n",
       "    </tr>\n",
       "    <tr>\n",
       "      <th>2238908</th>\n",
       "      <td>workers</td>\n",
       "      <td>80061317</td>\n",
       "      <td>17.0</td>\n",
       "      <td>3.0</td>\n",
       "      <td>0.001040</td>\n",
       "    </tr>\n",
       "    <tr>\n",
       "      <th>938672</th>\n",
       "      <td>families</td>\n",
       "      <td>43835426</td>\n",
       "      <td>12.0</td>\n",
       "      <td>2.0</td>\n",
       "      <td>0.001019</td>\n",
       "    </tr>\n",
       "    <tr>\n",
       "      <th>444114</th>\n",
       "      <td>also</td>\n",
       "      <td>649923792</td>\n",
       "      <td>53.0</td>\n",
       "      <td>10.0</td>\n",
       "      <td>0.001004</td>\n",
       "    </tr>\n",
       "  </tbody>\n",
       "</table>\n",
       "</div>"
      ],
      "text/plain": [
       "                 word  global_count  2004_lee_hsien_loong  \\\n",
       "1936977  singaporeans         59735                  36.0   \n",
       "1936971     singapore       6472873                  66.0   \n",
       "1218251          jobs      23240011                  25.0   \n",
       "1657023        people     394910756                  96.0   \n",
       "1094121          help     118062585                  41.0   \n",
       "2000272      students      93581046                  28.0   \n",
       "716689           come     200277592                  39.0   \n",
       "1525334          need     160186128                  34.0   \n",
       "1165322  independence      30325925                  15.0   \n",
       "1332720           let     128330275                  29.0   \n",
       "1400732          many     452630440                  50.0   \n",
       "1591520           one    1338393252                  91.0   \n",
       "1359338          look     108500971                  26.0   \n",
       "562156         better     133577894                  23.0   \n",
       "520696           back     233507652                  29.0   \n",
       "2037094          take     221775446                  29.0   \n",
       "2255664         years     362033803                  39.0   \n",
       "2238908       workers      80061317                  17.0   \n",
       "938672       families      43835426                  12.0   \n",
       "444114           also     649923792                  53.0   \n",
       "\n",
       "         2020_lee_hsien_loong  log_odds_z_score  \n",
       "1936977                   8.0          0.080991  \n",
       "1936971                   8.0          0.016101  \n",
       "1218251                   3.0          0.003191  \n",
       "1657023                   3.0          0.003163  \n",
       "1094121                   3.0          0.002393  \n",
       "2000272                   2.0          0.001829  \n",
       "716689                    3.0          0.001694  \n",
       "1525334                   3.0          0.001638  \n",
       "1165322                   2.0          0.001628  \n",
       "1332720                   2.0          0.001601  \n",
       "1400732                   3.0          0.001405  \n",
       "1591520                   5.0          0.001393  \n",
       "1359338                   5.0          0.001348  \n",
       "562156                    2.0          0.001199  \n",
       "520696                    2.0          0.001136  \n",
       "2037094                   3.0          0.001124  \n",
       "2255664                   6.0          0.001086  \n",
       "2238908                   3.0          0.001040  \n",
       "938672                    2.0          0.001019  \n",
       "444114                   10.0          0.001004  "
      ]
     },
     "execution_count": 122,
     "metadata": {},
     "output_type": "execute_result"
    }
   ],
   "source": [
    "### Below shows the representative words of 2020 National Day speech by PM Lee. \n",
    "top_words_df[top_words_df[counts_j_name] >= 2].head(20)\n"
   ]
  },
  {
   "cell_type": "code",
   "execution_count": 113,
   "metadata": {},
   "outputs": [],
   "source": [
    "### Below function will simply help you to print the above table into file, so that we can use it for drawing word cloud. \n",
    "### The output of this function is a csv file where each row contains (word, log_odds_z_score) for the two corpora. \n",
    "### threshold_i and threshold_j are the threshold of word frequency. \n",
    "### num_i and num_j are the number of representative words it will write in file. \n",
    "find_discriminative_words(top_words_df, threshold_i=2, threshold_j=2, num_i=20, num_j=20, mypath='.')\n"
   ]
  },
  {
   "cell_type": "code",
   "execution_count": null,
   "metadata": {},
   "outputs": [],
   "source": []
  },
  {
   "cell_type": "markdown",
   "metadata": {},
   "source": [
    "## Let's draw WordClouds based on log odds values "
   ]
  },
  {
   "cell_type": "code",
   "execution_count": 114,
   "metadata": {},
   "outputs": [],
   "source": [
    "### Create ```plot``` folder \n",
    "os.makedirs('plot', exist_ok=True)"
   ]
  },
  {
   "cell_type": "code",
   "execution_count": 119,
   "metadata": {},
   "outputs": [
    {
     "data": {
      "image/png": "[encoded data removed]",
      "text/plain": [
       "<Figure size 432x288 with 1 Axes>"
      ]
     },
     "metadata": {
      "needs_background": "light"
     },
     "output_type": "display_data"
    }
   ],
   "source": [
    "fullTermsDict = read_word_count_file(f\"{mypath}/word_counts/wordcloud_word_{counts_i_name}_zscore.csv\")\n",
    "outputfile = f\"./plot/wordcloud_log_odds_unigram_{counts_i_name}_compared with_{counts_j_name}\"\n",
    "makeImage(fullTermsDict, outputfile)\n"
   ]
  },
  {
   "cell_type": "code",
   "execution_count": 120,
   "metadata": {},
   "outputs": [
    {
     "data": {
      "image/png": "[encoded data removed]",
      "text/plain": [
       "<Figure size 432x288 with 1 Axes>"
      ]
     },
     "metadata": {
      "needs_background": "light"
     },
     "output_type": "display_data"
    }
   ],
   "source": [
    "fullTermsDict = read_log_odds_file(f\"{mypath}/word_counts/wordcloud_word_{counts_j_name}_zscore.csv\")\n",
    "outputfile = f\"./plot/wordcloud_log_odds_unigram_{counts_j_name}_compared_with_{counts_i_name}\"\n",
    "makeImage(fullTermsDict, outputfile)\n"
   ]
  },
  {
   "cell_type": "code",
   "execution_count": null,
   "metadata": {},
   "outputs": [],
   "source": []
  },
  {
   "cell_type": "code",
   "execution_count": null,
   "metadata": {},
   "outputs": [],
   "source": []
  },
  {
   "cell_type": "code",
   "execution_count": null,
   "metadata": {},
   "outputs": [],
   "source": []
  },
  {
   "cell_type": "code",
   "execution_count": null,
   "metadata": {},
   "outputs": [],
   "source": []
  }
 ],
 "metadata": {
  "colab": {
   "collapsed_sections": [],
   "name": "Lab4_sentiment_analysis.ipynb",
   "provenance": [],
   "toc_visible": true
  },
  "kernelspec": {
   "display_name": "Python 3",
   "language": "python",
   "name": "python3"
  },
  "language_info": {
   "codemirror_mode": {
    "name": "ipython",
    "version": 3
   },
   "file_extension": ".py",
   "mimetype": "text/x-python",
   "name": "python",
   "nbconvert_exporter": "python",
   "pygments_lexer": "ipython3",
   "version": "3.8.5"
  }
 },
 "nbformat": 4,
 "nbformat_minor": 1
}
