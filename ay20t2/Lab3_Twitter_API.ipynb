{
 "cells": [
  {
   "cell_type": "markdown",
   "metadata": {
    "id": "VKVp54FJN2Do"
   },
   "source": [
    "# Lab 3 - Twitter API\n",
    "\n",
    "In this lab, you will learn how to retrieve tweets data from Twitter by using an open source library called [Tweepy](https://docs.tweepy.org/en/latest/). Tweepy gives you a very convenient way to access the Twitter API with Python.  \n",
    "\n",
    "Also, check the official [Twitter API](https://developer.twitter.com/en/docs/twitter-api/getting-started/guide).\n",
    "\n",
    "This lab is written by Michelle KAN (michellekan@smu.edu.sg) and Jisun AN (jisunan@smu.edu.sg).\n",
    "\n",
    "Let's first install the tweepy library:<br>"
   ]
  },
  {
   "cell_type": "code",
   "execution_count": null,
   "metadata": {
    "colab": {
     "base_uri": "https://localhost:8080/"
    },
    "executionInfo": {
     "elapsed": 4568,
     "status": "ok",
     "timestamp": 1611585242400,
     "user": {
      "displayName": "Jisun An",
      "photoUrl": "",
      "userId": "09226046566822916181"
     },
     "user_tz": -480
    },
    "id": "riNSHhDAN2Du",
    "outputId": "0d37569b-98c4-40be-82d8-e35ed47db8c7",
    "scrolled": true
   },
   "outputs": [],
   "source": [
    "## This it OPTIONAL if you are running the current notebook using Google Colab\n",
    "!pip install tweepy"
   ]
  },
  {
   "cell_type": "markdown",
   "metadata": {
    "id": "NnKJQw2xN2Dv"
   },
   "source": [
    "## 1) Authentication\n",
    "\n",
    "The following code imports the tweepy library and other required libraries. Twitter API uses the [tweepy.AuthHandler](https://docs.tweepy.org/en/v3.5.0/auth_tutorial.html) class for authentication. "
   ]
  },
  {
   "cell_type": "code",
   "execution_count": null,
   "metadata": {
    "executionInfo": {
     "elapsed": 874,
     "status": "ok",
     "timestamp": 1611585292764,
     "user": {
      "displayName": "Jisun An",
      "photoUrl": "",
      "userId": "09226046566822916181"
     },
     "user_tz": -480
    },
    "id": "5MsX2ofHN2Dw"
   },
   "outputs": [],
   "source": [
    "import tweepy\n",
    "from tweepy import OAuthHandler"
   ]
  },
  {
   "cell_type": "markdown",
   "metadata": {
    "id": "fLfR_UPZN2Dw"
   },
   "source": [
    "Before using the Twitter API, you will need a Twitter account, and to have obtained Twitter API authentication credentials.<br>Set your authentication credentials below. <br>"
   ]
  },
  {
   "cell_type": "code",
   "execution_count": null,
   "metadata": {
    "id": "ZG3CTaj_N2Dx"
   },
   "outputs": [],
   "source": [
    "# Consumer/Access key/secret/token obtained from Twitter\n",
    "# You should have created a Twitter app and gotten these keys.\n",
    "# Do NOT share your key/secret/token with other students.\n",
    "consumer_key    = ''\n",
    "consumer_secret = ''\n",
    "access_token    = ''\n",
    "access_secret   = ''"
   ]
  },
  {
   "cell_type": "markdown",
   "metadata": {
    "id": "TMYJNw7KN2Dx"
   },
   "source": [
    "The following code creates an authorization object with your above authentication info and calls the Twitter's API."
   ]
  },
  {
   "cell_type": "code",
   "execution_count": null,
   "metadata": {
    "colab": {
     "base_uri": "https://localhost:8080/"
    },
    "executionInfo": {
     "elapsed": 888,
     "status": "ok",
     "timestamp": 1611585314776,
     "user": {
      "displayName": "Jisun An",
      "photoUrl": "",
      "userId": "09226046566822916181"
     },
     "user_tz": -480
    },
    "id": "FZBc-9SfN2Dz",
    "outputId": "a74ccb31-a1e0-4930-ebba-1d5d1deaf01b"
   },
   "outputs": [],
   "source": [
    "auth = OAuthHandler(consumer_key, consumer_secret)\n",
    "auth.set_access_token(access_token, access_secret)\n",
    "\n",
    "# This line finally calls Twitter's Rest API.\n",
    "api = tweepy.API(auth)\n",
    "#api = tweepy.API(auth,wait_on_rate_limit=True, wait_on_rate_limit_notify=True)\n",
    "\n",
    "# The following codes verify if the authentication is successful\n",
    "# If all goes well, you should see a message saying Authentication OK.\n",
    "# Otherwise, check your Consumer/Access key/secret/token\n",
    "try:\n",
    "    api.verify_credentials()\n",
    "    print(\"Authentication OK\")\n",
    "except:\n",
    "    print(\"Error during authentication\")"
   ]
  },
  {
   "cell_type": "markdown",
   "metadata": {
    "id": "Jam99XujaXu7"
   },
   "source": [
    "## 2) Types of Twitter API & Tweepy Cursor\n",
    "\n",
    "### 2-1) Twitter REST API\n",
    "\n",
    "The REST API is to pull data from Twitter. \n",
    "\n",
    "We can do retrieve tweets based on query or tweets of all users using `tweepy.Cursor.` \n",
    "\n",
    "`tweepy.Cursor` method deals with the pagination -- if there's many tweets returned, it makes it easy to iterate the data.\n",
    "\n",
    "\n",
    "#### a) Search tweets\n",
    "\n",
    "Below will return five tweets containing search words \n",
    "\n",
    "```\n",
    "search_words = 'covid'\n",
    "max_tweets = 5\n",
    "tweets = tweepy.Cursor(api.search, q=search_words, tweet_mode='extended').items(max_tweets)\n",
    "```\n",
    "\n",
    "\n",
    "#### b) Users tweets\n",
    "\n",
    "Below will return 5 tweets posted by BiilGates\n",
    "\n",
    "```\n",
    "username = 'BillGates'\n",
    "max_tweets = 5\n",
    "tweets = tweepy.Cursor(api.user_timeline, id=username, tweet_mode='extended').items(max_tweets)\n",
    "```\n",
    "\n",
    "\n",
    "### 2-2) Streaming API tweets\n",
    "The Twitter streaming API is used to download twitter messages in real time. It is useful for obtaining a high volume of tweets, or for creating a live feed using a site stream or user stream. See the [Twitter Streaming API Documentation](https://developer.twitter.com/en/docs/tweets/filter-realtime/overview).\n",
    "\n",
    "```\n",
    "keyword = 'covid'\n",
    "myStream.filter(track=[keyword])\n",
    "```\n",
    "\n",
    "\n",
    "\n"
   ]
  },
  {
   "cell_type": "markdown",
   "metadata": {
    "id": "DIg2gAt3N2D1"
   },
   "source": [
    "## 3) Search Tweets\n",
    "\n",
    "Now you are ready to search Twitter for recent tweets! \n",
    "\n",
    "\n",
    " \n",
    "### a) Search Tweets using Keywords\n",
    "\n",
    "\n",
    "To create this query, you will define the:\n",
    "- Search term \n",
    "- start date of your search (optional)\n",
    " \n",
    "Note: Search API returns tweets with specific search terms, posted in the last 7 days. You need a premium account for going further than 7 days. "
   ]
  },
  {
   "cell_type": "markdown",
   "metadata": {
    "id": "afCa3u2vN2D0"
   },
   "source": [
    "(Optional) Uncomment and run the following code snippet if you wish to enable Python logging to know what's happening underlying in the API call."
   ]
  },
  {
   "cell_type": "code",
   "execution_count": null,
   "metadata": {
    "id": "ocLOaD9zN2D0"
   },
   "outputs": [],
   "source": [
    "# import logging\n",
    "# logging.basicConfig(level=logging.DEBUG,\n",
    "#                     format='%(asctime)s %(name)-12s %(levelname)-8s %(message)s',\n",
    "#                     datefmt='%m-%d %H:%M:%S')\n",
    "# logger = logging.getLogger(__name__)"
   ]
  },
  {
   "cell_type": "code",
   "execution_count": null,
   "metadata": {
    "executionInfo": {
     "elapsed": 821,
     "status": "ok",
     "timestamp": 1611585333314,
     "user": {
      "displayName": "Jisun An",
      "photoUrl": "",
      "userId": "09226046566822916181"
     },
     "user_tz": -480
    },
    "id": "OuAji2zfN2D1"
   },
   "outputs": [],
   "source": [
    "# Define the search term and the date_since date as variables\n",
    "search_words = 'covid'\n",
    "date_since = \"2021-01-24\" #if you want to collect data from yesterday\n",
    "\n",
    "max_tweets = 5"
   ]
  },
  {
   "cell_type": "markdown",
   "metadata": {
    "id": "Db16LM5TN2D1"
   },
   "source": [
    "Below we use `tweepy.Cursor()` to search for tweets containing the specified search_words and perform pagination. Parameters:\n",
    "-   `api.search` – tweepy api method that returns a collection of relevant Tweets matching a specified query\n",
    "- \t`q` – the search query string of 500 characters maximum, including operators. Queries may additionally be limited by complexity.\n",
    "-   `lang` – restricts tweets to the given language\n",
    "-   `since` – returns tweet created on or after this date. Date should be formatted as YYYY-MM-DD.\n",
    "\n",
    "You can restrict the number of tweets returned by specifying a number in the `.items()` method. `.items(5)` will return 5 of the most recent tweets"
   ]
  },
  {
   "cell_type": "code",
   "execution_count": null,
   "metadata": {
    "executionInfo": {
     "elapsed": 1100,
     "status": "ok",
     "timestamp": 1611585338628,
     "user": {
      "displayName": "Jisun An",
      "photoUrl": "",
      "userId": "09226046566822916181"
     },
     "user_tz": -480
    },
    "id": "twLFHAVlZzPP"
   },
   "outputs": [],
   "source": [
    "# Below will return five tweets containing search words \n",
    "tweets = tweepy.Cursor(api.search, q=search_words, tweet_mode='extended').items(max_tweets)\n"
   ]
  },
  {
   "cell_type": "code",
   "execution_count": null,
   "metadata": {
    "id": "-brNt50TN2D2"
   },
   "outputs": [],
   "source": [
    "# You can add other parameters like lang, since, etc) \n",
    "tweets = tweepy.Cursor(api.search, q=search_words, lang=\"en\", since=date_since, tweet_mode='extended').items(max_tweets)\n"
   ]
  },
  {
   "cell_type": "markdown",
   "metadata": {
    "id": "chixNUKMN2D2"
   },
   "source": [
    "`tweets.Cursor()` returns an object `ItemIterator` that you can iterate to access the tweet data collected. Each tweet item in the iterator has various attributes including:\n",
    "\n",
    "- the text of the tweet\n",
    "- the date the tweet was sent\n",
    "- and more. \n",
    "\n",
    "The code below loops through the object and prints the text associated with each tweet."
   ]
  },
  {
   "cell_type": "code",
   "execution_count": null,
   "metadata": {
    "colab": {
     "base_uri": "https://localhost:8080/"
    },
    "executionInfo": {
     "elapsed": 870,
     "status": "ok",
     "timestamp": 1611585381303,
     "user": {
      "displayName": "Jisun An",
      "photoUrl": "",
      "userId": "09226046566822916181"
     },
     "user_tz": -480
    },
    "id": "Nugg_TxHo6dL",
    "outputId": "b4a485f1-1ca4-43d7-e62a-646536149c57"
   },
   "outputs": [],
   "source": [
    "tweets = tweepy.Cursor(api.search, q=search_words, lang=\"en\", since=date_since, tweet_mode='extended').items(max_tweets)\n",
    "\n",
    "# Iterate tweets\n",
    "for tweet in tweets:\n",
    "    # print out user's screen name & tweet text\n",
    "    print(\"----------------------------------------------------\")\n",
    "    print ('Tweet ID ' + str(tweet.id))\n",
    "    print ('Created at ' + str(tweet.created_at))\n",
    "    \n",
    "    # Extracting tweet text when in Extended Mode\n",
    "    try: # If it's Retweet\n",
    "        text = tweet.retweeted_status.full_text\n",
    "    except AttributeError:  # Not a Retweet\n",
    "        text = tweet.full_text\n",
    "    print('\\t Tweet: ' + text)\n"
   ]
  },
  {
   "cell_type": "markdown",
   "metadata": {
    "id": "g-Bv1I7gN2D3"
   },
   "source": [
    "#### <img align=\"left\" src=\"https://docs.google.com/uc?id=1m3oi2yHQnNISJ5EhmWVhRsqPFao6qSU4\" width=\"50\"/><br><br>Who is Tweeting About 'covid'?\n",
    "\n",
    "You can access a wealth of information associated with each tweet. \n",
    "\n",
    "Below is an example of accessing information of users who are sending the tweets including users' screen name and their locations. Note that user locations are manually entered into Twitter by the user. Thus, you will see a lot of variation in the format of this value.\n",
    "\n",
    "- tweet.user.screen_name provides the user’s twitter handle associated with each tweet.\n",
    "- tweet.user.location provides the user’s provided location.\n",
    "\n",
    "You can try to include other items available within each tweet by checking out the [twitter developer documentation](https://developer.twitter.com/en/docs/twitter-api/v1/data-dictionary/object-model/tweet)."
   ]
  },
  {
   "cell_type": "code",
   "execution_count": null,
   "metadata": {
    "colab": {
     "base_uri": "https://localhost:8080/"
    },
    "executionInfo": {
     "elapsed": 1087,
     "status": "ok",
     "timestamp": 1611585408342,
     "user": {
      "displayName": "Jisun An",
      "photoUrl": "",
      "userId": "09226046566822916181"
     },
     "user_tz": -480
    },
    "id": "ybY9g0hJm8n_",
    "outputId": "a2aec118-c3a5-408d-8d88-fd0a2ee9c892",
    "scrolled": true
   },
   "outputs": [],
   "source": [
    "tweets = tweepy.Cursor(api.search, q=search_words, lang=\"en\", since=date_since, tweet_mode='extended').items(max_tweets)\n",
    "\n",
    "for tweet in tweets:\n",
    "    print(\"----------------------------------------------------\")\n",
    "    print ('Tweet ID ' + str(tweet.id))\n",
    "    print (f'Tweeted by: @{tweet.user.screen_name} Created at: {str(tweet.created_at)} Location: {tweet.user.location}' )\n",
    "    # Extract text when in Extended Mode\n",
    "    try: # If it's Retweet\n",
    "        text = tweet.retweeted_status.full_text\n",
    "    except AttributeError:  # Not a Retweet\n",
    "        text = tweet.full_text\n",
    "    print('\\t' + text)"
   ]
  },
  {
   "cell_type": "markdown",
   "metadata": {
    "id": "GWBj4H83nf85"
   },
   "source": [
    "#### Save Tweets in a JSON format into a File\n",
    "\n",
    "\n",
    "Twitter API has limits in how many times we can call APIs to collect the data (Twitter Rate Limit). So, it's always better to save the data in the file. "
   ]
  },
  {
   "cell_type": "markdown",
   "metadata": {
    "id": "vsp2KB43qTwT"
   },
   "source": [
    "What is JSON? \n",
    "\n",
    "JavaScript Object Notation (JSON) is a standard text-based format for representing structured data based on JavaScript object syntax.\n",
    "\n",
    "Table / Database --> Text format\n",
    "\n",
    "| id        | name           | tweet  |\n",
    "| ------------- |:-------------:| -----:|\n",
    "| 123      | Jisun | Hello |\n",
    "| 456      | Michelle      |  Welcome |\n",
    "\n",
    "JSON\n",
    "`[{'id':123, 'name':'Jisun', 'tweet':'Hello'},{'id':456, 'name':'Michelle', 'tweet':'Welcome'}]`\n"
   ]
  },
  {
   "cell_type": "code",
   "execution_count": null,
   "metadata": {
    "executionInfo": {
     "elapsed": 763,
     "status": "ok",
     "timestamp": 1611585451104,
     "user": {
      "displayName": "Jisun An",
      "photoUrl": "",
      "userId": "09226046566822916181"
     },
     "user_tz": -480
    },
    "id": "CMzh9Dbu9pAd"
   },
   "outputs": [],
   "source": [
    "import json"
   ]
  },
  {
   "cell_type": "code",
   "execution_count": null,
   "metadata": {
    "executionInfo": {
     "elapsed": 801,
     "status": "ok",
     "timestamp": 1611585453032,
     "user": {
      "displayName": "Jisun An",
      "photoUrl": "",
      "userId": "09226046566822916181"
     },
     "user_tz": -480
    },
    "id": "IpjscjoG9pAd"
   },
   "outputs": [],
   "source": [
    "# 'mypath' variable can be changed to your local path or Google Drive path\n",
    "mypath = \".\""
   ]
  },
  {
   "cell_type": "code",
   "execution_count": null,
   "metadata": {
    "executionInfo": {
     "elapsed": 1121,
     "status": "ok",
     "timestamp": 1611585455588,
     "user": {
      "displayName": "Jisun An",
      "photoUrl": "",
      "userId": "09226046566822916181"
     },
     "user_tz": -480
    },
    "id": "1oHn7Fgkm-e9"
   },
   "outputs": [],
   "source": [
    "tweets = tweepy.Cursor(api.search, q=search_words, lang=\"en\", since=date_since, tweet_mode='extended').items(max_tweets)\n",
    "# Write data into a file\n",
    "filename = f\"{mypath}/tweets_{search_words}.jsons\"\n",
    "with open(filename, \"w\") as output:\n",
    "    for tweet in tweets:\n",
    "        myjson = tweet._json\n",
    "        output.write(json.dumps(myjson)+\"\\n\")\n"
   ]
  },
  {
   "cell_type": "markdown",
   "metadata": {
    "id": "mK6ab00Zp2G7"
   },
   "source": [
    "Read tweets from the file.\n",
    "\n",
    "Let's read the first tweet."
   ]
  },
  {
   "cell_type": "code",
   "execution_count": null,
   "metadata": {
    "executionInfo": {
     "elapsed": 790,
     "status": "ok",
     "timestamp": 1611585494443,
     "user": {
      "displayName": "Jisun An",
      "photoUrl": "",
      "userId": "09226046566822916181"
     },
     "user_tz": -480
    },
    "id": "lHp8kO02p0gR"
   },
   "outputs": [],
   "source": [
    "# Read data from a file\n",
    "filename = f\"{mypath}/tweets_{search_words}.jsons\"\n",
    "\n",
    "with open(filename) as fi:\n",
    "    for line_cnt, line in enumerate(fi):\n",
    "        tweet = json.loads(line.strip())\n",
    "        break # Break here so that we read the first line of the file\n",
    "        "
   ]
  },
  {
   "cell_type": "code",
   "execution_count": null,
   "metadata": {
    "colab": {
     "base_uri": "https://localhost:8080/"
    },
    "executionInfo": {
     "elapsed": 799,
     "status": "ok",
     "timestamp": 1611585500156,
     "user": {
      "displayName": "Jisun An",
      "photoUrl": "",
      "userId": "09226046566822916181"
     },
     "user_tz": -480
    },
    "id": "adG1FgMGqHvB",
    "outputId": "bfda2a6c-88a7-4473-a25a-cbf754d8a32a"
   },
   "outputs": [],
   "source": [
    "# Print JSON formated text in pretty way\n",
    "import pprint\n",
    "\n",
    "pprint.pprint(tweet)"
   ]
  },
  {
   "cell_type": "code",
   "execution_count": null,
   "metadata": {
    "colab": {
     "base_uri": "https://localhost:8080/"
    },
    "executionInfo": {
     "elapsed": 801,
     "status": "ok",
     "timestamp": 1611585516531,
     "user": {
      "displayName": "Jisun An",
      "photoUrl": "",
      "userId": "09226046566822916181"
     },
     "user_tz": -480
    },
    "id": "q57bFeKOp7OX",
    "outputId": "2f7d7d26-b874-477f-b913-8cc6b81b7f7c"
   },
   "outputs": [],
   "source": [
    "# Check keys in json\n",
    "tweet.keys()"
   ]
  },
  {
   "cell_type": "code",
   "execution_count": null,
   "metadata": {
    "colab": {
     "base_uri": "https://localhost:8080/"
    },
    "executionInfo": {
     "elapsed": 777,
     "status": "ok",
     "timestamp": 1611585521433,
     "user": {
      "displayName": "Jisun An",
      "photoUrl": "",
      "userId": "09226046566822916181"
     },
     "user_tz": -480
    },
    "id": "-gdr9UZSq8y_",
    "outputId": "227ef9ca-dcce-4523-9958-b3ddc36c68f6"
   },
   "outputs": [],
   "source": [
    "# How to access values in json\n",
    "print(tweet['id'])\n",
    "print(tweet['user']['name'])\n"
   ]
  },
  {
   "cell_type": "markdown",
   "metadata": {
    "id": "aQmweDFR9pAf"
   },
   "source": [
    "#### Extract data from json"
   ]
  },
  {
   "cell_type": "code",
   "execution_count": null,
   "metadata": {
    "colab": {
     "base_uri": "https://localhost:8080/"
    },
    "executionInfo": {
     "elapsed": 852,
     "status": "ok",
     "timestamp": 1611585549524,
     "user": {
      "displayName": "Jisun An",
      "photoUrl": "",
      "userId": "09226046566822916181"
     },
     "user_tz": -480
    },
    "id": "jHv_zg7jjord",
    "outputId": "4dcea687-7467-47b4-97aa-6a6f287b038d"
   },
   "outputs": [],
   "source": [
    "# Read data from a file\n",
    "filename = f\"{mypath}/tweets_{search_words}.jsons\"\n",
    "\n",
    "with open(filename) as fi:\n",
    "    for line_cnt, line in enumerate(fi):\n",
    "        tweet = json.loads(line.strip())\n",
    "\n",
    "        tweetid = tweet['id']\n",
    "        created_at = tweet['created_at']\n",
    "\n",
    "        # Extract text from tweets in Extended Mode\n",
    "        if 'retweeted_status' in tweet: # If it's Retweet\n",
    "            text = tweet['retweeted_status']['full_text']\n",
    "        else:  # Not a Retweet\n",
    "            text = tweet['full_text']\n",
    "\n",
    "        user_screen_name = tweet['user']['screen_name']\n",
    "        user_location = tweet['user']['location']\n",
    "\n",
    "        print(\"--------------------------\")\n",
    "        print (f'Tweet ID: {tweetid}')\n",
    "        print (f'Tweeted by: @{user_screen_name}, Created at {created_at}, User Location: {user_location}' )\n",
    "        print(f'\\t {text}')\n",
    "\n",
    "        break #If you want to read other lines, comment this out\n"
   ]
  },
  {
   "cell_type": "markdown",
   "metadata": {
    "id": "Lk_6twn8N2D4"
   },
   "source": [
    "### Exercise 1\n",
    "\n",
    "Using the tweets retrieval code example given above, add on the following details for each tweet retrieved:\n",
    "- Number of times the Tweet has been retweeted (a retweet is when someone shares someone else’s tweet.)\n",
    "- Source/application used to post the Tweet.\n",
    "- User's name and friends count in Twitter\n",
    "\n",
    "You may take reference to the [twitter developer documentation](https://developer.twitter.com/en/docs/twitter-api/v1/data-dictionary/object-model/tweet). \n",
    "\n",
    "An example of the expected tweet output is given as follows: the tweet has been retweeted 21 times, the tweet has been posted using 'Twitter for Android' and user 'Cotonete' has 82 friends in Twitter:<br>\n",
    "<img align=\"center\" src='https://drive.google.com/uc?export=view&id=1WHGR9Q9ou4_w_zMhioEfVyhV1VxYNenk' style=\"height: 110px;\">\n",
    "\n",
    "As shown above there could be two ways to get this done. You can use Tweepy API or you can use the saved file. \n",
    "\n",
    "Try both!\n"
   ]
  },
  {
   "cell_type": "code",
   "execution_count": null,
   "metadata": {
    "id": "9a8JQZPPN2D4"
   },
   "outputs": [],
   "source": [
    "## Enter your code below using Tweepy API\n",
    "\n"
   ]
  },
  {
   "cell_type": "code",
   "execution_count": null,
   "metadata": {
    "id": "eGHKW63LwYqX"
   },
   "outputs": [],
   "source": [
    "## Enter your code below using the saved file\n"
   ]
  },
  {
   "cell_type": "markdown",
   "metadata": {
    "id": "1WcJviiCN2D5"
   },
   "source": [
    "#### Removing Retweets\n",
    "\n",
    "In the above example, some of the tweets retrieved may contain prefix 'RT' which means they are retweets. A retweet is when someone shares someone else’s tweet. It is similar to sharing in Facebook. Sometimes you may want to remove retweets as they contain duplicate content that might skew your analysis if you are only looking at word frequency. Other times, you may want to keep retweets.\n",
    "\n",
    "Below you ignore all retweets by adding `-filter:retweets` to your query. You may wish to check out the [Twitter API](https://docs.tweepy.org/en/latest/api.html) documentation on other ways to customize your queries"
   ]
  },
  {
   "cell_type": "code",
   "execution_count": null,
   "metadata": {
    "colab": {
     "base_uri": "https://localhost:8080/"
    },
    "executionInfo": {
     "elapsed": 787,
     "status": "ok",
     "timestamp": 1611585561144,
     "user": {
      "displayName": "Jisun An",
      "photoUrl": "",
      "userId": "09226046566822916181"
     },
     "user_tz": -480
    },
    "id": "j5C8b-izN2D5",
    "outputId": "b16022d2-cda5-46b4-dbed-8f56d47ea2a6",
    "scrolled": true
   },
   "outputs": [],
   "source": [
    "new_search = search_words + \" -filter:retweets\" \n",
    "# new_search has the value \"clean energy -filter:retweets\"\n",
    "\n",
    "tweets = tweepy.Cursor(api.search,q=new_search, lang=\"en\",since=date_since).items(8)\n",
    "\n",
    "for tweet in tweets:\n",
    "    print(\"----------------------------------------------------\")\n",
    "    print (f'Tweeted by: @{tweet.user.screen_name} Created at: {str(tweet.created_at)} Location: {tweet.user.location}' )\n",
    "    print(f'\\tText: {tweet.text}')\n",
    "    "
   ]
  },
  {
   "cell_type": "markdown",
   "metadata": {
    "id": "M76tDLKeN2D5"
   },
   "source": [
    "### Create a Pandas Dataframe From A List of Tweet Data\n",
    "\n",
    "Instead of displaying on screen, you can also populate a pandas dataframe using tweets data retrieved."
   ]
  },
  {
   "cell_type": "code",
   "execution_count": null,
   "metadata": {
    "colab": {
     "base_uri": "https://localhost:8080/",
     "height": 297
    },
    "executionInfo": {
     "elapsed": 800,
     "status": "ok",
     "timestamp": 1611585568768,
     "user": {
      "displayName": "Jisun An",
      "photoUrl": "",
      "userId": "09226046566822916181"
     },
     "user_tz": -480
    },
    "id": "oPZl5GzYN2D6",
    "outputId": "8742db25-2c7d-4f75-e5a2-5735f2bb26d2"
   },
   "outputs": [],
   "source": [
    "import pandas as pd\n",
    "\n",
    "# setting parameters and retrieving tweets\n",
    "new_search = search_words + \" -filter:retweets\" \n",
    "tweets = tweepy.Cursor(api.search,q=new_search, lang=\"en\",since=date_since,tweet_mode='extended').items(8)\n",
    "\n",
    "## initialise list to be used to store tweets retrieved\n",
    "tweets_list = []\n",
    "\n",
    "## appending tweets retrieved into a list\n",
    "for tweet in tweets:\n",
    "    \n",
    "    try: # If it's Retweet\n",
    "        text = tweet.retweeted_status.full_text\n",
    "    except AttributeError:  # Not a Retweet\n",
    "        text = tweet.full_text\n",
    "\n",
    "    tweets_list.append([tweet.user.screen_name, tweet.created_at, tweet.user.location, text])\n",
    "\n",
    "# populate dataframe with list of tweets\n",
    "tweet_df = pd.DataFrame(data=tweets_list, columns=['user','created_at','location','text'])\n",
    "tweet_df"
   ]
  },
  {
   "cell_type": "code",
   "execution_count": null,
   "metadata": {
    "id": "9BRZaiiLN2D6"
   },
   "outputs": [],
   "source": [
    "## save the data into a csv file\n",
    "tweet_df.to_csv('covid_tweet.csv')"
   ]
  },
  {
   "cell_type": "markdown",
   "metadata": {
    "id": "EyMvH1JoN2D7"
   },
   "source": [
    "### Search Tweets by Specific User\n",
    "\n",
    "Besides keyword, we can also retrieve tweets posted by specific Twitter user. \n",
    "\n",
    "Parameters:\n",
    "-   `api.user_timeline` – tweepy api method that returns the most recent statuses (up to 20) posted from the user specified.\n",
    "-   `id` – unique user ID or screen name of a user\n",
    "-   `lang` – restricts tweets to the given language\n",
    "-   `include_rts` – boolean indicator to specify whether to include retweets\n",
    "-   `exclude_replies` – boolean indicator to specify whether to exclude tweet replies\n",
    "\n",
    "Similarly, you can restrict the number of tweets returned by specifying a number in the `.items()` method. `.items(10)` will return 10 of the most recent tweets.\n",
    "\n",
    "Let's look at the following example that retrieves tweets posted by UK Model World Health Organization. "
   ]
  },
  {
   "cell_type": "code",
   "execution_count": null,
   "metadata": {
    "colab": {
     "base_uri": "https://localhost:8080/",
     "height": 359
    },
    "executionInfo": {
     "elapsed": 1327,
     "status": "ok",
     "timestamp": 1611585623257,
     "user": {
      "displayName": "Jisun An",
      "photoUrl": "",
      "userId": "09226046566822916181"
     },
     "user_tz": -480
    },
    "id": "vKw8Kp68N2D7",
    "outputId": "8547f9fb-d2e1-4ca9-8c81-2e44189ffce0"
   },
   "outputs": [],
   "source": [
    "import pandas as pd\n",
    "\n",
    "user_id = \"UKModelWHO\"\n",
    "\n",
    "## initialise list to be used to store tweets retrieved\n",
    "tweets_list = []\n",
    "\n",
    "## appending tweets retrieved into a list\n",
    "for tweet in tweepy.Cursor(api.user_timeline, id=user_id ,lang=\"en\", include_rts=False, exclude_replies=True, tweet_mode='extended').items(10):\n",
    "    try: # If it's Retweet\n",
    "        text = tweet.retweeted_status.full_text\n",
    "    except AttributeError:  # Not a Retweet\n",
    "        text = tweet.full_text\n",
    "    tweets_list.append([tweet.user.screen_name, tweet.id, tweet.created_at, text])\n",
    "\n",
    "# populate dataframe with list of tweets specifying required column names\n",
    "tweet_df = pd.DataFrame(data=tweets_list, columns=['user','tweetid','created_at','text'])\n",
    "tweet_df\n"
   ]
  },
  {
   "cell_type": "code",
   "execution_count": null,
   "metadata": {
    "executionInfo": {
     "elapsed": 771,
     "status": "ok",
     "timestamp": 1611585590853,
     "user": {
      "displayName": "Jisun An",
      "photoUrl": "",
      "userId": "09226046566822916181"
     },
     "user_tz": -480
    },
    "id": "T63PtWjEN2D8"
   },
   "outputs": [],
   "source": [
    "## save the data into a csv file\n",
    "tweet_df.to_csv('ukmodelwho_tweet.csv')"
   ]
  },
  {
   "cell_type": "markdown",
   "metadata": {
    "id": "nHp2Hm9L9pAi"
   },
   "source": [
    "You can save tweets in their original json format"
   ]
  },
  {
   "cell_type": "code",
   "execution_count": null,
   "metadata": {
    "executionInfo": {
     "elapsed": 1017,
     "status": "ok",
     "timestamp": 1611585594006,
     "user": {
      "displayName": "Jisun An",
      "photoUrl": "",
      "userId": "09226046566822916181"
     },
     "user_tz": -480
    },
    "id": "1KHQF3C-N2D8"
   },
   "outputs": [],
   "source": [
    "user_id = \"UKModelWHO\"\n",
    "\n",
    "tweets = tweepy.Cursor(api.user_timeline, id=user_id ,lang=\"en\", include_rts=False, exclude_replies=True, tweet_mode='extended').items(10)\n",
    "\n",
    "filename = f\"{mypath}/tweets_{user_id}.jsons\"\n",
    "with open(filename, \"w\") as output:\n",
    "    for tweet in tweets:\n",
    "        myjson = tweet._json\n",
    "        output.write(json.dumps(myjson)+\"\\n\")\n"
   ]
  },
  {
   "cell_type": "markdown",
   "metadata": {
    "id": "-2PhlHoa9pAi"
   },
   "source": [
    "Create dataframe from json files"
   ]
  },
  {
   "cell_type": "code",
   "execution_count": null,
   "metadata": {
    "colab": {
     "base_uri": "https://localhost:8080/",
     "height": 359
    },
    "executionInfo": {
     "elapsed": 817,
     "status": "ok",
     "timestamp": 1611585598870,
     "user": {
      "displayName": "Jisun An",
      "photoUrl": "",
      "userId": "09226046566822916181"
     },
     "user_tz": -480
    },
    "id": "VGPEq6mejE7R",
    "outputId": "0868adba-7ea8-48a8-cc07-b5cb234fefe4"
   },
   "outputs": [],
   "source": [
    "tweets_list = []\n",
    "\n",
    "filename = f\"{mypath}/tweets_{user_id}.jsons\"\n",
    "with open(filename) as fi:\n",
    "    for line_cnt, line in enumerate(fi):\n",
    "        tweet = json.loads(line)\n",
    "\n",
    "        tweet = json.loads(line.strip())\n",
    "\n",
    "        tweetid = tweet['id']\n",
    "        created_at = tweet['created_at']\n",
    "        # # # Extended Mode\n",
    "        if 'retweeted_status' in tweet: # If it's Retweet\n",
    "            text = tweet['retweeted_status']['full_text']\n",
    "        else:  # Not a Retweet\n",
    "            text = tweet['full_text']\n",
    "\n",
    "        user_screen_name = tweet['user']['screen_name']\n",
    "\n",
    "        tweets_list.append([user_screen_name, tweetid, created_at, text])\n",
    "\n",
    "# populate dataframe with list of tweets specifying required column names\n",
    "tweet_df = pd.DataFrame(data=tweets_list, columns=['user','tweetid', 'created_at', 'text'])\n",
    "tweet_df\n",
    "\n",
    "    "
   ]
  },
  {
   "cell_type": "code",
   "execution_count": null,
   "metadata": {
    "id": "MS2InjZfjFea"
   },
   "outputs": [],
   "source": []
  },
  {
   "cell_type": "markdown",
   "metadata": {
    "id": "-3W9zqUk0xor"
   },
   "source": [
    "## 4) Streming API"
   ]
  },
  {
   "cell_type": "markdown",
   "metadata": {
    "id": "UD_cwfQv04gL"
   },
   "source": [
    "Step 1: Creating a StreamListener\n",
    "\n",
    "`on_data()` is called when new data comes in\n"
   ]
  },
  {
   "cell_type": "code",
   "execution_count": null,
   "metadata": {
    "executionInfo": {
     "elapsed": 1004,
     "status": "ok",
     "timestamp": 1611585649887,
     "user": {
      "displayName": "Jisun An",
      "photoUrl": "",
      "userId": "09226046566822916181"
     },
     "user_tz": -480
    },
    "id": "SEoXjLD60xZ3"
   },
   "outputs": [],
   "source": [
    "class MyStreamListener(tweepy.StreamListener):\n",
    "\n",
    "    \"\"\" A listener handles tweets are the received from the stream.\n",
    "    This is a basic listener that just prints received tweets to stdout.\n",
    "\n",
    "    \"\"\"\n",
    "    def on_data(self, data):\n",
    "        myjson=data[:-1]\n",
    "        myoutput.write(myjson+\"\\n\")\n",
    "        return True\n",
    "\n",
    "    def on_error(self, status):\n",
    "        print (\"Error\", status)\n",
    "        "
   ]
  },
  {
   "cell_type": "markdown",
   "metadata": {
    "id": "Jux7RER92OV6"
   },
   "source": [
    "Step 2: Creating a Stream\n"
   ]
  },
  {
   "cell_type": "code",
   "execution_count": null,
   "metadata": {
    "executionInfo": {
     "elapsed": 824,
     "status": "ok",
     "timestamp": 1611585652089,
     "user": {
      "displayName": "Jisun An",
      "photoUrl": "",
      "userId": "09226046566822916181"
     },
     "user_tz": -480
    },
    "id": "RzHJkcfB2OAs"
   },
   "outputs": [],
   "source": [
    "myStreamListener = MyStreamListener()\n",
    "myStream = tweepy.Stream(auth = api.auth, listener=myStreamListener, tweet_mode='extended')\n"
   ]
  },
  {
   "cell_type": "markdown",
   "metadata": {
    "id": "Dp3EceDp9pAj"
   },
   "source": [
    "You need to stop the process before it collects too much data!!"
   ]
  },
  {
   "cell_type": "code",
   "execution_count": null,
   "metadata": {
    "colab": {
     "base_uri": "https://localhost:8080/",
     "height": 392
    },
    "executionInfo": {
     "elapsed": 10930,
     "status": "error",
     "timestamp": 1611585666449,
     "user": {
      "displayName": "Jisun An",
      "photoUrl": "",
      "userId": "09226046566822916181"
     },
     "user_tz": -480
    },
    "id": "GxctUZCUjFkH",
    "outputId": "81410300-910a-44be-ec7f-d35a74690fbb"
   },
   "outputs": [],
   "source": [
    "keyword = 'covid'\n",
    "\n",
    "myfilename = f'{mypath}/stream_tweets_{keyword}.jsons'\n",
    "myoutput = open(myfilename, 'w')\n",
    "\n",
    "while True:\n",
    "    try:\n",
    "        # myStream.filter(track=['coronavirus', 'covid', 'chinese virus', 'wuhan', 'ncov', 'sars-cov-2', 'koronavirus', 'corona', 'cdc', 'N95', 'kungflu', 'epidemic', 'outbreak', 'sinophobia', 'china', 'pandemic', 'covd'])\n",
    "        myStream.filter(track=[keyword])\n",
    "\n",
    "    except Exception as e:\n",
    "        raise\n"
   ]
  },
  {
   "cell_type": "code",
   "execution_count": null,
   "metadata": {
    "executionInfo": {
     "elapsed": 845,
     "status": "ok",
     "timestamp": 1611585727196,
     "user": {
      "displayName": "Jisun An",
      "photoUrl": "",
      "userId": "09226046566822916181"
     },
     "user_tz": -480
    },
    "id": "FwKZLG_K25IR"
   },
   "outputs": [],
   "source": [
    "outfilename = f\"{mypath}/simple_stream_tweets_{keyword}.tsv\" \n",
    "\n",
    "with open(myfilename) as fi, open(outfilename, 'w') as output:\n",
    "    # Write header in the file to load the file into dataframe\n",
    "    output.write(\"\\t\".join(['user_screen_name', 'tweetid', 'created_at', 'text'])+\"\\n\")\n",
    "    \n",
    "    for line_cnt, line in enumerate(fi):\n",
    "        try:\n",
    "            tweet = json.loads(line.strip())\n",
    "        except: # The last json is not complate \n",
    "            continue\n",
    "        \n",
    "        if 'limit' in tweet:\n",
    "            continue\n",
    "        \n",
    "        tweetid = tweet['id']\n",
    "        \n",
    "        created_at = tweet['created_at']\n",
    "        user_screen_name = tweet['user']['screen_name']\n",
    "\n",
    "        # Extract Tweet text from Streaming API when in Extended Mode \n",
    "        text = tweet['text']\n",
    "        try:\n",
    "            text = tweet['extended_tweet']['full_text']\n",
    "        except:\n",
    "            pass\n",
    "\n",
    "        # Below line will remove all tabs and line breaks from text\n",
    "        text = \" \".join(text.split())\n",
    "\n",
    "        output.write(\"\\t\".join([user_screen_name, str(tweetid), created_at, text])+\"\\n\")\n",
    "\n",
    "    "
   ]
  },
  {
   "cell_type": "markdown",
   "metadata": {
    "id": "B3N9l2ho9pAj"
   },
   "source": [
    "Reading file into dataframe"
   ]
  },
  {
   "cell_type": "code",
   "execution_count": null,
   "metadata": {
    "colab": {
     "base_uri": "https://localhost:8080/",
     "height": 221
    },
    "executionInfo": {
     "elapsed": 832,
     "status": "ok",
     "timestamp": 1611585742220,
     "user": {
      "displayName": "Jisun An",
      "photoUrl": "",
      "userId": "09226046566822916181"
     },
     "user_tz": -480
    },
    "id": "g7fEXrhg7dKT",
    "outputId": "d2d397c6-7ff4-4464-8dd7-6c3ec862ae68"
   },
   "outputs": [],
   "source": [
    "infilename = f\"{mypath}/simple_stream_tweets_{keyword}.tsv\" \n",
    "df = pd.read_csv(infilename, sep=\"\\t\")\n",
    "print(df.shape)\n",
    "df.head()"
   ]
  },
  {
   "cell_type": "markdown",
   "metadata": {
    "id": "6QeJVPyh9pAj"
   },
   "source": [
    "## Exercise 2\n",
    "\n",
    "Draw wordcloud using the collected tweets from Twitter streaming api\n"
   ]
  },
  {
   "cell_type": "code",
   "execution_count": null,
   "metadata": {
    "colab": {
     "base_uri": "https://localhost:8080/"
    },
    "executionInfo": {
     "elapsed": 824,
     "status": "ok",
     "timestamp": 1611585750451,
     "user": {
      "displayName": "Jisun An",
      "photoUrl": "",
      "userId": "09226046566822916181"
     },
     "user_tz": -480
    },
    "id": "ytr_v5w29pAk",
    "outputId": "16365da1-f2f0-42a7-858a-17be9503b613"
   },
   "outputs": [],
   "source": [
    "!conda install --yes -c conda-forge wordcloud"
   ]
  },
  {
   "cell_type": "code",
   "execution_count": null,
   "metadata": {
    "executionInfo": {
     "elapsed": 828,
     "status": "ok",
     "timestamp": 1611585752551,
     "user": {
      "displayName": "Jisun An",
      "photoUrl": "",
      "userId": "09226046566822916181"
     },
     "user_tz": -480
    },
    "id": "Wcd9WVi89pAk"
   },
   "outputs": [],
   "source": [
    "# Import relevant libraries\n",
    "\n",
    "from wordcloud import WordCloud, STOPWORDS\n",
    "import matplotlib.pyplot as plt"
   ]
  },
  {
   "cell_type": "code",
   "execution_count": null,
   "metadata": {
    "executionInfo": {
     "elapsed": 923,
     "status": "ok",
     "timestamp": 1611585772545,
     "user": {
      "displayName": "Jisun An",
      "photoUrl": "",
      "userId": "09226046566822916181"
     },
     "user_tz": -480
    },
    "id": "MtOq-K_K9pAk"
   },
   "outputs": [],
   "source": [
    "# Enter your code to extract twets from dataframe and combine in one sentence (Hint: Using join function)\n"
   ]
  },
  {
   "cell_type": "code",
   "execution_count": null,
   "metadata": {
    "colab": {
     "base_uri": "https://localhost:8080/",
     "height": 198
    },
    "executionInfo": {
     "elapsed": 2878,
     "status": "ok",
     "timestamp": 1611585782010,
     "user": {
      "displayName": "Jisun An",
      "photoUrl": "",
      "userId": "09226046566822916181"
     },
     "user_tz": -480
    },
    "id": "R5bwxYhz7c_D",
    "outputId": "ecb0a748-6fa0-4224-f9ff-44c61ebcee21"
   },
   "outputs": [],
   "source": [
    "# Enter your code to draw WordCloud\n"
   ]
  },
  {
   "cell_type": "markdown",
   "metadata": {
    "id": "j24kG99A9pAk"
   },
   "source": [
    "## 5) Sentiment analysis using VADER"
   ]
  },
  {
   "cell_type": "markdown",
   "metadata": {
    "id": "PKSExInY9pAk"
   },
   "source": [
    "VADER (Valence Aware Dictionary and sEntiment Reasoner) is a lexicon and rule-based sentiment analysis tool that is specifically attuned to sentiments expressed in social media. \n",
    "\n",
    "VADER not only tells about the Positivity and Negativity score but also tells us about how positive or negative a sentiment is.\n",
    "\n",
    "Read more about VADER [here](https://github.com/cjhutto/vaderSentiment).\n",
    "\n"
   ]
  },
  {
   "cell_type": "code",
   "execution_count": null,
   "metadata": {
    "colab": {
     "base_uri": "https://localhost:8080/"
    },
    "executionInfo": {
     "elapsed": 3609,
     "status": "ok",
     "timestamp": 1611585803715,
     "user": {
      "displayName": "Jisun An",
      "photoUrl": "",
      "userId": "09226046566822916181"
     },
     "user_tz": -480
    },
    "id": "gjcdtu_a9pAk",
    "outputId": "2a3e3396-4320-4da2-f584-c59dd138a828"
   },
   "outputs": [],
   "source": [
    "!pip install vaderSentiment\n"
   ]
  },
  {
   "cell_type": "code",
   "execution_count": null,
   "metadata": {
    "executionInfo": {
     "elapsed": 2011,
     "status": "ok",
     "timestamp": 1611585803716,
     "user": {
      "displayName": "Jisun An",
      "photoUrl": "",
      "userId": "09226046566822916181"
     },
     "user_tz": -480
    },
    "id": "6sIQwFSn9pAk"
   },
   "outputs": [],
   "source": [
    "# import SentimentIntensityAnalyzer class \n",
    "# from vaderSentiment.vaderSentiment module. \n",
    "from vaderSentiment.vaderSentiment import SentimentIntensityAnalyzer "
   ]
  },
  {
   "cell_type": "code",
   "execution_count": null,
   "metadata": {
    "executionInfo": {
     "elapsed": 807,
     "status": "ok",
     "timestamp": 1611585807099,
     "user": {
      "displayName": "Jisun An",
      "photoUrl": "",
      "userId": "09226046566822916181"
     },
     "user_tz": -480
    },
    "id": "sfFEbFyN9pAk"
   },
   "outputs": [],
   "source": [
    "# function to print sentiments \n",
    "# of the sentence. \n",
    "def sentiment_scores(sentence): \n",
    "  \n",
    "    # Create a SentimentIntensityAnalyzer object. \n",
    "    sid_obj = SentimentIntensityAnalyzer() \n",
    "  \n",
    "    # polarity_scores method of SentimentIntensityAnalyzer \n",
    "    # oject gives a sentiment dictionary. \n",
    "    # which contains pos, neg, neu, and compound scores. \n",
    "    sentiment_dict = sid_obj.polarity_scores(sentence) \n",
    "      \n",
    "    print(\"Overall sentiment dictionary is : \", sentiment_dict) \n",
    "    print(\"sentence was rated as \", sentiment_dict['neg']*100, \"% Negative\") \n",
    "    print(\"sentence was rated as \", sentiment_dict['neu']*100, \"% Neutral\") \n",
    "    print(\"sentence was rated as \", sentiment_dict['pos']*100, \"% Positive\") \n",
    "  \n",
    "    print(\"Sentence Overall Rated As\", end = \" \") \n",
    "  \n",
    "    # decide sentiment as positive, negative and neutral \n",
    "    if sentiment_dict['compound'] >= 0.05 : \n",
    "        print(\"Positive\") \n",
    "  \n",
    "    elif sentiment_dict['compound'] <= - 0.05 : \n",
    "        print(\"Negative\") \n",
    "  \n",
    "    else : \n",
    "        print(\"Neutral\") \n",
    "  \n"
   ]
  },
  {
   "cell_type": "code",
   "execution_count": null,
   "metadata": {
    "colab": {
     "base_uri": "https://localhost:8080/"
    },
    "executionInfo": {
     "elapsed": 895,
     "status": "ok",
     "timestamp": 1611585809842,
     "user": {
      "displayName": "Jisun An",
      "photoUrl": "",
      "userId": "09226046566822916181"
     },
     "user_tz": -480
    },
    "id": "r80Lsrnf9pAl",
    "outputId": "6a2e8dad-e6fe-4b30-8909-8ae2e6000238"
   },
   "outputs": [],
   "source": [
    "print(\"\\n1st statement :\") \n",
    "sentence = \"eLearn is the best portal for students.\" \n",
    "# function calling \n",
    "sentiment_scores(sentence) \n",
    "\n",
    "print(\"\\n2nd Statement :\") \n",
    "sentence = \"study is going on as usual\"\n",
    "sentiment_scores(sentence) \n",
    "\n",
    "print(\"\\n3rd Statement :\") \n",
    "sentence = \"I am vey sad today.\"\n",
    "sentiment_scores(sentence) \n",
    "    "
   ]
  },
  {
   "cell_type": "markdown",
   "metadata": {
    "id": "4m6VLIUx9pAl"
   },
   "source": [
    "## Exercise 3 - Sentiment analysis on the collected tweets\n",
    "\n",
    "1. Write a python function that returns VADER's 'compound score' of a sentence\n",
    "2. Re-read your tweets and put them into DataFrame (df)\n",
    "3. Apply function (1) to every row in a Pandas DataFrame. Hint: Check [this blog post](https://www.geeksforgeeks.org/apply-function-to-every-row-in-a-pandas-dataframe/)\n",
    "4. Plot histogram of vader compound score\n"
   ]
  },
  {
   "cell_type": "code",
   "execution_count": null,
   "metadata": {
    "executionInfo": {
     "elapsed": 827,
     "status": "ok",
     "timestamp": 1611585826366,
     "user": {
      "displayName": "Jisun An",
      "photoUrl": "",
      "userId": "09226046566822916181"
     },
     "user_tz": -480
    },
    "id": "mbjZZMv59pAl"
   },
   "outputs": [],
   "source": [
    "# 1. Write a python function that returns VADER's 'compound score' of a sentence\n",
    "\n",
    "def vader_compound_score(sentence): \n",
    "    \n",
    "    #[Enter your code]\n",
    "    \n"
   ]
  },
  {
   "cell_type": "code",
   "execution_count": null,
   "metadata": {
    "colab": {
     "base_uri": "https://localhost:8080/",
     "height": 221
    },
    "executionInfo": {
     "elapsed": 781,
     "status": "ok",
     "timestamp": 1611585828664,
     "user": {
      "displayName": "Jisun An",
      "photoUrl": "",
      "userId": "09226046566822916181"
     },
     "user_tz": -480
    },
    "id": "WPKfQT3R9pAl",
    "outputId": "8201d7ab-8b9c-4f86-8e23-668bf814ea0b"
   },
   "outputs": [],
   "source": [
    "# 2. Re-read your tweets and put them into DataFrame (df)\n",
    "# Change infilename accordingly\n",
    "\n",
    "infilename = f\"{mypath}/simple_stream_tweets_{keyword}.tsv\" \n",
    "df = pd.read_csv(infilename, sep=\"\\t\")\n",
    "print(df.shape)\n",
    "df.head()\n"
   ]
  },
  {
   "cell_type": "code",
   "execution_count": null,
   "metadata": {
    "executionInfo": {
     "elapsed": 5403,
     "status": "ok",
     "timestamp": 1611585843205,
     "user": {
      "displayName": "Jisun An",
      "photoUrl": "",
      "userId": "09226046566822916181"
     },
     "user_tz": -480
    },
    "id": "FmnctyTc9pAl"
   },
   "outputs": [],
   "source": [
    "# 3. Apply function (1) to every row in a Pandas DataFrame\n",
    "# Make the column name as 'vader'\n",
    "\n",
    "df['vader'] = # [Enter your code]\n"
   ]
  },
  {
   "cell_type": "code",
   "execution_count": null,
   "metadata": {
    "colab": {
     "base_uri": "https://localhost:8080/",
     "height": 204
    },
    "executionInfo": {
     "elapsed": 804,
     "status": "ok",
     "timestamp": 1611585846249,
     "user": {
      "displayName": "Jisun An",
      "photoUrl": "",
      "userId": "09226046566822916181"
     },
     "user_tz": -480
    },
    "id": "oGWYy1XV9pAm",
    "outputId": "280bdca2-35e9-4d40-bf62-7e69ee213ad1"
   },
   "outputs": [],
   "source": [
    "df.head()"
   ]
  },
  {
   "cell_type": "code",
   "execution_count": null,
   "metadata": {
    "colab": {
     "base_uri": "https://localhost:8080/",
     "height": 333
    },
    "executionInfo": {
     "elapsed": 882,
     "status": "ok",
     "timestamp": 1611585848860,
     "user": {
      "displayName": "Jisun An",
      "photoUrl": "",
      "userId": "09226046566822916181"
     },
     "user_tz": -480
    },
    "id": "Yw6qaiQa9pAn",
    "outputId": "17072e2d-6373-4416-ea04-aaecbe4f2fc4"
   },
   "outputs": [],
   "source": [
    "# 4. Plot histogram of vader compound score\n",
    "\n",
    "plt.hist(df.vader)\n"
   ]
  },
  {
   "cell_type": "code",
   "execution_count": null,
   "metadata": {
    "id": "xyf4oH9V9pAo"
   },
   "outputs": [],
   "source": []
  },
  {
   "cell_type": "code",
   "execution_count": null,
   "metadata": {
    "id": "mFpHKQ5x9pAp"
   },
   "outputs": [],
   "source": []
  },
  {
   "cell_type": "code",
   "execution_count": null,
   "metadata": {
    "id": "YLBDhXbS9pAq"
   },
   "outputs": [],
   "source": []
  },
  {
   "cell_type": "markdown",
   "metadata": {
    "id": "gNQdFBeUjWbN"
   },
   "source": [
    "## 6) [Tip] Conntent to Google Drive"
   ]
  },
  {
   "cell_type": "markdown",
   "metadata": {
    "id": "ionSDcRj9pAq"
   },
   "source": [
    "All data stored in colab will be gone after your session is finished. \n",
    "You can store your data to your Google Drive"
   ]
  },
  {
   "cell_type": "code",
   "execution_count": null,
   "metadata": {
    "id": "2qhWvYHejJ3g"
   },
   "outputs": [],
   "source": [
    "from google.colab import drive\n",
    "drive.mount('/content/drive')\n"
   ]
  },
  {
   "cell_type": "markdown",
   "metadata": {
    "id": "LbQZi1nh9pAq"
   },
   "source": [
    "Change mypath to the path to your folder"
   ]
  },
  {
   "cell_type": "code",
   "execution_count": null,
   "metadata": {
    "id": "kVQgx6jFjJ_D"
   },
   "outputs": [],
   "source": [
    "mypath = '/content/drive/Path_to_your_folder'"
   ]
  },
  {
   "cell_type": "code",
   "execution_count": null,
   "metadata": {
    "id": "m1FN1CI3jKGD"
   },
   "outputs": [],
   "source": [
    "# import os\n",
    "# os.chdir(mypath)  #change dir\n",
    "# print(os.getcwd())\n",
    "# !ls"
   ]
  },
  {
   "cell_type": "code",
   "execution_count": null,
   "metadata": {
    "id": "63fCRC2o9pAq"
   },
   "outputs": [],
   "source": []
  },
  {
   "cell_type": "code",
   "execution_count": null,
   "metadata": {
    "id": "ubeZcANQ9pAr"
   },
   "outputs": [],
   "source": []
  },
  {
   "cell_type": "code",
   "execution_count": null,
   "metadata": {
    "id": "Uuu2pP069pAr"
   },
   "outputs": [],
   "source": []
  }
 ],
 "metadata": {
  "colab": {
   "collapsed_sections": [],
   "name": "Lab 3- Twitter API.ipynb",
   "provenance": [],
   "toc_visible": true
  },
  "kernelspec": {
   "display_name": "Python 3",
   "language": "python",
   "name": "python3"
  },
  "language_info": {
   "codemirror_mode": {
    "name": "ipython",
    "version": 3
   },
   "file_extension": ".py",
   "mimetype": "text/x-python",
   "name": "python",
   "nbconvert_exporter": "python",
   "pygments_lexer": "ipython3",
   "version": "3.8.5"
  }
 },
 "nbformat": 4,
 "nbformat_minor": 1
}
