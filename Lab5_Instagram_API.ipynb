{
 "cells": [
  {
   "cell_type": "markdown",
   "metadata": {
    "id": "VKVp54FJN2Do"
   },
   "source": [
    "# Lab 5 - Instagram API\n",
    "\n",
    "In this lab, you will learn how to:\n",
    "* Download content from [Instagram](https://about.instagram.com/)\n",
    "* Create Pandas Dataframe From Instagram Metadata Files\n",
    "* Identify top hashtags and words\n",
    "\n",
    "This lab is written by Jisun AN (jisunan@smu.edu.sg) and Michelle KAN (michellekan@smu.edu.sg)\n"
   ]
  },
  {
   "cell_type": "code",
   "execution_count": null,
   "metadata": {
    "colab": {
     "base_uri": "https://localhost:8080/"
    },
    "executionInfo": {
     "elapsed": 3975,
     "status": "ok",
     "timestamp": 1612676360559,
     "user": {
      "displayName": "Jisun An",
      "photoUrl": "",
      "userId": "09226046566822916181"
     },
     "user_tz": -480
    },
    "id": "riNSHhDAN2Du",
    "outputId": "722141c5-cbbc-43d9-e8ee-8779d9f886a4",
    "scrolled": true
   },
   "outputs": [],
   "source": [
    "## Install instaloader library\n",
    "!pip install instaloader"
   ]
  },
  {
   "cell_type": "markdown",
   "metadata": {
    "id": "z4U-ibN79_jr"
   },
   "source": [
    "The <b>[Instaloader](https://instaloader.github.io/)</b> module is an open-source Python package having great functionalities to download pictures (or videos) along with the captions and metadata from Instagram.  \n",
    "\n",
    "<b>Key Features of Instaloader:</b>\n",
    "- downloads public and private profiles, hashtags, user stories, feeds and saved media,\n",
    "- downloads comments, geotags and captions of each post,\n",
    "- automatically detects profile name changes and renames the target directory accordingly,\n",
    "- allows fine-grained customization of filters and where to store downloaded media,\n",
    "- automatically resumes previously-interrupted download iterations\n",
    "\n",
    "To access the Instagram content, let's first initialise the Instaloader class and get authenticated.<br>\n",
    "(Note: You will need to sign up for an Instagram account if you do not have one)"
   ]
  },
  {
   "cell_type": "code",
   "execution_count": null,
   "metadata": {
    "colab": {
     "base_uri": "https://localhost:8080/"
    },
    "executionInfo": {
     "elapsed": 4107,
     "status": "ok",
     "timestamp": 1612676366099,
     "user": {
      "displayName": "Jisun An",
      "photoUrl": "",
      "userId": "09226046566822916181"
     },
     "user_tz": -480
    },
    "id": "9Sx-FYnL9_jr",
    "outputId": "753d6c4e-8aaa-4fdd-a198-afd1d8ff48e6"
   },
   "outputs": [],
   "source": [
    "# Import the module\n",
    "import instaloader\n",
    "\n",
    "# Create an instance of Instaloader class\n",
    "loader = instaloader.Instaloader(compress_json=False)\n",
    "\n",
    "# Enter your Instagram handle and password\n",
    "ACCOUNT = ''\n",
    "PASSWORD = ''\n",
    "\n",
    "# Upon successful authentication, you should see a message saying Authentication OK.\n",
    "# Otherwise, check your login details\n",
    "try:\n",
    "    loader.login(ACCOUNT, PASSWORD)\n",
    "    print(\"Authentication OK\")\n",
    "except:\n",
    "    print(\"Error during authentication\")\n"
   ]
  },
  {
   "cell_type": "markdown",
   "metadata": {
    "id": "nGNdGRsJ9_js"
   },
   "source": [
    "## 1. Download Instagram Posts\n",
    "\n",
    "Instaloader provides the __Post__ structure, which represents a picture, video or sidecar (set of multiple pictures/videos) posted in a user’s profile. Instaloader provides the following methods to download and iterate over these Posts:\n",
    "<br>\n",
    "\n",
    "a) <b>Hashtags</b> - triggers a search for posts associated with defined hashtags<br>\n",
    "b) <b>Profiles</b> - provides methods for accessing profile information including user posts, number of followers etc.  \n",
    "c) <b>Locations</b> - triggers a search for posts from a certain location.  \n",
    "\n",
    "See [full list](https://instaloader.github.io/module/structures.html#) of Instagram methods."
   ]
  },
  {
   "cell_type": "markdown",
   "metadata": {
    "id": "s4Uc4WHE9_js"
   },
   "source": [
    "### 1.1. Download by #hashtags\n",
    "\n",
    "The Instaloader `Hashtag` class enables retrieval of Instagram posts associated with a defined hashtag (without preceeding #) using the `get_posts` generator object which contains the post structure.\n",
    "\n",
    "To download each posts, we have to iterate over the generator object using `.download_post()` method of our core Instaloader() object.\n",
    "\n",
    "The following code retrieve posts associated with \"coronavirus\" hashtag. This can take a while in the event of very large profiles and media files being retrieved. <br>\n",
    "\n",
    "<img align=\"left\" src=\"https://docs.google.com/uc?id=1nhCz5zbFKKD4KD-kPxrMIvGBbgET_QZG\" width=\"25\" style=\"vertical-align:middle;margin:0px 10px\"/><b><i>We will stop after getting 5 posts in this example, otherwise it will keep collecting posts.<b><i>"
   ]
  },
  {
   "cell_type": "code",
   "execution_count": null,
   "metadata": {
    "colab": {
     "base_uri": "https://localhost:8080/"
    },
    "executionInfo": {
     "elapsed": 62621,
     "status": "ok",
     "timestamp": 1612676996948,
     "user": {
      "displayName": "Jisun An",
      "photoUrl": "",
      "userId": "09226046566822916181"
     },
     "user_tz": -480
    },
    "id": "nc_bOK7p9_jt",
    "outputId": "7635143e-dd37-454c-e9b0-3f1db8e6482e"
   },
   "outputs": [],
   "source": [
    "HASHTAG = \"coranavirus\"\n",
    "\n",
    "# Create a Hashtag instance from a given hashtag name\n",
    "hashtag = instaloader.Hashtag.from_name(loader.context, HASHTAG)\n",
    "\n",
    "# Load posts with defined hashtag into a generator object\n",
    "loaded_posts = hashtag.get_posts()\n",
    "\n",
    "# To download each posts, we have to iterate over the generator object \n",
    "for cnt_post, post in enumerate(loaded_posts):\n",
    "    if cnt_post >= 5:\n",
    "        break\n",
    "    try:  \n",
    "        loader.download_post(post, target=\"#\"+hashtag.name)\n",
    "    except:\n",
    "        print(\"\\nError in downloading. Process halted.\") \n",
    "        break"
   ]
  },
  {
   "cell_type": "markdown",
   "metadata": {
    "id": "IwhCZKtl9_jt"
   },
   "source": [
    "<img align=\"left\" src=\"https://docs.google.com/uc?id=1IegynNxVgb3GxQoXFD_HPJMRJcx8Rlmk\" width=\"40\" style=\"vertical-align:middle;margin:0px 6px\"/>You should now observe that a folder named <b>#coronavirus</b> has been created in the same location as the current notebook containing downloaded post content, including but not limited to:\n",
    "- `.txt` files with caption of every post\n",
    "- `.json.xz` compressed JSON files of metadata for every post\n",
    "- `.json` files of comments for every post\n",
    "- `.jpg`/`.mp4` media files for every post, with the creation date being the actual published date\n",
    "-  `.txt` files with the location’s name and a Google Maps link when available\n",
    "\n",
    "Your files may appear similar to the following where each set of related Instagram post files will share the same {date_utc} filename:<br>\n",
    "<img align=\"middle\" src=\"https://docs.google.com/uc?id=1_Rb5RXNXm0XDLMlZ717f6YHjjy2TiKA5\" width=\"400\" style=\"vertical-align:middle;margin:0px 10px\"/>\n",
    "<br>\n",
    "<img align=\"left\" src=\"https://docs.google.com/uc?id=1nhCz5zbFKKD4KD-kPxrMIvGBbgET_QZG\" width=\"40\" style=\"vertical-align:middle;margin:0px 10px\"/><b>Important</b> You should respect author’s rights when you \n",
    "download copyrighted content. Do not use images/videos from Instagram for commercial intent)."
   ]
  },
  {
   "cell_type": "markdown",
   "metadata": {
    "id": "VtvnvBYR9_jt"
   },
   "source": [
    "#### Download Top Posts by Hashtags\n",
    "\n",
    "It is often the case that one hashtag contains hundreds of posts. In that case, we would want to limit the number of posts downloaded.\n",
    "\n",
    "Besides, we may want to download only the top posts of a hashtag. We could create a function which uses a for-loop and instaloader's `.get_top_posts()` function. \n",
    "\n",
    "Let’s see the following example to retrieve the top 5 posts pertaining to '#covid19' hashtag."
   ]
  },
  {
   "cell_type": "code",
   "execution_count": null,
   "metadata": {
    "id": "LJkFR1jl9_ju"
   },
   "outputs": [],
   "source": [
    "def top_posts_hashtag(hashtag_name, max_count):\n",
    "    \"\"\"\n",
    "    A function that downloads top {max_count} posts from a hashtag\n",
    "    \"\"\"\n",
    "    # Create a Hashtag instance from a given hashtag name\n",
    "    hashtag = instaloader.Hashtag.from_name(loader.context, hashtag_name)\n",
    "    # Get top posts in a generator\n",
    "    posts = hashtag.get_top_posts()\n",
    "    \n",
    "    for i in range(max_count):\n",
    "        try:\n",
    "            # Download one post structure at a time using next(posts) function\n",
    "            loader.download_post(next(posts), target=f'#{hashtag_name}_top_post')\n",
    "        except:\n",
    "            break # If there are any errors, we break out of the loop"
   ]
  },
  {
   "cell_type": "code",
   "execution_count": null,
   "metadata": {
    "id": "C-ON9y5G9_ju"
   },
   "outputs": [],
   "source": [
    "HASHTAG = 'covid19'\n",
    "\n",
    "# Calling the function to retrieve top 5 posts based on the hashtag defined\n",
    "top_posts_hashtag(HASHTAG, 5)"
   ]
  },
  {
   "cell_type": "markdown",
   "metadata": {
    "id": "r_r44Gyd9_jv"
   },
   "source": [
    "You may observe that it takes time to download posts with very large profiles and media files. Can we choose or determine the content we wish to download?\n",
    "<br>\n",
    "\n",
    "#### Customising Content to be Downloaded\n",
    "\n",
    "The __Instaloader__ class `instaloader.Instaloader()` takes in a list of <i>optional</i> but useful parameters. You can use these parameters to customise the content to be downloaded for each post by the Instaloader.\n",
    "\n",
    "|Instaloader Parameters|Description|\n",
    "|:---|:---|\n",
    "|download_pictures<br>download_video_thumbnails<br>download_videos|Boolean variable whether to download image and video files. True by default.|\n",
    "|download_geotags|Boolean variable whether to download geotags when available.<br>Geotags are stored as a text file with the location’s name and a Google Maps link. True by default |\n",
    "|download_comments|Boolean variable whether to download comments for each post. True by default.|\n",
    "|save_metadata|Boolean variable whether to create a JSON file containing the metadata of each post. True by default.|\n",
    "|compress_json|Boolean variable. JSON files are downloaded as xz compress format by default. <br>Set this parameter to False to download pretty formatted JSONs. |\n",
    "|post_metadata_txt_pattern|Template of caption text file for each Post. Caption textfile will not be created if set to empty string.|\n",
    "\n",
    "Refer to the full list of parameters [here](https://instaloader.github.io/module/instaloader.html).\n",
    "\n",
    "We have not set any parameter values during the initial Instaloader class creation hence the default parameters values are used for the '#covid19' hashtag post download. Let's now update some of the parameters to change the download content:\n",
    "- disable download of media content to speed up the download process\n",
    "- disable download of comments file to speed up the download process\n",
    "- download JSON metadata in pretty format instead of compressed format \n",
    "- disable download of caption text file since caption content can be retrieved from JSON metadata"
   ]
  },
  {
   "cell_type": "code",
   "execution_count": null,
   "metadata": {
    "id": "fbTQQtqu9_jv"
   },
   "outputs": [],
   "source": [
    "import instaloader\n",
    "\n",
    "# customise the parameter settings based on your download preference\n",
    "loader = instaloader.Instaloader(download_pictures=False,\n",
    "                            download_video_thumbnails=False,\n",
    "                            download_videos=False,\n",
    "                            download_comments=False,\n",
    "                            compress_json=False,\n",
    "                            post_metadata_txt_pattern=\"\")\n",
    "\n",
    "### Uncomment the following codes and enter your Instagram login details\n",
    "### to authenticate if you have just restarted your notebook\n",
    "# ACCOUNT = ''\n",
    "# PASSWORD = ''\n",
    "# try:\n",
    "#     loader.login(ACCOUNT, PASSWORD)\n",
    "#     print(\"Authentication OK\")\n",
    "# except:\n",
    "#     print(\"Error during authentication\")\n"
   ]
  },
  {
   "cell_type": "markdown",
   "metadata": {
    "id": "Q5aUcMzW9_jv"
   },
   "source": [
    "You can customise the parameter settings based on your download preference. <br><b>Rerun the Instagram post download by hashtag codes.</b> What difference do you observe?"
   ]
  },
  {
   "cell_type": "markdown",
   "metadata": {
    "id": "lIBaxYEN9_jw"
   },
   "source": [
    "### 1.2 Download by Profiles\n",
    "\n",
    "Let's extract some valuable information from an Instagram profile using the `Profile` object. In this example, we will retrieve the profile of World Health Organization (WHO)."
   ]
  },
  {
   "cell_type": "code",
   "execution_count": null,
   "metadata": {
    "id": "HvFfiEyY9_jw",
    "outputId": "0a99c1b9-6086-443d-b1f1-af6692295cb5"
   },
   "outputs": [],
   "source": [
    "USERNAME='who' #instagram handle\n",
    "\n",
    "# Create a Profile instance from the given username\n",
    "profile = instaloader.Profile.from_username(loader.context, USERNAME)\n",
    "\n",
    "print(\"Username: \", profile.username)\n",
    "print(\"User ID: \", profile.userid)\n",
    "print(\"Number of Posts: \", profile.mediacount)\n",
    "print(\"Followers: \", profile.followers)\n",
    "print(\"Followees: \", profile.followees)\n",
    "print(\"Biography: \", profile.biography,profile.external_url)"
   ]
  },
  {
   "cell_type": "markdown",
   "metadata": {
    "id": "vOpgKGHG9_jx"
   },
   "source": [
    "Similarly, getting posts from any Instagram user profile requires iterating over the generator object using `.download_post()` method of our core Instaloader() object. \n",
    "\n",
    "The following example retrieve 5 Instagram posts by World Health Organization (WHO)."
   ]
  },
  {
   "cell_type": "code",
   "execution_count": null,
   "metadata": {
    "id": "jbWYCzIr9_jx"
   },
   "outputs": [],
   "source": [
    "def get_profile_posts(username, max_count):\n",
    "    \"\"\"\n",
    "    A function that downloads {max_count} posts of an instagram profile\n",
    "    \"\"\"\n",
    "    # Load the hashtag object into a variable\n",
    "    profile = instaloader.Profile.from_username(loader.context, username)\n",
    "    \n",
    "    # Get top posts in a generator\n",
    "    posts = profile.get_posts()\n",
    "    \n",
    "    for i in range(max_count):\n",
    "        try:\n",
    "            # Download one post structure at a time using next(posts) function\n",
    "            loader.download_post(next(posts), target=f\"{profile.username}\")\n",
    "        except:\n",
    "            print(\"Error in downloading post\")\n",
    "            break # If there are any errors, we break out of the loop"
   ]
  },
  {
   "cell_type": "code",
   "execution_count": null,
   "metadata": {
    "id": "iYBJSdEO9_jx",
    "outputId": "bb329ab9-9894-482a-be83-e73f8816e103"
   },
   "outputs": [],
   "source": [
    "USERNAME = 'who' #World Health Organization\n",
    "\n",
    "# Calling the function to retrieve 5 posts based on the USERNAME defined\n",
    "get_profile_posts(USERNAME, 5)"
   ]
  },
  {
   "cell_type": "markdown",
   "metadata": {
    "id": "4_bDMM1q9_jy"
   },
   "source": [
    "Check that a folder has been created with the Profile username <b>ie. 'who'</b> in the same location as the current notebook containing downloaded metadata files. "
   ]
  },
  {
   "cell_type": "markdown",
   "metadata": {
    "id": "6X-TsB4LBAyz"
   },
   "source": [
    "### 1.3 Download by Location\n",
    "\n",
    "Let's collect instagram data based on location. Instagram has its own ID for various locations. For example, 363850430717323 is ID of Universal Studios Singapore.  (Read this blog, [How to find an Instagram location ID](https://axentmedia.com/how-to-find-an-instagram-location-id/)). Once you know you can the following code `loader.download_location(LOCATION_ID, max_count=5)` to collect data based on location. "
   ]
  },
  {
   "cell_type": "code",
   "execution_count": null,
   "metadata": {
    "colab": {
     "base_uri": "https://localhost:8080/"
    },
    "executionInfo": {
     "elapsed": 7143,
     "status": "ok",
     "timestamp": 1612676814694,
     "user": {
      "displayName": "Jisun An",
      "photoUrl": "",
      "userId": "09226046566822916181"
     },
     "user_tz": -480
    },
    "id": "l5CCX6EEBcq5",
    "outputId": "0a2aa47f-dbe7-4bc2-a334-bb5b8d33f2a3"
   },
   "outputs": [],
   "source": [
    "# customise the parameter settings based on your download preference\n",
    "# we will collect pictures, but will not compress json, will not get txt files\n",
    "loader = instaloader.Instaloader(compress_json=False,\n",
    "                            post_metadata_txt_pattern=\"\")\n",
    "\n",
    "# Enter your Instagram handle and password\n",
    "ACCOUNT = ''\n",
    "PASSWORD = ''\n",
    "\n",
    "# Upon successful authentication, you should see a message saying Authentication OK.\n",
    "# Otherwise, check your login details\n",
    "try:\n",
    "    loader.login(ACCOUNT, PASSWORD)\n",
    "    print(\"Authentication OK\")\n",
    "except:\n",
    "    print(\"Error during authentication\")\n"
   ]
  },
  {
   "cell_type": "code",
   "execution_count": null,
   "metadata": {
    "colab": {
     "base_uri": "https://localhost:8080/"
    },
    "executionInfo": {
     "elapsed": 60989,
     "status": "ok",
     "timestamp": 1612676875691,
     "user": {
      "displayName": "Jisun An",
      "photoUrl": "",
      "userId": "09226046566822916181"
     },
     "user_tz": -480
    },
    "id": "JCZx13BWA_TA",
    "outputId": "402a97c3-33b1-4147-81a2-e2e9691f533b"
   },
   "outputs": [],
   "source": [
    "location_id = \"363850430717323\"  # Universal Studios Singapore \n",
    "my_max_count = 5 # you can set maximum number of posts to download from a location\n",
    "loader.download_location(location_id, max_count=my_max_count)\n"
   ]
  },
  {
   "cell_type": "code",
   "execution_count": null,
   "metadata": {
    "id": "LTeaUKyAA_H8"
   },
   "outputs": [],
   "source": []
  },
  {
   "cell_type": "markdown",
   "metadata": {
    "id": "uHk7N4lJ9_jy"
   },
   "source": [
    "## 2. Create a Pandas Dataframe From JSON Metadata Files\n",
    "\n",
    "To analyse the downloaded Instagram post content e.g., text, it is recommended to convert the download json metadata files into a dataframe. \n",
    "\n",
    "#### Enter your path where the json files are stored\n",
    "(you can select any of the folders created by any of the above download process)"
   ]
  },
  {
   "cell_type": "code",
   "execution_count": null,
   "metadata": {
    "colab": {
     "base_uri": "https://localhost:8080/",
     "height": 35
    },
    "executionInfo": {
     "elapsed": 746,
     "status": "ok",
     "timestamp": 1612676900200,
     "user": {
      "displayName": "Jisun An",
      "photoUrl": "",
      "userId": "09226046566822916181"
     },
     "user_tz": -480
    },
    "id": "uPwXZecr9_jy",
    "outputId": "3622e871-7578-45bf-c29c-e5aeabb9a5a2"
   },
   "outputs": [],
   "source": [
    "# 'mypath' variable can be changed to your local path or Google Drive path\n",
    "mypath = \".\"\n",
    "\n",
    "# folder name where JSON metadata files are stored e.g, who\n",
    "folder_name='#coranavirus'\n",
    "\n",
    "# set the path of JSON files\n",
    "json_path = f'{mypath}/{folder_name}/'\n",
    "json_path"
   ]
  },
  {
   "cell_type": "markdown",
   "metadata": {
    "id": "somg84fF9_jy"
   },
   "source": [
    "#### Extract data from json\n",
    "\n",
    "The following code retrieves all the json filenames stored in the specified folder and extract content from the json structure of each file. You are recommended to open the json files and understand the structure. "
   ]
  },
  {
   "cell_type": "code",
   "execution_count": null,
   "metadata": {
    "colab": {
     "base_uri": "https://localhost:8080/"
    },
    "executionInfo": {
     "elapsed": 863,
     "status": "ok",
     "timestamp": 1612677107029,
     "user": {
      "displayName": "Jisun An",
      "photoUrl": "",
      "userId": "09226046566822916181"
     },
     "user_tz": -480
    },
    "id": "gV1SF1CP9_jz",
    "outputId": "fe4e4f5d-0bd4-453b-b22c-e43b09d40cf4"
   },
   "outputs": [],
   "source": [
    "import os, json\n",
    "import pprint\n",
    "\n",
    "# retrieve all filenames with .json extension located in the folder that you have provided\n",
    "json_files = [pos_json for pos_json in os.listdir(json_path) if pos_json.endswith('.json')]\n",
    "\n",
    "# iterate through the list of JSON files\n",
    "for js in json_files:\n",
    "        \n",
    "    # open and read each json file\n",
    "    with open(os.path.join(json_path, js)) as json_file:\n",
    "        json_text = json.load(json_file)\n",
    "        #pprint.pprint(json.text)\n",
    "        \n",
    "        try:\n",
    "            # Extract content from json\n",
    "            username = json_text['node']['owner']['username']\n",
    "            image_desc = json_text['node']['accessibility_caption']\n",
    "            text = json_text['node']['edge_media_to_caption']['edges'][0]['node']['text']\n",
    "            \n",
    "            print (f'Username: @{username}')\n",
    "            print (f'Image description: {image_desc}')\n",
    "            print (f'Caption: {text}')\n",
    "            print('='*80)\n",
    "        except:\n",
    "            continue\n",
    "        "
   ]
  },
  {
   "cell_type": "markdown",
   "metadata": {
    "id": "IFd2gD6_9_jz"
   },
   "source": [
    "#### Create dataframe from json metadata files\n",
    "\n",
    "Let's now write a function to convert the JSON metadata files found in the defined path into a dataframe:"
   ]
  },
  {
   "cell_type": "code",
   "execution_count": null,
   "metadata": {
    "executionInfo": {
     "elapsed": 797,
     "status": "ok",
     "timestamp": 1612677063098,
     "user": {
      "displayName": "Jisun An",
      "photoUrl": "",
      "userId": "09226046566822916181"
     },
     "user_tz": -480
    },
    "id": "qWOvNoMf9_jz"
   },
   "outputs": [],
   "source": [
    "import os, json\n",
    "import pandas as pd\n",
    "\n",
    "def convert_json_to_df(path_to_json):\n",
    "\n",
    "    # retrieve all filenames with .json extension located in path_to_json\n",
    "    json_files = [pos_json for pos_json in os.listdir(path_to_json) if pos_json.endswith('.json')]\n",
    "    \n",
    "    ## initialise list to store post details\n",
    "    post_list = []\n",
    "\n",
    "    # iterate through each json file\n",
    "    for js in json_files:\n",
    "        \n",
    "        # posts with comments have json files for the comments, we will pass it.        \n",
    "        if \"comments\" in js:\n",
    "            continue\n",
    "        \n",
    "        # open and read each json file\n",
    "        with open(os.path.join(path_to_json, js)) as json_file:\n",
    "            json_text = json.load(json_file)\n",
    "\n",
    "            # extract Instagram post information \n",
    "            username = json_text['node']['owner']['username']\n",
    "            image_desc = ''\n",
    "            try:\n",
    "                image_desc = json_text['node']['accessibility_caption']\n",
    "            except:\n",
    "                pass\n",
    "            text = json_text['node']['edge_media_to_caption']['edges'][0]['node']['text']\n",
    "\n",
    "\n",
    "            # append post_list with extracted post information\n",
    "            post_list.append([username, image_desc, text])\n",
    "            \n",
    "    # populate dataframe with list of tweets\n",
    "    df = pd.DataFrame(data=post_list,columns=['Username','Image','Caption'])\n",
    "    \n",
    "    return df"
   ]
  },
  {
   "cell_type": "code",
   "execution_count": null,
   "metadata": {
    "colab": {
     "base_uri": "https://localhost:8080/",
     "height": 204
    },
    "executionInfo": {
     "elapsed": 663,
     "status": "ok",
     "timestamp": 1612677063922,
     "user": {
      "displayName": "Jisun An",
      "photoUrl": "",
      "userId": "09226046566822916181"
     },
     "user_tz": -480
    },
    "id": "ZX7yhijh9_jz",
    "outputId": "dee21e05-4663-4d1a-b92b-f6906415ac58"
   },
   "outputs": [],
   "source": [
    "# Call the function to combine and convert JSON files found in the json_path into a dataframe\n",
    "df = convert_json_to_df(json_path)\n",
    "df.head()"
   ]
  },
  {
   "cell_type": "code",
   "execution_count": null,
   "metadata": {
    "colab": {
     "base_uri": "https://localhost:8080/",
     "height": 204
    },
    "executionInfo": {
     "elapsed": 2693,
     "status": "ok",
     "timestamp": 1612677077292,
     "user": {
      "displayName": "Jisun An",
      "photoUrl": "",
      "userId": "09226046566822916181"
     },
     "user_tz": -480
    },
    "id": "Nb-Et4fNCJCX",
    "outputId": "35b3d2a3-1784-4158-dad7-26572eec04b0"
   },
   "outputs": [],
   "source": [
    "# Call the function to combine and convert JSON files found in the json_path into a dataframe\n",
    "json_path = \"./%363850430717323\"\n",
    "df = convert_json_to_df(json_path)\n",
    "df.head()"
   ]
  },
  {
   "cell_type": "markdown",
   "metadata": {
    "id": "Lk_6twn8N2D4"
   },
   "source": [
    "### Exercise 1\n",
    "\n",
    "Using the `convert_json_to_df` function, add on the following details to the dataframe for each Instagram post:\n",
    "- post id \n",
    "- full name of the post owner\n",
    "- location name, if available\n",
    "- number of likes of the post\n",
    "- number of comments of the post\n",
    "\n",
    "Hint: Open and refer to the downloaded JSON file structures. "
   ]
  },
  {
   "cell_type": "code",
   "execution_count": null,
   "metadata": {
    "id": "9a8JQZPPN2D4"
   },
   "outputs": [],
   "source": [
    "## Enter your code below \n",
    "\n",
    "\n",
    "\n"
   ]
  },
  {
   "cell_type": "code",
   "execution_count": null,
   "metadata": {
    "id": "hDsJXcWs9_j1"
   },
   "outputs": [],
   "source": []
  },
  {
   "cell_type": "markdown",
   "metadata": {
    "id": "4165-PGB9_j1"
   },
   "source": [
    "### Exercise 2 \n",
    "\n",
    "1. Collect data from two or more locations. Your data will be stored in multiple folders now.\n",
    "2. Write a function that read data from multiple folders, extract the following information (`postid, username, user_fullname, location_name, nlikes, ncomments, image_desc, text`--same to one extracted in `convert_json_to_df` from Exercise 1) and store t in one list. You can name the function as `convert_json_to_df_from_multiple_folders` and the input of the function can be a list of input folders (`list_path_to_json`).\n",
    "3. Using the convert_json_to_df_from_multiple_folders, convert jsons in multiple folders into one df\n",
    "4. Try to compare the average likes of posts from different locations. Once you can identify the column of `NumLikes` from the df, you can use `mean()` to see the distribution of values. 'mean' would be the average value.  \n"
   ]
  },
  {
   "cell_type": "code",
   "execution_count": null,
   "metadata": {
    "id": "z-CY8xba9_j1",
    "outputId": "cdb2833a-3aba-458e-dbfc-c9ab7495002d"
   },
   "outputs": [],
   "source": [
    "# 1-1. Collecting data from Location 1\n",
    "location_id_1 = \"???\"\n",
    "my_max_count = ???\n",
    "\n",
    "# Write your code\n"
   ]
  },
  {
   "cell_type": "code",
   "execution_count": null,
   "metadata": {
    "colab": {
     "base_uri": "https://localhost:8080/"
    },
    "executionInfo": {
     "elapsed": 51994,
     "status": "ok",
     "timestamp": 1612677205138,
     "user": {
      "displayName": "Jisun An",
      "photoUrl": "",
      "userId": "09226046566822916181"
     },
     "user_tz": -480
    },
    "id": "Xpc1oWXW9_j1",
    "outputId": "10fc2ae9-a6aa-4293-ba30-ba0ddb0dfe11"
   },
   "outputs": [],
   "source": [
    "# 1-2. Collecting data from Location 2\n",
    "location_id_2 = \"???\"\n",
    "my_max_count = ???\n",
    "\n",
    "# Write your code\n"
   ]
  },
  {
   "cell_type": "code",
   "execution_count": null,
   "metadata": {
    "id": "5dDCA1lt9_j2"
   },
   "outputs": [],
   "source": [
    "# 2. Function that read data from multiple folders \n",
    "\n",
    "def convert_json_to_df_from_multiple_folders(list_path_to_json):\n",
    "\n",
    "# Write your code\n",
    "    \n",
    "    return df\n",
    "\n"
   ]
  },
  {
   "cell_type": "code",
   "execution_count": null,
   "metadata": {
    "colab": {
     "base_uri": "https://localhost:8080/",
     "height": 306
    },
    "executionInfo": {
     "elapsed": 787,
     "status": "ok",
     "timestamp": 1612677338662,
     "user": {
      "displayName": "Jisun An",
      "photoUrl": "",
      "userId": "09226046566822916181"
     },
     "user_tz": -480
    },
    "id": "nMPEqI9i9_j2",
    "outputId": "22db0ced-68ad-4ac8-8013-f7a0ca151bf1"
   },
   "outputs": [],
   "source": [
    "# 3. Convert jsons in multiple folders in one df\n",
    "\n",
    "# Write your code\n"
   ]
  },
  {
   "cell_type": "code",
   "execution_count": null,
   "metadata": {
    "colab": {
     "base_uri": "https://localhost:8080/"
    },
    "executionInfo": {
     "elapsed": 767,
     "status": "ok",
     "timestamp": 1612677346133,
     "user": {
      "displayName": "Jisun An",
      "photoUrl": "",
      "userId": "09226046566822916181"
     },
     "user_tz": -480
    },
    "id": "Qo5W1sZh9_j2",
    "outputId": "5f2652e1-fe38-4eda-9934-73ef727d8589"
   },
   "outputs": [],
   "source": [
    "# below will show different location names\n",
    "df['Location'].value_counts()"
   ]
  },
  {
   "cell_type": "code",
   "execution_count": null,
   "metadata": {
    "colab": {
     "base_uri": "https://localhost:8080/"
    },
    "executionInfo": {
     "elapsed": 778,
     "status": "ok",
     "timestamp": 1612677348112,
     "user": {
      "displayName": "Jisun An",
      "photoUrl": "",
      "userId": "09226046566822916181"
     },
     "user_tz": -480
    },
    "id": "8bHgv-Sx9_j2",
    "outputId": "67a5fe67-8018-4b5b-be93-5483be64be55"
   },
   "outputs": [],
   "source": [
    "# 4. Compare the average likes of posts from different locations\n",
    "\n",
    "# Write your code\n"
   ]
  },
  {
   "cell_type": "code",
   "execution_count": null,
   "metadata": {
    "id": "adNToGDN9_j2"
   },
   "outputs": [],
   "source": []
  },
  {
   "cell_type": "code",
   "execution_count": null,
   "metadata": {
    "id": "OHUqPSaF9_j3"
   },
   "outputs": [],
   "source": []
  },
  {
   "cell_type": "code",
   "execution_count": null,
   "metadata": {
    "id": "yzdcg0LY9_j3"
   },
   "outputs": [],
   "source": []
  },
  {
   "cell_type": "code",
   "execution_count": null,
   "metadata": {
    "id": "-rzQKsLK9_j3"
   },
   "outputs": [],
   "source": []
  },
  {
   "cell_type": "markdown",
   "metadata": {
    "id": "3dDGIbHD9_j3"
   },
   "source": [
    "## 3. Collect 100 Instagram posts & Do EDA"
   ]
  },
  {
   "cell_type": "code",
   "execution_count": null,
   "metadata": {
    "colab": {
     "base_uri": "https://localhost:8080/"
    },
    "executionInfo": {
     "elapsed": 3608,
     "status": "ok",
     "timestamp": 1612677936693,
     "user": {
      "displayName": "Jisun An",
      "photoUrl": "",
      "userId": "09226046566822916181"
     },
     "user_tz": -480
    },
    "id": "Uuu2pP069pAr",
    "outputId": "da4a9e17-0302-4341-f5da-fdf72dc6e6f2"
   },
   "outputs": [],
   "source": [
    "# We will collect jsons only without downloading picture or video\n",
    "# If you receive the following error --\"LoginRequiredException: Redirected to login page. Use --login.\"\n",
    "# please run this cell. \n",
    "\n",
    "import instaloader\n",
    "\n",
    "# Create an instance of Instaloader class\n",
    "loader = instaloader.Instaloader()\n",
    "\n",
    "# Enter your Instagram handle and password\n",
    "ACCOUNT = ''\n",
    "PASSWORD = ''\n",
    "\n",
    "# Upon successful authentication, you should see a message saying Authentication OK.\n",
    "# Otherwise, check your login details\n",
    "try:\n",
    "    loader.login(ACCOUNT, PASSWORD)\n",
    "    print(\"Authentication OK\")\n",
    "except:\n",
    "    print(\"Error during authentication\")\n",
    "    \n",
    "# customise the parameter settings based on your download preference\n",
    "# configuration \n",
    "loader = instaloader.Instaloader(download_pictures=False,\n",
    "                            download_video_thumbnails=False,\n",
    "                            download_videos=False,\n",
    "                            download_comments=False,\n",
    "                            compress_json=False,\n",
    "                            post_metadata_txt_pattern=\"\")\n"
   ]
  },
  {
   "cell_type": "code",
   "execution_count": null,
   "metadata": {
    "executionInfo": {
     "elapsed": 838,
     "status": "ok",
     "timestamp": 1612677690819,
     "user": {
      "displayName": "Jisun An",
      "photoUrl": "",
      "userId": "09226046566822916181"
     },
     "user_tz": -480
    },
    "id": "KhXGyvE29_j3"
   },
   "outputs": [],
   "source": [
    "# We will collect 100 posts. When you collect many posts, it'd be better to send queries slowly. \n",
    "# We will sleep for 3 secs in between queries using `time` library. \n",
    "\n",
    "import time\n",
    "\n",
    "def posts_hashtag_with_sleep(hashtag_name, max_count):\n",
    "    \"\"\"\n",
    "    A function that downloads {max_count} posts from a hashtag\n",
    "    \"\"\"\n",
    "    # Create a Hashtag instance from a given hashtag name\n",
    "    hashtag = instaloader.Hashtag.from_name(loader.context, hashtag_name)\n",
    "    # Get top posts in a generator\n",
    "    posts = hashtag.get_posts()\n",
    "    \n",
    "    for i in range(max_count):\n",
    "        try:\n",
    "            # Download one post structure at a time using next(posts) function\n",
    "            loader.download_post(next(posts), target=f'#{hashtag_name}')\n",
    "            time.sleep(3)\n",
    "        except:\n",
    "            break # If there are any errors, we break out of the loop\n",
    "          "
   ]
  },
  {
   "cell_type": "code",
   "execution_count": null,
   "metadata": {
    "colab": {
     "base_uri": "https://localhost:8080/",
     "height": 375
    },
    "executionInfo": {
     "elapsed": 5024,
     "status": "error",
     "timestamp": 1612677943858,
     "user": {
      "displayName": "Jisun An",
      "photoUrl": "",
      "userId": "09226046566822916181"
     },
     "user_tz": -480
    },
    "id": "C9G-TQ9z9_j3",
    "outputId": "8477c535-e125-4659-eba6-5b5f2a1de503",
    "scrolled": true
   },
   "outputs": [],
   "source": [
    "# Calling the function to retrieve 100 posts based on the hashtag defined\n",
    "# Below code will take some time. Let it run until it finishes. \n",
    "HASHTAG = \"sgfood\"\n",
    "posts_hashtag_with_sleep(HASHTAG, 100)\n"
   ]
  },
  {
   "cell_type": "markdown",
   "metadata": {},
   "source": [
    "Backup data"
   ]
  },
  {
   "cell_type": "code",
   "execution_count": null,
   "metadata": {
    "colab": {
     "base_uri": "https://localhost:8080/"
    },
    "executionInfo": {
     "elapsed": 2035,
     "status": "ok",
     "timestamp": 1612679754443,
     "user": {
      "displayName": "Jisun An",
      "photoUrl": "",
      "userId": "09226046566822916181"
     },
     "user_tz": -480
    },
    "id": "BZ_HbuCCHE7T",
    "outputId": "e1c5fa0f-bf43-4e1a-f43c-201feb1f98ae"
   },
   "outputs": [],
   "source": [
    "# # If Instagram blocks you, please download the dataset using below code \n",
    "# # Download sample instagram dataset! \n",
    "# !npx degit anjisun221/css_codes/sample_data/#main jsondatasets  -f"
   ]
  },
  {
   "cell_type": "code",
   "execution_count": null,
   "metadata": {
    "id": "pcfFaPOaHEjO"
   },
   "outputs": [],
   "source": []
  },
  {
   "cell_type": "code",
   "execution_count": null,
   "metadata": {
    "id": "fakFUAqt9_j4"
   },
   "outputs": [],
   "source": [
    "# If you want to read all texts\n",
    "pd.set_option('display.max_colwidth', 150)\n"
   ]
  },
  {
   "cell_type": "code",
   "execution_count": null,
   "metadata": {
    "colab": {
     "base_uri": "https://localhost:8080/",
     "height": 221
    },
    "executionInfo": {
     "elapsed": 765,
     "status": "ok",
     "timestamp": 1612679804585,
     "user": {
      "displayName": "Jisun An",
      "photoUrl": "",
      "userId": "09226046566822916181"
     },
     "user_tz": -480
    },
    "id": "satsZUQk9_j4",
    "outputId": "ffbe0a47-ccf5-49c3-91dc-e5735b6e8824"
   },
   "outputs": [],
   "source": [
    "# Call the function to combine and convert JSON files found in the json_path into a dataframe\n",
    "json_path = \"./#sgfood\"\n",
    "# json_path = \"./jsondatasets/#sgfood\" # Using below, if you're using downloaded dataset\n",
    "df = convert_json_to_df(json_path)\n",
    "print(df.shape)\n",
    "df.head()\n"
   ]
  },
  {
   "cell_type": "markdown",
   "metadata": {
    "id": "_I3Y6wgh9_j4"
   },
   "source": [
    "#### Let's extract hashtags from caption using regular expression.\n",
    "\n",
    "In the below example, we use `lambda` which is an anonymous function, a function that is defined without a name. \n",
    "A addone function is expressed with a standard Python function definition using the keyword def as follows:\n",
    "\n",
    "```\n",
    "def addone(x):\n",
    "    return x+1\n",
    "```\n",
    "\n",
    "where addone() takes an argument x and returns x+1 upon invocation.\n",
    "\n",
    "If you use a Python lambda construction, you get the following:\n",
    "\n",
    "```lambda x: x+1```\n"
   ]
  },
  {
   "cell_type": "code",
   "execution_count": null,
   "metadata": {
    "colab": {
     "base_uri": "https://localhost:8080/",
     "height": 289
    },
    "executionInfo": {
     "elapsed": 838,
     "status": "ok",
     "timestamp": 1612679809970,
     "user": {
      "displayName": "Jisun An",
      "photoUrl": "",
      "userId": "09226046566822916181"
     },
     "user_tz": -480
    },
    "id": "n57bvIZT9_j4",
    "outputId": "aa3f4cbe-0414-4b46-a6d0-3df59757452a"
   },
   "outputs": [],
   "source": [
    "import re\n",
    "df['hashtags'] = df['Caption'].apply(lambda x: re.findall(r\"#(\\w+)\", x))\n",
    "df.head()\n"
   ]
  },
  {
   "cell_type": "code",
   "execution_count": null,
   "metadata": {
    "executionInfo": {
     "elapsed": 862,
     "status": "ok",
     "timestamp": 1612679813443,
     "user": {
      "displayName": "Jisun An",
      "photoUrl": "",
      "userId": "09226046566822916181"
     },
     "user_tz": -480
    },
    "id": "DNjpBAvo9_j7"
   },
   "outputs": [],
   "source": [
    "# Since hashtags is a list, we can simple iterate each of hashtag to count them. \n",
    "from collections import defaultdict\n",
    "\n",
    "h2c = defaultdict(int)\n",
    "for hashtags in df['hashtags']:\n",
    "    for h in hashtags:\n",
    "        h2c[h] += 1"
   ]
  },
  {
   "cell_type": "code",
   "execution_count": null,
   "metadata": {
    "colab": {
     "base_uri": "https://localhost:8080/"
    },
    "executionInfo": {
     "elapsed": 1132,
     "status": "ok",
     "timestamp": 1612679821167,
     "user": {
      "displayName": "Jisun An",
      "photoUrl": "",
      "userId": "09226046566822916181"
     },
     "user_tz": -480
    },
    "id": "Emq6qoOq9_j8",
    "outputId": "bdbf216d-807e-487a-cfce-89920995c2bb"
   },
   "outputs": [],
   "source": [
    "# operator can be used to sort the keys based on their values\n",
    "import operator\n",
    "for (h, c) in sorted(h2c.items(), key=operator.itemgetter(1), reverse=True)[:20]:\n",
    "    print (h,c)"
   ]
  },
  {
   "cell_type": "code",
   "execution_count": null,
   "metadata": {
    "id": "3t2UoCy59_j8"
   },
   "outputs": [],
   "source": []
  },
  {
   "cell_type": "code",
   "execution_count": null,
   "metadata": {
    "id": "nZnJtEkQ9_j8"
   },
   "outputs": [],
   "source": []
  },
  {
   "cell_type": "markdown",
   "metadata": {
    "id": "nnRb4s5E9_j8"
   },
   "source": [
    "### Exercise 3 \n",
    "\n",
    "Let's count the words and find the top 30 words by ranking the words. \n",
    "\n",
    "We will first clean our text using function from Lab 4. Below code will add `cleaned_text` column to our df. \n",
    "\n",
    "You can use the codes for counting hashtags, but note that cleaned_text is not in the list, but string. You will need to split text into words by using `split()`.\n"
   ]
  },
  {
   "cell_type": "code",
   "execution_count": null,
   "metadata": {
    "colab": {
     "base_uri": "https://localhost:8080/",
     "height": 340
    },
    "executionInfo": {
     "elapsed": 2221,
     "status": "ok",
     "timestamp": 1612679825203,
     "user": {
      "displayName": "Jisun An",
      "photoUrl": "",
      "userId": "09226046566822916181"
     },
     "user_tz": -480
    },
    "id": "-tj8NFi-9_j8",
    "outputId": "3cee648a-fc83-4ca6-97df-ec77ca402ddb"
   },
   "outputs": [],
   "source": [
    "# Below is the code from Lab 4, cleaning our text and will add cleaned_text column.\n",
    "import re \n",
    "import string\n",
    "import nltk\n",
    "nltk.download('stopwords')\n",
    "\n",
    "from nltk.corpus import stopwords\n",
    "stop = stopwords.words('english')\n",
    "\n",
    "def clean_text_round1(text):\n",
    "    '''Make text lowercase, remove punctuation and remove words containing numbers.'''\n",
    "    text = text.lower()\n",
    "    text = re.sub('#\\w*', '', text)\n",
    "    text = re.sub('@\\w*', '', text)    \n",
    "    text = re.sub('[%s]' % re.escape(string.punctuation), '', text)\n",
    "    text = re.sub('\\w*\\d\\w*', '', text)\n",
    "    text = ' '.join([word for word in text.split() if word not in (stop)])\n",
    "    return text\n",
    "\n",
    "# Let's take a look at the updated text\n",
    "df['clean_text'] = pd.DataFrame(df['Caption'].apply(clean_text_round1))\n",
    "df.head()\n"
   ]
  },
  {
   "cell_type": "code",
   "execution_count": null,
   "metadata": {
    "executionInfo": {
     "elapsed": 761,
     "status": "ok",
     "timestamp": 1612679827313,
     "user": {
      "displayName": "Jisun An",
      "photoUrl": "",
      "userId": "09226046566822916181"
     },
     "user_tz": -480
    },
    "id": "PXb8KmJ79_j8"
   },
   "outputs": [],
   "source": [
    "# Read clean_text and iterate each line to split and count words. \n",
    "\n",
    "# Write your code \n"
   ]
  },
  {
   "cell_type": "code",
   "execution_count": null,
   "metadata": {
    "colab": {
     "base_uri": "https://localhost:8080/"
    },
    "executionInfo": {
     "elapsed": 758,
     "status": "ok",
     "timestamp": 1612679829194,
     "user": {
      "displayName": "Jisun An",
      "photoUrl": "",
      "userId": "09226046566822916181"
     },
     "user_tz": -480
    },
    "id": "s8vszU2I9_j9",
    "outputId": "6ce05ca4-fde4-4cb8-bb93-16c36a7417e6",
    "scrolled": true
   },
   "outputs": [],
   "source": [
    "# Print the top 30 words based on their counts. \n",
    "\n",
    "# Write your code \n",
    "    "
   ]
  },
  {
   "cell_type": "code",
   "execution_count": null,
   "metadata": {
    "id": "KXjxn9yJ9_j9"
   },
   "outputs": [],
   "source": []
  },
  {
   "cell_type": "markdown",
   "metadata": {
    "id": "yBcPTVqQ9_j9"
   },
   "source": [
    "### Exercise 4\n",
    "\n",
    "Draw scatter plot for comparing number of likes vs number of comments.\n",
    "\n",
    "If you're using matplotlib, you can do it in one line ;) \n",
    "\n",
    "You can use matplotlib, seaborn, plotly, anything as you want. \n"
   ]
  },
  {
   "cell_type": "code",
   "execution_count": null,
   "metadata": {
    "colab": {
     "base_uri": "https://localhost:8080/",
     "height": 317
    },
    "executionInfo": {
     "elapsed": 869,
     "status": "error",
     "timestamp": 1612679833214,
     "user": {
      "displayName": "Jisun An",
      "photoUrl": "",
      "userId": "09226046566822916181"
     },
     "user_tz": -480
    },
    "id": "CU-GpP2i9_j9",
    "outputId": "176a0845-6664-4809-91b3-4f89995f075c"
   },
   "outputs": [],
   "source": [
    "# Write your code \n"
   ]
  },
  {
   "cell_type": "code",
   "execution_count": null,
   "metadata": {
    "id": "gX19o-Cm9_j9"
   },
   "outputs": [],
   "source": []
  },
  {
   "cell_type": "code",
   "execution_count": null,
   "metadata": {
    "id": "o4Xn75lG9_j9"
   },
   "outputs": [],
   "source": []
  },
  {
   "cell_type": "code",
   "execution_count": null,
   "metadata": {
    "id": "IXvOExdh9_j9"
   },
   "outputs": [],
   "source": []
  },
  {
   "cell_type": "code",
   "execution_count": null,
   "metadata": {
    "id": "oljjblr09_j-"
   },
   "outputs": [],
   "source": []
  },
  {
   "cell_type": "code",
   "execution_count": null,
   "metadata": {
    "id": "1aXSxJbr9_j-"
   },
   "outputs": [],
   "source": []
  }
 ],
 "metadata": {
  "colab": {
   "collapsed_sections": [],
   "name": "Lab5_Instagram_API.ipynb",
   "provenance": [],
   "toc_visible": true
  },
  "kernelspec": {
   "display_name": "Python 3",
   "language": "python",
   "name": "python3"
  },
  "language_info": {
   "codemirror_mode": {
    "name": "ipython",
    "version": 3
   },
   "file_extension": ".py",
   "mimetype": "text/x-python",
   "name": "python",
   "nbconvert_exporter": "python",
   "pygments_lexer": "ipython3",
   "version": "3.8.5"
  }
 },
 "nbformat": 4,
 "nbformat_minor": 1
}
